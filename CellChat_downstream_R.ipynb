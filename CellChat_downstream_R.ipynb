{
 "cells": [
  {
   "cell_type": "code",
   "execution_count": 1,
   "id": "43c3a2df",
   "metadata": {
    "scrolled": true
   },
   "outputs": [
    {
     "name": "stderr",
     "output_type": "stream",
     "text": [
      "Attaching SeuratObject\n",
      "\n",
      "Loading required package: dplyr\n",
      "\n",
      "\n",
      "Attaching package: ‘dplyr’\n",
      "\n",
      "\n",
      "The following objects are masked from ‘package:stats’:\n",
      "\n",
      "    filter, lag\n",
      "\n",
      "\n",
      "The following objects are masked from ‘package:base’:\n",
      "\n",
      "    intersect, setdiff, setequal, union\n",
      "\n",
      "\n",
      "Loading required package: igraph\n",
      "\n",
      "\n",
      "Attaching package: ‘igraph’\n",
      "\n",
      "\n",
      "The following objects are masked from ‘package:dplyr’:\n",
      "\n",
      "    as_data_frame, groups, union\n",
      "\n",
      "\n",
      "The following objects are masked from ‘package:stats’:\n",
      "\n",
      "    decompose, spectrum\n",
      "\n",
      "\n",
      "The following object is masked from ‘package:base’:\n",
      "\n",
      "    union\n",
      "\n",
      "\n",
      "Loading required package: ggplot2\n",
      "\n",
      "Loading required package: grid\n",
      "\n",
      "========================================\n",
      "ComplexHeatmap version 2.8.0\n",
      "Bioconductor page: http://bioconductor.org/packages/ComplexHeatmap/\n",
      "Github page: https://github.com/jokergoo/ComplexHeatmap\n",
      "Documentation: http://jokergoo.github.io/ComplexHeatmap-reference\n",
      "\n",
      "If you use it in published research, please cite:\n",
      "Gu, Z. Complex heatmaps reveal patterns and correlations in multidimensional \n",
      "  genomic data. Bioinformatics 2016.\n",
      "\n",
      "The new InteractiveComplexHeatmap package can directly export static \n",
      "complex heatmaps into an interactive Shiny app with zero effort. Have a try!\n",
      "\n",
      "This message can be suppressed by:\n",
      "  suppressPackageStartupMessages(library(ComplexHeatmap))\n",
      "========================================\n",
      "\n",
      "\n",
      "\n",
      "Attaching package: ‘pheatmap’\n",
      "\n",
      "\n",
      "The following object is masked from ‘package:ComplexHeatmap’:\n",
      "\n",
      "    pheatmap\n",
      "\n",
      "\n",
      "\n",
      "Attaching package: ‘gridExtra’\n",
      "\n",
      "\n",
      "The following object is masked from ‘package:Biobase’:\n",
      "\n",
      "    combine\n",
      "\n",
      "\n",
      "The following object is masked from ‘package:BiocGenerics’:\n",
      "\n",
      "    combine\n",
      "\n",
      "\n",
      "The following object is masked from ‘package:dplyr’:\n",
      "\n",
      "    combine\n",
      "\n",
      "\n"
     ]
    }
   ],
   "source": [
    "library(Seurat)\n",
    "# library(harmony)\n",
    "library(CellChat)\n",
    "library(ggplot2)\n",
    "library(dplyr)\n",
    "library(ComplexHeatmap)\n",
    "library(pheatmap)\n",
    "library(ggrepel)\n",
    "library(readxl)\n",
    "library(gridExtra)\n",
    "\n",
    "\n",
    "ggstyle = theme_bw()+theme(\n",
    "            axis.line = element_line(colour = \"black\"),\n",
    "            panel.grid.major = element_blank(),\n",
    "            panel.grid.minor = element_blank(),\n",
    "            panel.border = element_blank(),\n",
    "            panel.background = element_blank(),\n",
    "            axis.text.x=element_text(angle = 45, vjust = 1, hjust = 1, size=12, colour = \"black\"),\n",
    "            axis.text.y=element_text(size=12, colour = \"black\"),\n",
    "            text=element_text(size=12, colour = \"black\"),\n",
    "            legend.title = element_blank(),legend.text=element_text(size=12),\n",
    "            plot.title = element_text(size = 14, hjust=0.5,vjust = 0.5, \n",
    "            margin = margin(l=100,r=50,t=10,b=10),face = \"bold\", colour = \"black\"))\n",
    "\n",
    "colmap = c('Adipocytes'= '#1f77b4',\n",
    "         'Basophils'= '#aec7e8',\n",
    "         'Bcells'= '#ff7f0e',\n",
    "         'CD4T'='#ffbb78',\n",
    "         'CD8T'= '#2ca02c',\n",
    "         'Cytotoxic_T'= '#98df8a',\n",
    "         'EC'= '#d62728',\n",
    "         'Erythroid-like'= '#ff9896',\n",
    "         'ILC2s'= '#9467bd',\n",
    "         'Lymph_EC'='#c5b0d5',\n",
    "         'MSC'='#8c564b',\n",
    "         'Macrophages'='#c49c94',\n",
    "         'NK'='#e377c2',\n",
    "         'NMSC'='#f7b6d2',\n",
    "         'Neutrophils'='#7f7f7f',\n",
    "         'Pdgfra_APC'='#c7c7c7',\n",
    "         'Pericytes'='#bcbd22',\n",
    "         'Platelets'='#dbdb8d',\n",
    "         'Treg'='#17becf',\n",
    "         'VSM'='#9edae5')\n",
    "\n",
    "\n"
   ]
  },
  {
   "cell_type": "code",
   "execution_count": 2,
   "id": "bda34820",
   "metadata": {},
   "outputs": [],
   "source": [
    "## all cell\n",
    "cc_ct_allcell = readRDS('../cellchat/allcell_updated_celltype_updated_cellchat.newrun.rds')\n"
   ]
  },
  {
   "cell_type": "code",
   "execution_count": 19,
   "id": "078a0527",
   "metadata": {},
   "outputs": [],
   "source": [
    "## plot network\n",
    "netPlot = function(obj, title='', source_cell = c(), target_cell = c(), cells = c()){\n",
    "    df <- as.data.frame(subsetCommunication(obj, thresh = 1))\n",
    "    df.net <- subset(df, pval < 0.05)\n",
    "    if (length(source_cell) != 0){\n",
    "        df.net = subset(df.net, source %in% source_cell)\n",
    "    }\n",
    "    if (length(target_cell) != 0){\n",
    "        df.net = subset(df.net, target %in% target_cell)\n",
    "    }\n",
    "    if (length(cells) != 0){\n",
    "        df.net = subset(df.net, target %in% cells | source %in% cells)\n",
    "    }\n",
    "    groupSize <- as.numeric(table(c(df.net$source, df.net$target)))\n",
    "    dc = as.data.frame(table(df.net[,c('source', 'target')]))\n",
    "    dc = reshape2::acast(dc, formula = source ~ target)\n",
    "    dc = dc[sort(rownames(dc)), sort(rownames(dc))]\n",
    "    g = netVisual_circle(dc, vertex.weight = groupSize, vertex.weight.max = 1000,\n",
    "                     weight.scale = T, label.edge= F, title.name = paste0(title, \"\\nNumber of interactions\"),\n",
    "                        alpha = .4, color.use = colmap)\n",
    "    df.net$uniq_label = apply(df.net[,c('source', 'target', 'interaction_name')], 1, function(x){paste0(x, collapse = '~')})\n",
    "    return(df)\n",
    "}\n"
   ]
  },
  {
   "cell_type": "code",
   "execution_count": 167,
   "id": "34149c37",
   "metadata": {},
   "outputs": [
    {
     "name": "stderr",
     "output_type": "stream",
     "text": [
      "Using Freq as value column: use value.var to override.\n",
      "\n"
     ]
    },
    {
     "data": {
      "text/html": [
       "<strong>png:</strong> 2"
      ],
      "text/latex": [
       "\\textbf{png:} 2"
      ],
      "text/markdown": [
       "**png:** 2"
      ],
      "text/plain": [
       "png \n",
       "  2 "
      ]
     },
     "metadata": {},
     "output_type": "display_data"
    }
   ],
   "source": [
    "## number of interactions in circle plot\n",
    "pdf('plots/cellchat_pool_allcells/circlePlot.pdf')\n",
    "res = netPlot(cc_ct_allcell, 'All Cells', source_cell = c())\n",
    "dev.off()\n"
   ]
  },
  {
   "cell_type": "code",
   "execution_count": 3,
   "id": "2d43a358",
   "metadata": {},
   "outputs": [],
   "source": [
    "## total interaction\n",
    "df <- as.data.frame(subsetCommunication(cc_ct_allcell, thresh = 1))\n",
    "df.net <- subset(df, pval < 0.05)\n",
    "\n",
    "df.count <- as.data.frame(table(df.net[,c('source', 'target')]))\n",
    "colnames(df.count)[3] = 'InterNum'\n",
    "df.count[df.count==0] = NA\n",
    "# df.count$InterNum = as.integer(df.count$InterNum)\n",
    "# df.count <- reshape2::acast(df.count, source ~ target) \n",
    "\n",
    "color.use = c(\"blue\",\"red\")\n",
    "# color.use<-RColorBrewer::brewer.pal(n = 10, name = color.use)\n",
    "\n",
    "g = ggplot(data = df.count) + \n",
    "    geom_point(aes(x = source, y = target, size = InterNum, color = InterNum))+\n",
    "    scale_color_gradient2(midpoint = 20, high = 'red', mid = 'yellow', low = '#1C86EE')+\n",
    "    theme_bw()+theme(panel.grid.major = element_blank(), panel.grid.minor = element_blank(),\n",
    "            panel.border = element_rect(colour = \"black\", fill=NA, size=1.2),\n",
    "            axis.text.x=element_text(angle = 45, vjust = 1, hjust = 1, size=12, colour = \"black\"),\n",
    "            axis.text.y=element_text(size=12, colour = \"black\"),\n",
    "                text=element_text(size=12, colour = \"black\"),\n",
    "            legend.title = element_blank(),legend.text=element_text(size=12),\n",
    "            plot.title = element_text(size = 14, hjust=0.5,vjust = 0.5, \n",
    "            margin = margin(l=100,r=50,t=10,b=10),face = \"bold\", colour = \"black\"))+\n",
    "    xlab('Sender')+ylab('Receiver')\n",
    "\n",
    "pdf('plots/cellchat_pool_allcells/interaction_dotplot.pdf', width = 7, height = 5)\n",
    "print(g)\n",
    "dev.off()\n",
    "\n"
   ]
  },
  {
   "cell_type": "code",
   "execution_count": 8,
   "id": "f5a10e8d",
   "metadata": {},
   "outputs": [],
   "source": [
    "## number of interaction for each cell type\n",
    "source_df = as.data.frame(table(df.net[,c('source')]))\n",
    "# reshape2::melt(plot_df, value.name = 'Freq')\n",
    "source_df$Type = 'Sender'\n",
    "target_df = as.data.frame(table(df.net[,c('target')]))\n",
    "# reshape2::melt(plot_df, value.name = 'Freq')\n",
    "target_df$Type = 'Receiver'\n",
    "\n",
    "plot_df = rbind(source_df, target_df)\n",
    "colnames(plot_df) = c('Cell_type', 'Count', 'Type')\n",
    "g = ggplot(data = plot_df,\n",
    "       aes(x = reorder(Cell_type, -Count), y = Count, fill = Type))+\n",
    "       geom_bar(stat = 'identity', position = position_dodge(width = .9))+ggstyle+\n",
    "    scale_fill_manual(values = c('Sender'='navy', 'Receiver'='darkred'))+\n",
    "    xlab('')+ylab('Number of Communications')\n",
    "pdf('plots/cellchat_pool_allcells/commu_count_by_celltype.pdf', width = 6.5, height = 5)\n",
    "print(g)\n",
    "dev.off()\n"
   ]
  },
  {
   "cell_type": "code",
   "execution_count": 6,
   "id": "099b670f",
   "metadata": {},
   "outputs": [],
   "source": [
    "## different type of interactions\n",
    "cc_ct_allcell.df <- as.data.frame(subsetCommunication(cc_ct_allcell, thresh = 1))\n",
    "cc_ct_allcell.df.sign = as.data.frame(as.matrix(subset(cc_ct_allcell.df, pval < 0.05)))\n",
    "\n",
    "df <- cc_ct_allcell.df.sign %>% \n",
    "  group_by(annotation) %>% # Variable to be transformed\n",
    "  count() %>% \n",
    "  ungroup() %>% \n",
    "  mutate(perc = `n` / sum(`n`)) %>% \n",
    "  arrange(perc) %>%\n",
    "  mutate(labels = scales::percent(perc))\n",
    "\n",
    "pdf('plots/cellchat_pool_allcells/communication_type.pdf', width = 4, height = 4)\n",
    "g = ggplot(df, aes(x = \"\", y = perc, fill = annotation)) +\n",
    "  geom_col(color = \"black\") +\n",
    "  geom_label(aes(label = labels), color = c(\"white\", 1, 1),\n",
    "            position = position_stack(vjust = 0.5),\n",
    "            show.legend = FALSE) +\n",
    "  guides(fill = guide_legend(title = \"Communication Type\")) +\n",
    "  scale_fill_viridis_d() +\n",
    "  coord_polar(theta = \"y\") + \n",
    "  theme_void()+labs(title = 'Prediction')\n",
    "print(g)\n",
    "dev.off()\n",
    "\n",
    "## interaction type in background (CellChatDB)\n",
    "\n",
    "df <- cc_ct_allcell@DB$interaction %>% \n",
    "  group_by(annotation) %>% # Variable to be transformed\n",
    "  count() %>% \n",
    "  ungroup() %>% \n",
    "  mutate(perc = `n` / sum(`n`)) %>% \n",
    "  arrange(perc) %>%\n",
    "  mutate(labels = scales::percent(perc))\n",
    "\n",
    "pdf('plots/cellchat_pool_allcells/communication_type_database.pdf', width = 4, height = 4)\n",
    "g = ggplot(df, aes(x = \"\", y = perc, fill = annotation)) +\n",
    "  geom_col(color = \"black\") +\n",
    "  geom_label(aes(label = labels), color = c(\"white\", 1, 1),\n",
    "            position = position_stack(vjust = 0.5),\n",
    "            show.legend = FALSE) +\n",
    "  guides(fill = guide_legend(title = \"Communication Type\")) +\n",
    "  scale_fill_viridis_d() +\n",
    "  coord_polar(theta = \"y\") + \n",
    "  theme_void()+labs(title = 'Background')\n",
    "print(g)\n",
    "dev.off()\n",
    "\n"
   ]
  },
  {
   "cell_type": "markdown",
   "id": "4378e08e",
   "metadata": {},
   "source": [
    "## compare conditions"
   ]
  },
  {
   "cell_type": "code",
   "execution_count": 17,
   "id": "53347807",
   "metadata": {},
   "outputs": [],
   "source": [
    "cellchat_all.new = readRDS('../cellchat/allcell_updated_celltype_cond_updated_cellchat.newrun.rds')\n",
    "df <- as.data.frame(subsetCommunication(cellchat_all.new, thresh = 1))\n",
    "df$source_cond = do.call(rbind, strsplit(as.vector(df$source), '\\\\~'))[,2]\n",
    "df$target_cond = do.call(rbind, strsplit(as.vector(df$target), '\\\\~'))[,2]\n",
    "df = subset(df, source_cond == target_cond)\n",
    "## remove adipocytes in TN, RT, and cold7, their number of cells less than 50\n",
    "remove_cells = c('Adipocytes~TN', 'Adipocytes~RT', 'Adipocytes~cold7')\n",
    "df = subset(df, !source %in% remove_cells & !target %in% remove_cells)\n"
   ]
  },
  {
   "cell_type": "code",
   "execution_count": 6,
   "id": "db69f5fc",
   "metadata": {},
   "outputs": [
    {
     "data": {
      "text/plain": [
       "       cell_type\n",
       "cond    Adipocytes Basophils Bcells  CD4T  CD8T Cytotoxic_T    EC\n",
       "  RT            49       147   7751  1801  1690         369  1537\n",
       "  TN             3       191  10508  2758  3258        1041  2173\n",
       "  cold2        948       285  14929  2411  2466         751  1339\n",
       "  cold7         27       154   9075  1776  2009         375   634\n",
       "       cell_type\n",
       "cond    Erythroid-like ILC2s Lymph_EC   MSC Macrophages    NK  NMSC Neutrophils\n",
       "  RT               387   219       90   181         468   983   156         251\n",
       "  TN               398    88       81    87        1110  1896   186         328\n",
       "  cold2            662   189      172   223         959  2355   290         680\n",
       "  cold7            640   109      103    94         425  1609   315         224\n",
       "       cell_type\n",
       "cond    Pdgfra_APC Pericytes Platelets  Treg   VSM\n",
       "  RT           420       172       116   244  5095\n",
       "  TN           774       219        72   848  6087\n",
       "  cold2       1079       255       279   382  2816\n",
       "  cold7        512       493       158   256   989"
      ]
     },
     "metadata": {},
     "output_type": "display_data"
    }
   ],
   "source": [
    "table(cellchat_all.new@meta[,c('cond', 'cell_type')])\n"
   ]
  },
  {
   "cell_type": "code",
   "execution_count": 3,
   "id": "41cac071",
   "metadata": {
    "scrolled": true
   },
   "outputs": [
    {
     "name": "stderr",
     "output_type": "stream",
     "text": [
      "Using Freq as value column: use value.var to override.\n",
      "\n",
      "Using Freq as value column: use value.var to override.\n",
      "\n",
      "Using Freq as value column: use value.var to override.\n",
      "\n",
      "Using Freq as value column: use value.var to override.\n",
      "\n"
     ]
    },
    {
     "data": {
      "text/html": [
       "<strong>png:</strong> 2"
      ],
      "text/latex": [
       "\\textbf{png:} 2"
      ],
      "text/markdown": [
       "**png:** 2"
      ],
      "text/plain": [
       "png \n",
       "  2 "
      ]
     },
     "metadata": {},
     "output_type": "display_data"
    }
   ],
   "source": [
    "## circle plot for each condition\n",
    "pdf('plots/cellchat_condition_allcells/CellChat_NetPlot_updated.pdf')\n",
    "LR_net = list()\n",
    "for (condition in c('TN', 'RT', 'cold2', 'cold7')){\n",
    "    title=condition\n",
    "    tdf = subset(df, source_cond == condition & target_cond == condition & pval < 0.05)\n",
    "    tdf$source = gsub(paste0('~', condition), '', tdf$source)\n",
    "    tdf$target = gsub(paste0('~', condition), '', tdf$target)\n",
    "    if (condition != 'cold2'){\n",
    "        tdf$source = factor(tdf$source, levels = sort(c(unique(tdf$source), 'Adipocytes')))\n",
    "        tdf$target = factor(tdf$target, levels = sort(c(unique(tdf$target), 'Adipocytes')))\n",
    "    }\n",
    "#     tdf = as.data.frame(as.matrix(tdf))\n",
    "    groupSize <- table(c(tdf$source, tdf$target))\n",
    "    dc = as.data.frame(table(tdf[,c('source', 'target')]))\n",
    "    dc = reshape2::acast(dc, formula = source ~ target)\n",
    "    dc = dc[sort(rownames(dc)), sort(rownames(dc))]\n",
    "    colnames(dc) = gsub(paste0('~', condition), '', colnames(dc))\n",
    "    rownames(dc) = gsub(paste0('~', condition), '', rownames(dc))\n",
    "    ##\n",
    "    if (condition != 'cold2'){\n",
    "        dc = dc[-which(rownames(dc) == 'Adipocytes'), -which(colnames(dc) == 'Adipocytes')]\n",
    "    }\n",
    "    g = netVisual_circle(dc, vertex.weight = groupSize[rownames(dc)], vertex.weight.max = 1000,\n",
    "                     weight.scale = T, label.edge= F, title.name = paste0(title, \"\\nNumber of interactions\"),\n",
    "                        alpha = .4, color.use = colmap[rownames(dc)])#[unique(c(tdf$source, tdf$target))])\n",
    "    LR_net[[condition]] = tdf\n",
    "}\n",
    "dev.off()\n",
    "\n",
    "\n"
   ]
  },
  {
   "cell_type": "code",
   "execution_count": 173,
   "id": "ed51b380",
   "metadata": {},
   "outputs": [
    {
     "data": {
      "text/html": [
       "<strong>png:</strong> 2"
      ],
      "text/latex": [
       "\\textbf{png:} 2"
      ],
      "text/markdown": [
       "**png:** 2"
      ],
      "text/plain": [
       "png \n",
       "  2 "
      ]
     },
     "metadata": {},
     "output_type": "display_data"
    }
   ],
   "source": [
    "## how many out-going for each celltype in conditions\n",
    "outgoing_count = do.call(rbind, lapply(LR_net, function(df) table(df$source)))\n",
    "chi_t = p.adjust(apply(outgoing_count, 2, function(x){chisq.test(x)$p.value}))\n",
    "chi_t = format(chi_t, digits = 2, scientific = T)\n",
    "outgoing_count_plot = outgoing_count\n",
    "rownames(outgoing_count_plot) = c('TN', 'RT', 'Cold_2', 'Cold_7')\n",
    "colnames(outgoing_count_plot) = sapply(colnames(outgoing_count_plot), function(x){\n",
    "        paste0(x, ' [p=', chi_t[x], ']')\n",
    "})                              \n",
    "                                       \n",
    "incoming_count = do.call(rbind, lapply(LR_net, function(df) table(df$target)))\n",
    "chi_t = p.adjust(apply(incoming_count, 2, function(x){chisq.test(x)$p.value}))\n",
    "chi_t = format(chi_t, digits = 2, scientific = T)\n",
    "incoming_count_plot = incoming_count\n",
    "rownames(incoming_count_plot) = c('TN', 'RT', 'Cold_2', 'Cold_7')\n",
    "colnames(incoming_count_plot) = sapply(colnames(incoming_count_plot), function(x){\n",
    "    paste0(x, ' [p=', chi_t[x], ']')\n",
    "})                              \n",
    "                      \n",
    "col_fun = circlize::colorRamp2(c(0, 50, 100, 400, 600, 900), c('grey', 'pink', 'purple', \n",
    "                                                               'blue', 'darkorange', 'red'))\n",
    "#                                rev(c(rainbow(6)[2:6], 'grey')))\n",
    "              \n",
    "pdf('plots/cellchat_condition_allcells/outgoing_incoming_commu_count_ht.pdf', height = 6, width = 7)\n",
    "Heatmap(t(outgoing_count_plot), name = \"Outgoing Interaction\", cluster_columns = F, cluster_rows = T, col = col_fun,\n",
    "    cell_fun = function(j, i, x, y, width, height, fill) {\n",
    "        grid.text(sprintf(\"%.0f\", t(outgoing_count_plot)[i, j]), x, y, gp = gpar(fontsize = 8, col = 'white'))}, \n",
    "        rect_gp = gpar(col = \"white\", lwd = 1),\n",
    "       top_annotation = HeatmapAnnotation('Total' = row_anno_barplot(colSums(t(outgoing_count_plot))))\n",
    "       )\n",
    "    \n",
    "Heatmap(t(incoming_count_plot), name = \"Incoming Interaction\", cluster_columns = F, cluster_rows = T, col = col_fun,\n",
    "    cell_fun = function(j, i, x, y, width, height, fill) {\n",
    "        grid.text(sprintf(\"%.0f\", t(incoming_count_plot)[i, j]), x, y, gp = gpar(fontsize = 8, col = 'white'))}, \n",
    "        rect_gp = gpar(col = \"white\", lwd = 1),\n",
    "       top_annotation = HeatmapAnnotation('Total' = row_anno_barplot(colSums(t(incoming_count_plot))))\n",
    "       )\n",
    "dev.off()\n",
    "         \n"
   ]
  },
  {
   "cell_type": "code",
   "execution_count": 191,
   "id": "de28f83c",
   "metadata": {},
   "outputs": [],
   "source": [
    "## only total number of  interactions\n",
    "dat = data.frame('outgoing'=colSums(t(outgoing_count_plot)), \n",
    "           'incoming'=colSums(t(incoming_count_plot)))\n",
    "write.table(dat, file = 'plots/cellchat_condition_allcells/outgoing_incoming_commu_number.tsv',\n",
    "          sep = '\\t', quote = F)\n",
    "\n"
   ]
  },
  {
   "cell_type": "code",
   "execution_count": 193,
   "id": "8fc78185",
   "metadata": {},
   "outputs": [
    {
     "data": {
      "text/plain": [
       "\n",
       "\tChi-squared test for given probabilities\n",
       "\n",
       "data:  dat$outgoing\n",
       "X-squared = 589.28, df = 3, p-value < 2.2e-16\n"
      ]
     },
     "metadata": {},
     "output_type": "display_data"
    }
   ],
   "source": [
    "chisq.test(dat$outgoing)\n"
   ]
  },
  {
   "cell_type": "code",
   "execution_count": 18,
   "id": "3bb3d8e8",
   "metadata": {},
   "outputs": [],
   "source": [
    "## significant communication in any condition\n",
    "df.sig = subset(df, pval < 0.05)\n",
    "df.sig$Sender = sapply(as.vector(df.sig$source), function(x) {strsplit(x, '\\\\~')[[1]][1]})\n",
    "df.sig$Receiver = sapply(as.vector(df.sig$target), function(x) {strsplit(x, '\\\\~')[[1]][1]})\n",
    "\n",
    "df.sig$cell_pair = apply(df.sig[,c('Sender', 'interaction_name', 'Receiver')], 1, function(x) paste0(x, collapse = ' -> '))\n",
    "\n",
    "                         "
   ]
  },
  {
   "cell_type": "code",
   "execution_count": 176,
   "id": "69050dbc",
   "metadata": {
    "scrolled": true
   },
   "outputs": [
    {
     "data": {
      "text/html": [
       "<strong>png:</strong> 2"
      ],
      "text/latex": [
       "\\textbf{png:} 2"
      ],
      "text/markdown": [
       "**png:** 2"
      ],
      "text/plain": [
       "png \n",
       "  2 "
      ]
     },
     "metadata": {},
     "output_type": "display_data"
    }
   ],
   "source": [
    "### communication type for each condition\n",
    "pdf('plots/cellchat_condition_allcells/communication_type_cond.pdf', width = 4, height = 4)\n",
    "\n",
    "for (i in unique(df.sig$source_cond)){\n",
    "    dftmp <- subset(df.sig, source_cond == i) %>% \n",
    "      group_by(annotation) %>% # Variable to be transformed\n",
    "      count() %>% \n",
    "      ungroup() %>% \n",
    "      mutate(perc = `n` / sum(`n`)) %>% \n",
    "      arrange(perc) %>%\n",
    "      mutate(labels = scales::percent(perc))\n",
    "\n",
    "    g = ggplot(dftmp, aes(x = \"\", y = perc, fill = annotation)) +\n",
    "      geom_col(color = \"black\") +\n",
    "      geom_label(aes(label = labels), color = c(\"white\", 1, 1),\n",
    "                position = position_stack(vjust = 0.5),\n",
    "                show.legend = FALSE) +\n",
    "      guides(fill = guide_legend(title = \"Communication Type\")) +\n",
    "      scale_fill_viridis_d() +\n",
    "      coord_polar(theta = \"y\") + \n",
    "      theme_void()+labs(title = i)\n",
    "    print(g)\n",
    "}\n",
    "dev.off()\n",
    "\n"
   ]
  },
  {
   "cell_type": "code",
   "execution_count": 19,
   "id": "af306658",
   "metadata": {
    "scrolled": true
   },
   "outputs": [
    {
     "data": {
      "image/png": "[encoded data removed]",
      "text/plain": [
       "plot without title"
      ]
     },
     "metadata": {
      "image/png": {
       "height": 420,
       "width": 420
      }
     },
     "output_type": "display_data"
    },
    {
     "data": {
      "image/png": "[encoded data removed]",
      "text/plain": [
       "plot without title"
      ]
     },
     "metadata": {
      "image/png": {
       "height": 420,
       "width": 420
      }
     },
     "output_type": "display_data"
    },
    {
     "data": {
      "image/png": "[encoded data removed]",
      "text/plain": [
       "plot without title"
      ]
     },
     "metadata": {
      "image/png": {
       "height": 420,
       "width": 420
      }
     },
     "output_type": "display_data"
    }
   ],
   "source": [
    "## matrix of communication from original\n",
    "df$Sender = sapply(as.vector(df$source), function(x) {strsplit(x, '\\\\~')[[1]][1]})\n",
    "df$Receiver = sapply(as.vector(df$target), function(x) {strsplit(x, '\\\\~')[[1]][1]})\n",
    "\n",
    "df$cell_pair = apply(df[,c('Sender', 'interaction_name', 'Receiver')], 1, function(x) paste0(x, collapse = ' -> '))\n",
    "                     \n",
    "## to matrix, fill 0 if not recorded\n",
    "comm_mat = reshape2::acast(df[,c('source_cond', 'prob', 'cell_pair')],\n",
    "                           formula = cell_pair ~ source_cond,\n",
    "                           value.var = 'prob', fill = 0)\n",
    "\n",
    "## only commu for at least significant in one condition\n",
    "index = rownames(comm_mat)[rownames(comm_mat) %in% as.vector(df.sig$cell_pair)]\n",
    "comm_mat = comm_mat[index,]\n",
    "comm_mat = comm_mat[,c('TN', 'RT', 'cold2', 'cold7')]\n",
    "comm_mat = apply(comm_mat, 2, function(x) as.numeric(x))\n",
    "rownames(comm_mat) = index\n",
    "                 \n",
    "## mean vs variance\n",
    "comm_mat_stat = data.frame('m' = apply(comm_mat, 1, mean), 'v' = apply(comm_mat, 1, var),\n",
    "          'commu' = rownames(comm_mat))\n",
    "\n",
    "### plots to decide cutoff to select most variable communications\n",
    "g = ggplot(data = comm_mat_stat)+\n",
    "    geom_point(aes(x = m, y = v), color = 'grey')+ggstyle+\n",
    "    xlab('Mean')+ylab('Variance')+labs(title = 'Communication Score across Conditions')+\n",
    "    geom_text_repel(data = subset(comm_mat_stat, m > 0.4 | v > 0.004),\n",
    "                   aes(x = m, y = v, label = commu))\n",
    "    \n",
    "# pdf('commu_var_mean.pdf', height = 5, width = 5)\n",
    "print(g)\n",
    "plot(sort(comm_mat_stat$m, decreasing = T), col = 'grey', pch = 1,\n",
    "    ylab = 'Mean')\n",
    "abline(h = 0.05, col = 'red', lty = 2)\n",
    "plot(sort(comm_mat_stat$v, decreasing = T), col = 'grey', pch = 1,\n",
    "    ylab = 'Variance')\n",
    "abline(h = 0.0005, col = 'red', lty = 2)\n",
    "                 \n",
    "                 "
   ]
  },
  {
   "cell_type": "code",
   "execution_count": 20,
   "id": "12fb9f65",
   "metadata": {},
   "outputs": [
    {
     "data": {
      "image/png": "[encoded data removed]",
      "text/plain": [
       "plot without title"
      ]
     },
     "metadata": {
      "image/png": {
       "height": 420,
       "width": 420
      }
     },
     "output_type": "display_data"
    }
   ],
   "source": [
    "## kmeans for the most variable communications\n",
    "var_cutoff = 0.0005\n",
    "mean_cutoff = 0.05\n",
    "var_cell_pair = sort(rownames(subset(comm_mat_stat, v >= var_cutoff & m >= mean_cutoff)))\n",
    "## remove adipocytes, since it only included in cold2\n",
    "var_cell_pair = var_cell_pair[!grepl('Adipocytes', var_cell_pair)]\n",
    "\n",
    "var_comm = comm_mat[var_cell_pair,]\n",
    "var_comm_scale = scale(t(var_comm))\n",
    "## determine k\n",
    "wssplot <- function(data, nc=15, seed=123){\n",
    "               wss <- (nrow(data)-1)*sum(apply(data,2,var))\n",
    "               for (i in 2:nc){\n",
    "                    set.seed(seed)\n",
    "                    wss[i] <- sum(kmeans(data, centers=i)$withinss)}\n",
    "                plot(1:nc, wss, type=\"b\", xlab=\"Number of groups\",\n",
    "                     ylab=\"Sum of squares within a group\")}\n",
    "\n",
    "wssplot(t(var_comm_scale), nc = 20)\n",
    "\n",
    "\n"
   ]
  },
  {
   "cell_type": "code",
   "execution_count": 8,
   "id": "cdc8ccde",
   "metadata": {},
   "outputs": [],
   "source": [
    "## decide k = 5\n",
    "# k = 5\n",
    "# kmeans_res = kmeans(t(var_comm_scale), 5, nstart = 10000)\n",
    "# saveRDS(kmeans_res, file = 'most_var_commu_kmeans_withoutAdipocyte.rds')\n",
    "kmeans_res = readRDS('most_var_commu_kmeans_withoutAdipocyte.rds')\n",
    "commu_order = sort(kmeans_res$cluster)\n",
    "\n",
    "pdf('plots/cellchat_condition_allcells/condition_variable_commu_heatmap.pdf', height = 6, width = 15)\n",
    "commu_order = sort(kmeans_res$cluster)\n",
    "cols = list(Sender = colmap, Receiver = colmap)\n",
    "\n",
    "Heatmap(var_comm_scale[,names(commu_order)],\n",
    "        name = 'Communication\\nStrength',\n",
    "        column_split = commu_order,\n",
    "        cluster_columns = F,\n",
    "        cluster_rows = F,\n",
    "        rect_gp = gpar(col = \"white\", lwd = .5),\n",
    "        column_names_gp = gpar(fontsize = 7),\n",
    "        top_annotation = HeatmapAnnotation('Sender'=sapply(names(commu_order), function(x) {strsplit(x, ' -> ')[[1]][1]}),\n",
    "                                          'Receiver'=sapply(names(commu_order), function(x) {strsplit(x, ' -> ')[[1]][3]}),\n",
    "                                          col = cols)\n",
    "       )\n",
    "dev.off()\n"
   ]
  },
  {
   "cell_type": "code",
   "execution_count": 178,
   "id": "2893dbd1",
   "metadata": {},
   "outputs": [
    {
     "data": {
      "text/html": [
       "<strong>png:</strong> 2"
      ],
      "text/latex": [
       "\\textbf{png:} 2"
      ],
      "text/markdown": [
       "**png:** 2"
      ],
      "text/plain": [
       "png \n",
       "  2 "
      ]
     },
     "metadata": {},
     "output_type": "display_data"
    }
   ],
   "source": [
    "## a subset of patterns, pattern 2, 5, 4\n",
    "pdf('plots/cellchat_condition_allcells/condition_variable_commu_heatmap_subset.pdf', height = 6, width = 12)\n",
    "\n",
    "commu_order = sort(kmeans_res$cluster)\n",
    "\n",
    "need_comm = commu_order[commu_order %in% c(1, 2, 5)]\n",
    "\n",
    "cols = list(Sender = colmap, Receiver = colmap)\n",
    "\n",
    "Heatmap(var_comm_scale[,names(need_comm)],\n",
    "        name = 'Communication\\nStrength',\n",
    "        column_split = paste0('Pattern ', as.character(need_comm)),\n",
    "        cluster_columns = F,\n",
    "        cluster_rows = F,\n",
    "        rect_gp = gpar(col = \"white\", lwd = .5),\n",
    "        column_names_gp = gpar(fontsize = 7),\n",
    "        top_annotation = HeatmapAnnotation('Sender'=sapply(names(need_comm), function(x) {strsplit(x, ' -> ')[[1]][1]}),\n",
    "                                          'Receiver'=sapply(names(need_comm), function(x) {strsplit(x, ' -> ')[[1]][3]}),\n",
    "                                          col = cols)\n",
    "       )\n",
    "dev.off()\n",
    "\n"
   ]
  },
  {
   "cell_type": "code",
   "execution_count": 179,
   "id": "2bc615b7",
   "metadata": {
    "scrolled": true
   },
   "outputs": [
    {
     "data": {
      "text/html": [
       "<strong>png:</strong> 2"
      ],
      "text/latex": [
       "\\textbf{png:} 2"
      ],
      "text/markdown": [
       "**png:** 2"
      ],
      "text/plain": [
       "png \n",
       "  2 "
      ]
     },
     "metadata": {},
     "output_type": "display_data"
    }
   ],
   "source": [
    "### pattern of communication score\n",
    "\n",
    "pdf('plots/cellchat_condition_allcells/communication_score_pattern.pdf', width = 3, height = 3)\n",
    "cols = c('red', 'blue', 'orange', 'purple', 'black')\n",
    "for (p in 1:5){\n",
    "    commus = commu_order[commu_order == p]\n",
    "    dat = var_comm[names(commus),]\n",
    "    plot_df = data.frame('commu'=rowMeans(t(dat)),\n",
    "                        'cond' = factor(colnames(var_comm), levels = c('TN', 'RT', 'cold2', 'cold7')),\n",
    "                        'low' = apply(dat, 2, min),\n",
    "                        'high' = apply(dat, 2, max))\n",
    "\n",
    "    g = ggplot(plot_df, aes(x = cond, y = commu, group = 1)) + \n",
    "          geom_line(col=cols[p], linetype = 'dashed') + \n",
    "          geom_point(col=cols[p], size = 4) + \n",
    "          geom_ribbon(aes(ymin = low, ymax = high), alpha = 0.1)+ggstyle+\n",
    "          xlab('')+ylab('Communication Score')+labs(title = paste0('Pattern ', p))\n",
    "    print(g)\n",
    "}\n",
    "dev.off()\n"
   ]
  },
  {
   "cell_type": "code",
   "execution_count": 180,
   "id": "887699e8",
   "metadata": {
    "scrolled": true
   },
   "outputs": [
    {
     "data": {
      "text/html": [
       "<strong>png:</strong> 2"
      ],
      "text/latex": [
       "\\textbf{png:} 2"
      ],
      "text/markdown": [
       "**png:** 2"
      ],
      "text/plain": [
       "png \n",
       "  2 "
      ]
     },
     "metadata": {},
     "output_type": "display_data"
    },
    {
     "data": {
      "text/html": [
       "<strong>png:</strong> 2"
      ],
      "text/latex": [
       "\\textbf{png:} 2"
      ],
      "text/markdown": [
       "**png:** 2"
      ],
      "text/plain": [
       "png \n",
       "  2 "
      ]
     },
     "metadata": {},
     "output_type": "display_data"
    }
   ],
   "source": [
    "## cell type proportion for patterns\n",
    "pdf('plots/cellchat_condition_allcells/pattern_sender_proportion.pdf', width = 6, height = 6)\n",
    "for (p in 1:5){\n",
    "    cellpair = names(commu_order[commu_order == p])\n",
    "    sender = do.call(c, lapply(strsplit(cellpair, '\\\\ -> '), function(x){x[1]}))\n",
    "    count_table = table(sender)\n",
    "    col = colmap[names(count_table)]\n",
    "    names(count_table) = paste0(names(count_table),' (', round(count_table * 100 / sum(count_table), 2), '%)')\n",
    "    par(mar=c(4,6.5,4,6))\n",
    "    pie(count_table, col = col,\n",
    "        main = paste0('Pattern ', p))\n",
    "}\n",
    "dev.off()\n",
    "\n",
    "\n",
    "pdf('plots/cellchat_condition_allcells/pattern_receiver_proportion.pdf', width = 6, height = 6)\n",
    "for (p in 1:5){\n",
    "    cellpair = names(commu_order[commu_order == p])\n",
    "    sender = do.call(c, lapply(strsplit(cellpair, '\\\\ -> '), function(x){x[3]}))\n",
    "    count_table = table(sender)\n",
    "    col = colmap[names(count_table)]\n",
    "    names(count_table) = paste0(names(count_table),' (', round(count_table * 100 / sum(count_table), 2), '%)')\n",
    "    par(mar=c(4,6.5,4,6))\n",
    "    pie(count_table, col = col,\n",
    "        main = paste0('Pattern ', p))\n",
    "}\n",
    "dev.off()\n"
   ]
  },
  {
   "cell_type": "code",
   "execution_count": 182,
   "id": "8aa16585",
   "metadata": {
    "scrolled": true
   },
   "outputs": [
    {
     "data": {
      "text/html": [
       "<strong>png:</strong> 2"
      ],
      "text/latex": [
       "\\textbf{png:} 2"
      ],
      "text/markdown": [
       "**png:** 2"
      ],
      "text/plain": [
       "png \n",
       "  2 "
      ]
     },
     "metadata": {},
     "output_type": "display_data"
    }
   ],
   "source": [
    "\n",
    "pdf('plots/cellchat_condition_allcells/pattern_commu_type_proportion.pdf', width = 4, height = 4)\n",
    "cols = c('Cell-Cell Contact'=\"white\", \n",
    "        'ECM-Receptor'=1,\n",
    "        'Secreted Signaling'=1)\n",
    "fillcols = c('Cell-Cell Contact'=\"#440154FF\", \n",
    "        'ECM-Receptor'='#21908CFF',\n",
    "        'Secreted Signaling'='#FDE725FF')\n",
    "for (p in 1:5){\n",
    "    cellpair = names(commu_order[commu_order == p])\n",
    "    lr = do.call(c, lapply(strsplit(cellpair, '\\\\ -> '), function(x){x[2]}))\n",
    "    lr_type = cellchat_all.new@DB$interaction[lr,]#'annotation']\n",
    "    df <- lr_type %>% \n",
    "      group_by(annotation) %>% # Variable to be transformed\n",
    "      count() %>% \n",
    "      ungroup() %>% \n",
    "      mutate(perc = `n` / sum(`n`)) %>% \n",
    "      arrange(perc) %>%\n",
    "      mutate(labels = scales::percent(perc))\n",
    "    df = df[order(df$annotation),]\n",
    "    g = ggplot(df, aes(x = \"\", y = perc, fill = annotation)) +\n",
    "      geom_col(color = \"black\") +\n",
    "      geom_label(aes(label = labels), color = cols[df$annotation],\n",
    "                position = position_stack(vjust = 0.5),\n",
    "                show.legend = FALSE) +\n",
    "      guides(fill = guide_legend(title = \"Communication Type\")) +\n",
    "    scale_fill_manual(values = fillcols)+\n",
    "      coord_polar(theta = \"y\") + \n",
    "      theme_void()+labs(title = paste0('Pattern ', p))\n",
    "    print(g)\n",
    "\n",
    "}\n",
    "dev.off()\n",
    "\n"
   ]
  },
  {
   "cell_type": "code",
   "execution_count": 22,
   "id": "93e81ae5",
   "metadata": {},
   "outputs": [],
   "source": [
    "### differential expression\n",
    "\n",
    "diffexp = read_excel('./data/diffexp_scBAT_condpair_celltype.xlsx', sheet = 'all sheet combined')\n",
    "diffexp$name_upper = toupper(diffexp$names)\n",
    "diffexp = as.data.frame(diffexp)\n",
    "diffexp$label = apply(diffexp[,c('cell_type', 'names')], 1, function(x){paste0(x, collapse = '~')})\n",
    "\n"
   ]
  },
  {
   "cell_type": "code",
   "execution_count": 23,
   "id": "e8764e75",
   "metadata": {},
   "outputs": [],
   "source": [
    "## diffexp for ligand\n",
    "\n",
    "LRsig = cellchat_all.new@LR$LRsig\n",
    "\n",
    "ligand_lfc_coll = NULL\n",
    "ligand_padj_coll = NULL\n",
    "sender_label_coll = NULL\n",
    "for (i in rownames(var_comm)){\n",
    "    i = strsplit(i, '\\\\ -> ')[[1]]\n",
    "    sender = i[1]\n",
    "    interction = i[2]\n",
    "    ligand = toupper(LRsig[interction,'ligand'])\n",
    "    label.tmp = paste0(sender, '~', ligand)\n",
    "    sender_label_coll = c(sender_label_coll, label.tmp)\n",
    "}\n",
    "sender_label_coll = unique(sender_label_coll)\n",
    "\n",
    "\n",
    "for (i in sender_label_coll){\n",
    "    i = strsplit(i, '\\\\~')[[1]]\n",
    "    sender = i[1]\n",
    "    ligand = i[2]\n",
    "#     d = diffexp[diffexp$cell_type == sender & diffexp$name_upper == ligand,]\n",
    "    d = diffexp[diffexp$name_upper == ligand,]\n",
    "    lfc = reshape2::acast(d, formula = label ~ compare, value.var = 'logfoldchanges')\n",
    "    ligand_lfc_coll = rbind(ligand_lfc_coll, lfc)\n",
    "    padj = reshape2::acast(d, formula = label ~ compare, value.var = 'pvals_adj')\n",
    "    ligand_padj_coll = rbind(ligand_padj_coll, padj)\n",
    "}\n",
    "\n",
    "## receptor\n",
    "receptor_lfc_coll = NULL\n",
    "receptor_padj_coll = NULL\n",
    "receiver_label_coll = NULL\n",
    "for (i in rownames(var_comm)){\n",
    "    i = strsplit(i, '\\\\ -> ')[[1]]\n",
    "    receiver = i[3]\n",
    "    interction = i[2]\n",
    "    receptor = strsplit(LRsig[interction,'interaction_name_2'], '\\\\ - ')[[1]][2]\n",
    "    receptor = strsplit(gsub('\\\\(|)', '', receptor), '\\\\+')[[1]]\n",
    "    label.tmp = sapply(receptor, function(x) paste0(receiver, '~', toupper(x)))\n",
    "    receiver_label_coll = c(receiver_label_coll, label.tmp)\n",
    "}\n",
    "receiver_label_coll = unique(receiver_label_coll)\n",
    "\n",
    "for (i in receiver_label_coll){\n",
    "    i = strsplit(i, '\\\\~')[[1]]\n",
    "    receiver = i[1]\n",
    "    receptor = i[2]\n",
    "#     d = diffexp[diffexp$cell_type == receiver & diffexp$name_upper == receptor,]\n",
    "    d = diffexp[diffexp$name_upper == receptor,]\n",
    "    lfc = reshape2::acast(d, formula = label ~ compare, value.var = 'logfoldchanges')\n",
    "    receptor_lfc_coll = rbind(receptor_lfc_coll, lfc)\n",
    "    padj = reshape2::acast(d, formula = label ~ compare, value.var = 'pvals_adj')\n",
    "    receptor_padj_coll = rbind(receptor_padj_coll, padj)\n",
    "}\n",
    "\n",
    "ligands = unique(sapply(rownames(ligand_lfc_coll), function(x){strsplit(x, '\\\\~')[[1]][2]}))\n",
    "ligand_mean = apply(as.matrix(cellchat_all.new@data[ligands,]), 1, function(x) tapply(x, cellchat_all.new@meta$cell_type_new, mean))\n",
    "ligand_mean = as.data.frame(reshape2::melt(ligand_mean))\n",
    "colnames(ligand_mean) = c('Cell_Cond', 'Gene', 'Expression')\n",
    "ligand_mean$Cell = sapply(as.vector(ligand_mean$Cell_Cond), function(x) strsplit(x, '\\\\~')[[1]][1])\n",
    "ligand_mean$Cond = sapply(as.vector(ligand_mean$Cell_Cond), function(x) strsplit(x, '\\\\~')[[1]][2])\n",
    "ligand_mean$Label = apply(ligand_mean, 1, function(x){\n",
    "    paste0(x['Cell'],'~',x['Gene'])\n",
    "})\n",
    "ligand_mean = reshape2::acast(ligand_mean, Label ~ Cond, value.var = 'Expression')                               \n",
    "                    \n",
    "receptors = unique(sapply(rownames(receptor_lfc_coll), function(x){strsplit(x, '\\\\~')[[1]][2]}))\n",
    "receptor_mean = apply(as.matrix(cellchat_all.new@data[receptors,]), 1, function(x) tapply(x, cellchat_all.new@meta$cell_type_new, mean))\n",
    "receptor_mean = as.data.frame(reshape2::melt(receptor_mean))\n",
    "colnames(receptor_mean) = c('Cell_Cond', 'Gene', 'Expression')\n",
    "receptor_mean$Cell = sapply(as.vector(receptor_mean$Cell_Cond), function(x) strsplit(x, '\\\\~')[[1]][1])\n",
    "receptor_mean$Cond = sapply(as.vector(receptor_mean$Cell_Cond), function(x) strsplit(x, '\\\\~')[[1]][2])\n",
    "receptor_mean$Label = apply(receptor_mean, 1, function(x){\n",
    "    paste0(x['Cell'],'~',x['Gene'])\n",
    "})\n",
    "receptor_mean = reshape2::acast(receptor_mean, Label ~ Cond, value.var = 'Expression')                               \n",
    "      \n",
    "                  "
   ]
  },
  {
   "cell_type": "code",
   "execution_count": 24,
   "id": "a84ad5e9",
   "metadata": {
    "scrolled": true
   },
   "outputs": [
    {
     "data": {
      "text/html": [
       "<strong>png:</strong> 2"
      ],
      "text/latex": [
       "\\textbf{png:} 2"
      ],
      "text/markdown": [
       "**png:** 2"
      ],
      "text/plain": [
       "png \n",
       "  2 "
      ]
     },
     "metadata": {},
     "output_type": "display_data"
    }
   ],
   "source": [
    "### expression status of ligand and receptor in patterns\n",
    "\n",
    "cols = c('red', 'blue', 'orange', 'purple', 'black')\n",
    "\n",
    "pdf('plots/cellchat_condition_allcells/pattern_ligand_receptor_exp.pdf', width = 4.5, height = 5)\n",
    "\n",
    "sender_receiver_pair = NULL\n",
    "\n",
    "for (p in 1:5){\n",
    "# p = 1\n",
    "sender_ligand = NULL\n",
    "receiver_receptor= NULL\n",
    "\n",
    "for (i in names(commu_order[commu_order == p])){\n",
    "    i = strsplit(i, '\\\\ -> ')[[1]]\n",
    "    sender = i[1]\n",
    "    interction = i[2]\n",
    "    l = toupper(LRsig[interction,'ligand'])\n",
    "    sp = paste0(sender, '~', l)\n",
    "    sender_ligand = c(sender_ligand, sp)\n",
    "    ##\n",
    "    receiver = i[3]\n",
    "    r = strsplit(LRsig[interction,'interaction_name_2'], '\\\\ - ')[[1]][2]\n",
    "    r = strsplit(gsub('\\\\(|)', '', r), '\\\\+')[[1]]\n",
    "    rp = paste0(receiver, '~', r)\n",
    "    receiver_receptor = c(receiver_receptor, rp)\n",
    "#     senders = c(senders, cell)\n",
    "#     ligand = c(ligand, l)\n",
    "    sender_receiver_pair = rbind(sender_receiver_pair, data.frame('sender'=sp, 'receiver'=rp, 'pattern' = p))\n",
    "}\n",
    "sender_ligand = unique(sender_ligand)\n",
    "receiver_receptor = unique(receiver_receptor)\n",
    "\n",
    "## mean exp\n",
    "ligand_mean.new = ligand_mean[toupper(rownames(ligand_mean)) %in% toupper(sender_ligand),]\n",
    "plot_df.legand = data.frame('Cond' = factor(colnames(ligand_mean.new), levels = c('TN', 'RT', 'cold2', 'cold7')),\n",
    "                           'mean_exp' = colMeans(ligand_mean.new),\n",
    "                           'high' = apply(ligand_mean.new, 2, function(x) quantile(x, 0.85)),\n",
    "                           'low' = apply(ligand_mean.new, 2, function(x) quantile(x, 0.15)))\n",
    "plot_df.legand$Type = 'Ligand in Senders'\n",
    "\n",
    "\n",
    "receptor_mean.new = receptor_mean[toupper(rownames(receptor_mean)) %in% toupper(receiver_receptor),]\n",
    "plot_df.receptor= data.frame('Cond' = factor(colnames(receptor_mean.new), levels = c('TN', 'RT', 'cold2', 'cold7')),\n",
    "                           'mean_exp' = colMeans(receptor_mean.new),\n",
    "                           'high' = apply(receptor_mean.new, 2, function(x) quantile(x, 0.85)),\n",
    "                           'low' = apply(receptor_mean.new, 2, function(x) quantile(x, 0.15)))\n",
    "plot_df.receptor$Type = 'Receptor in Receivers'\n",
    "\n",
    "\n",
    "##\n",
    "dotcolor = c('Ligand in Senders'='#FF3E96', 'Receptor in Receivers'='#1C86EE')\n",
    "plot_df = rbind(plot_df.legand, plot_df.receptor)\n",
    "g = ggplot(plot_df, aes(x = Cond, y = mean_exp, group = 1)) + \n",
    "          geom_line(data = subset(plot_df, Type == 'Ligand in Senders'), col=cols[p], linetype = 'dashed') + \n",
    "          geom_point(aes(shape = Type, color = Type), size = 4)+\n",
    "          geom_line(data = subset(plot_df, Type == 'Receptor in Receivers'), col=cols[p], linetype = 'dashed') +\n",
    "          geom_ribbon(data = subset(plot_df, Type == 'Receptor in Receivers'), \n",
    "                      aes(ymin = low, ymax = high), fill = dotcolor['Receptor in Receivers'], alpha = 0.05)+\n",
    "          geom_ribbon(data = subset(plot_df, Type == 'Ligand in Senders'), \n",
    "                      aes(ymin = low, ymax = high), fill = dotcolor['Ligand in Senders'], alpha = 0.05)+\n",
    "            ggstyle+ scale_color_manual(values = dotcolor)+\n",
    "          xlab('')+ylab('Mean Expression in Cell Type')+labs(title = paste0('Pattern ', p))+\n",
    "          theme(legend.position=\"bottom\")+guides(fill=guide_legend(ncol=2))\n",
    "print(g)    \n",
    "}                           \n",
    "dev.off()\n",
    "                                         \n",
    "                                         "
   ]
  },
  {
   "cell_type": "code",
   "execution_count": 51,
   "id": "84ee48f7",
   "metadata": {},
   "outputs": [
    {
     "data": {
      "text/html": [
       "<strong>png:</strong> 2"
      ],
      "text/latex": [
       "\\textbf{png:} 2"
      ],
      "text/markdown": [
       "**png:** 2"
      ],
      "text/plain": [
       "png \n",
       "  2 "
      ]
     },
     "metadata": {},
     "output_type": "display_data"
    },
    {
     "data": {
      "text/html": [
       "<strong>png:</strong> 2"
      ],
      "text/latex": [
       "\\textbf{png:} 2"
      ],
      "text/markdown": [
       "**png:** 2"
      ],
      "text/plain": [
       "png \n",
       "  2 "
      ]
     },
     "metadata": {},
     "output_type": "display_data"
    }
   ],
   "source": [
    "## ligand\n",
    "## sender_pattern\n",
    "tmp=sender_receiver_pair[!duplicated(sender_receiver_pair$sender),]\n",
    "tmp = subset(tmp, pattern %in% c(1, 2, 5))\n",
    "sender_pattern = as.vector(tmp$pattern)\n",
    "names(sender_pattern) = toupper(as.vector(tmp$sender))\n",
    "\n",
    "index = toupper(rownames(ligand_lfc_coll)) %in% toupper(unique(sender_receiver_pair$sender))\n",
    "\n",
    "legend_lfc_df = reshape2::melt(ligand_lfc_coll[index,])\n",
    "colnames(legend_lfc_df) = c('Cell_Ligand', 'Comparison', 'LFC')\n",
    "legend_lfc_df$padj = apply(legend_lfc_df, 1, function(x){ligand_padj_coll[x[1], x[2]]})\n",
    "legend_lfc_df$p.label = ifelse(legend_lfc_df$padj <= 0.05, yes = 'padj <= 0.05', no = 'padj > 0.05')\n",
    "legend_lfc_df = subset(legend_lfc_df, Comparison %in% c('RT~vs~TN', 'cold2~vs~TN', 'cold7~vs~TN'))\n",
    "legend_lfc_df$Comparison = factor(legend_lfc_df$Comparison, \n",
    "                                  levels = c('RT~vs~TN', 'cold2~vs~TN', 'cold7~vs~TN'))\n",
    "#                                   c('RT~vs~TN', 'cold2~vs~RT', 'cold2~vs~TN',\n",
    "#                                     'cold7~vs~cold2', 'cold7~vs~RT','cold7~vs~TN'))\n",
    "legend_lfc_df$pattern = sender_pattern[toupper(as.vector(legend_lfc_df$Cell_Ligand))]\n",
    "\n",
    "sig.legand = unique(as.vector(subset(legend_lfc_df, padj <= 0.05)$Cell_Ligand))\n",
    "\n",
    "## receptor\n",
    "## sender_pattern\n",
    "tmp=sender_receiver_pair[!duplicated(sender_receiver_pair$receiver),]\n",
    "tmp = subset(tmp, pattern %in% c(1, 2, 5))\n",
    "receiver_pattern = as.vector(tmp$pattern)\n",
    "names(receiver_pattern) = toupper(as.vector(tmp$receiver))\n",
    "\n",
    "\n",
    "index = toupper(rownames(receptor_lfc_coll)) %in% toupper(unique(sender_receiver_pair$receiver))\n",
    "receptor_lfc_df = reshape2::melt(receptor_lfc_coll[index,])\n",
    "colnames(receptor_lfc_df) = c('Cell_Receptor', 'Comparison', 'LFC')\n",
    "receptor_lfc_df$padj = apply(receptor_lfc_df, 1, function(x){receptor_padj_coll[x[1], x[2]]})\n",
    "receptor_lfc_df$p.label = ifelse(receptor_lfc_df$padj <= 0.05, yes = 'padj <= 0.05', no = 'padj > 0.05')\n",
    "receptor_lfc_df = subset(receptor_lfc_df, Comparison %in% c('RT~vs~TN', 'cold2~vs~TN', 'cold7~vs~TN'))\n",
    "\n",
    "receptor_lfc_df$Comparison = factor(receptor_lfc_df$Comparison, \n",
    "                                    levels = c('RT~vs~TN', 'cold2~vs~TN', 'cold7~vs~TN'))\n",
    "#                                     c('RT~vs~TN', 'cold2~vs~RT','cold2~vs~TN',\n",
    "#                                       'cold7~vs~cold2','cold7~vs~RT','cold7~vs~TN'))\n",
    "receptor_lfc_df$pattern = receiver_pattern[toupper(as.vector(receptor_lfc_df$Cell_Receptor))]\n",
    "\n",
    "sig.receptor = unique(as.vector(subset(receptor_lfc_df, padj <= 0.05)$Cell_Receptor))\n",
    "\n",
    "\n",
    "# ## significant in at least one comparison\n",
    "sig.pair = subset(sender_receiver_pair, toupper(sender) %in% toupper(sig.legand) | \n",
    "                                          toupper(receiver) %in% toupper(sig.receptor))\n",
    "\n",
    "need.legand = toupper(sig.pair$sender)\n",
    "legend_lfc_df.plot = subset(legend_lfc_df, toupper(Cell_Ligand) %in% need.legand)\n",
    "## show significant\n",
    "sig.ones = subset(legend_lfc_df.plot, p.label == 'padj <= 0.05')\n",
    "legend_lfc_df.plot = subset(legend_lfc_df.plot, Cell_Ligand %in% sig.ones$Cell_Ligand)\n",
    "\n",
    "g1 = ggplot(data = legend_lfc_df.plot, aes(x = Comparison, y = reorder(Cell_Ligand, pattern), col=LFC)) +\n",
    " ## to get the rect filled \n",
    "    geom_tile(col=\"grey\", fill=\"white\") + geom_point(aes(shape = p.label), size = 4) + \n",
    "     scale_color_gradient2(midpoint = 0, mid=\"#FBFEF9\",low=\"blue\",high=\"red\", limits = c(-3.5, 3.5)) +\n",
    "     xlab('')+ylab('')+scale_shape_manual(values = c('padj <= 0.05'=16, 'padj > 0.05'=1))+\n",
    "    ggstyle+\n",
    "#     scale_y_discrete(position = \"right\")+\n",
    "    theme(legend.position = 'left')\n",
    "\n",
    "pdf('plots/cellchat_condition_allcells/sender_ligand_compare.pdf', height = 8.5)\n",
    "print(g1)\n",
    "dev.off()\n",
    "\n",
    "need.receiver = toupper(sig.pair$receiver)\n",
    "receptor_lfc_df.plot = subset(receptor_lfc_df, toupper(Cell_Receptor) %in% need.receiver)\n",
    "## show significant\n",
    "sig.ones = subset(receptor_lfc_df.plot, p.label == 'padj <= 0.05')\n",
    "receptor_lfc_df.plot = subset(receptor_lfc_df.plot, Cell_Receptor %in% sig.ones$Cell_Receptor)\n",
    "\n",
    "g2 = ggplot(data = receptor_lfc_df.plot, aes(x = Comparison, y = reorder(Cell_Receptor, pattern), col=LFC)) +\n",
    " ## to get the rect filled \n",
    "    geom_tile(col=\"grey\", fill=\"white\") + geom_point(aes(shape = p.label), size = 4) + \n",
    "     scale_color_gradient2(midpoint = 0, mid=\"#FBFEF9\",low=\"blue\",high=\"red\", limits = c(-2.5, 2.5)) +\n",
    "     xlab('')+ylab('')+scale_shape_manual(values = c('padj <= 0.05'=16, 'padj > 0.05'=1))+\n",
    "    ggstyle\n",
    "\n",
    "pdf('plots/cellchat_condition_allcells/receiver_receptor_compare.pdf', height = 8)\n",
    "print(g2)\n",
    "dev.off()\n",
    "\n",
    "\n",
    "\n"
   ]
  },
  {
   "cell_type": "markdown",
   "id": "f18b56d5",
   "metadata": {},
   "source": [
    "### adipocytes/APCs/VSM <-> immune cells \n"
   ]
  },
  {
   "cell_type": "code",
   "execution_count": 10,
   "id": "396f2450",
   "metadata": {},
   "outputs": [
    {
     "data": {
      "text/html": [
       "<strong>png:</strong> 2"
      ],
      "text/latex": [
       "\\textbf{png:} 2"
      ],
      "text/markdown": [
       "**png:** 2"
      ],
      "text/plain": [
       "png \n",
       "  2 "
      ]
     },
     "metadata": {},
     "output_type": "display_data"
    }
   ],
   "source": [
    "cell_types = c('Adipocytes', 'Pdgfra_APC', 'VSM', \n",
    "              'Basophils', 'Bcells', 'CD8T', 'Cytotoxic_T', 'ILC2s', 'Macrophages', 'NK',\n",
    "               'Treg', 'Neutrophils', 'CD4T')\n",
    "df <- as.data.frame(subsetCommunication(cc_ct_allcell, thresh = 1))\n",
    "df.net <- subset(df, pval < 0.05 & (source %in% cell_types & target %in% cell_types))\n",
    "df.net <- as.data.frame(as.matrix(df.net))\n",
    "\n",
    "df.net.need <- df.net\n",
    "df.net.need$cell_pair = paste(df.net.need$source, df.net.need$target, sep = ' -> ')\n",
    "df.net.need$lr = paste(df.net.need$ligand, df.net.need$receptor, sep = ' -> ')\n",
    "\n",
    "\n",
    "df.net.need.df = df.net.need[,c('cell_pair', 'lr', 'prob', 'pval')]\n",
    "df.net.need.df = df.net.need.df[order(-as.numeric(df.net.need.df$prob)),]\n",
    "\n",
    "\n",
    "pdf('plots/Adipo_Immune/PdgfraAPC_VSM_vs_Immune_communication_top50.pdf', width = 8, height = 7)\n",
    "g = ggplot(data = head(df.net.need.df, n =50))+\n",
    "    geom_point(aes(x = cell_pair, y = lr, color=as.numeric(prob),\n",
    "                  size = as.numeric(prob)))+\n",
    "    ggstyle+scale_color_gradient2(low = 'navy', high = 'darkred', mid = 'white')+\n",
    "    xlab('Sender -> Receiver')+ylab('Ligand -> Receptor')\n",
    "print(g)\n",
    "dev.off()\n",
    "\n",
    "\n",
    "df.count <- as.data.frame(table(df.net[,c('source', 'target')]))\n",
    "colnames(df.count)[3] = 'InterNum'\n",
    "df.count[df.count==0] = NA\n",
    "# df.count$InterNum = as.integer(df.count$InterNum)\n",
    "# df.count <- reshape2::acast(df.count, source ~ target) \n",
    "\n",
    "color.use = c(\"blue\",\"red\")\n",
    "# color.use<-RColorBrewer::brewer.pal(n = 10, name = color.use)\n",
    "\n",
    "g = ggplot(data = df.count) + \n",
    "    geom_point(aes(x = source, y = target, size = InterNum, color = InterNum))+\n",
    "    scale_color_gradient2(midpoint = 20, high = 'red', mid = 'yellow', low = '#1C86EE')+\n",
    "    theme_bw()+theme(panel.grid.major = element_blank(), panel.grid.minor = element_blank(),\n",
    "            panel.border = element_rect(colour = \"black\", fill=NA, size=1.2),\n",
    "            axis.text.x=element_text(angle = 45, vjust = 1, hjust = 1, size=12, colour = \"black\"),\n",
    "            axis.text.y=element_text(size=12, colour = \"black\"),\n",
    "                text=element_text(size=12, colour = \"black\"),\n",
    "            legend.title = element_blank(),legend.text=element_text(size=12),\n",
    "            plot.title = element_text(size = 14, hjust=0.5,vjust = 0.5, \n",
    "            margin = margin(l=100,r=50,t=10,b=10),face = \"bold\", colour = \"black\"))+\n",
    "    xlab('Sender')+ylab('Receiver')\n",
    "\n",
    "pdf('plots/Adipo_Immune/Adipo_vs_Immune_interaction_dotplot.pdf', width = 5.5, height = 4.5)\n",
    "print(g)\n",
    "dev.off()\n",
    "\n",
    "\n",
    "df <- df.net %>% \n",
    "  group_by(annotation) %>% # Variable to be transformed\n",
    "  count() %>% \n",
    "  ungroup() %>% \n",
    "  mutate(perc = `n` / sum(`n`)) %>% \n",
    "  arrange(perc) %>%\n",
    "  mutate(labels = scales::percent(perc))\n",
    "\n",
    "pdf('plots/Adipo_Immune/Adipo_vs_Immune_communication_type.pdf', width = 4, height = 4)\n",
    "g = ggplot(df, aes(x = \"\", y = perc, fill = annotation)) +\n",
    "  geom_col(color = \"black\") +\n",
    "  geom_label(aes(label = labels), color = c(\"white\", 1, 1),\n",
    "            position = position_stack(vjust = 0.5),\n",
    "            show.legend = FALSE) +\n",
    "  guides(fill = guide_legend(title = \"Communication Type\")) +\n",
    "  scale_fill_viridis_d() +\n",
    "  coord_polar(theta = \"y\") + \n",
    "  theme_void()\n",
    "print(g)\n",
    "dev.off()\n",
    "\n",
    "## condition\n",
    "df.cond <- as.data.frame(subsetCommunication(cellchat_all.new, thresh = 1))\n",
    "df.cond$source_cond = do.call(rbind, strsplit(as.vector(df.cond$source), '\\\\~'))[,2]\n",
    "df.cond$target_cond = do.call(rbind, strsplit(as.vector(df.cond$target), '\\\\~'))[,2]\n",
    "df.cond$Sender = sapply(as.vector(df.cond$source), function(x){strsplit(x, '~')[[1]][1]})\n",
    "df.cond$Receiver = sapply(as.vector(df.cond$target), function(x){strsplit(x, '~')[[1]][1]})\n",
    "df.cond = subset(df.cond, source_cond == target_cond & \n",
    "                 pval < 0.05 & (Sender %in% cell_types &\n",
    "                                Receiver %in% cell_types))\n",
    "\n",
    "df.cond$cell_pair = apply(df.cond[,c('Sender', 'interaction_name', 'Receiver')], 1, function(x) paste0(x, collapse = ' -> '))\n",
    "\n",
    "## to matrix, fill 0 if not recorded\n",
    "# comm_mat = reshape2::acast(df.cond[,c('source_cond', 'prob', 'cell_pair')],\n",
    "#                            formula = cell_pair ~ source_cond,\n",
    "#                            value.var = 'prob', fill = 0)\n",
    "\n",
    "dat = df.cond[,c('source_cond', 'prob', 'cell_pair')]\n",
    "comm_mat = matrix(nrow = length(unique(dat$source_cond)),\n",
    "            ncol = length(unique(dat$cell_pair)))\n",
    "rownames(comm_mat) = unique(dat$source_cond)\n",
    "colnames(comm_mat) = unique(dat$cell_pair)\n",
    "\n",
    "for (i in rownames(comm_mat)){\n",
    "    for (j in colnames(comm_mat)){\n",
    "        comm_mat[i,j]=subset(dat, source_cond == i & cell_pair == j)[1,'prob']\n",
    "    }\n",
    "}\n",
    "comm_mat = t(comm_mat)[,c('TN', 'RT', 'cold2', 'cold7')]\n",
    "comm_mat[is.na(comm_mat)] = 0\n",
    "comm_mat = as.data.frame(comm_mat)\n",
    "                          \n",
    "## only commu for at least significant in one condition\n",
    "index = rownames(comm_mat)[rownames(comm_mat) %in% as.vector(df.cond$cell_pair)]\n",
    "comm_mat = comm_mat[index,]\n",
    "comm_mat = comm_mat[,c('TN', 'RT', 'cold2', 'cold7')]\n",
    "comm_mat = apply(comm_mat, 2, function(x) as.numeric(x))\n",
    "rownames(comm_mat) = index\n",
    "\n",
    "# show mean and var\n",
    "comm_mat_stat = data.frame('m' = apply(comm_mat, 1, mean), 'v' = apply(comm_mat, 1, var),\n",
    "                          'commu' = rownames(comm_mat))\n",
    "comm_mat_stat$IOD = comm_mat_stat$v / comm_mat_stat$m\n",
    "comm_mat_stat = comm_mat_stat[order(-comm_mat_stat$IOD),]\n",
    "\n",
    "g = ggplot(data = comm_mat_stat)+\n",
    "    geom_point(aes(x = m, y = v), color = 'grey')+ggstyle+\n",
    "    xlab('Mean')+ylab('Variance')+labs(title = 'Communication Score across Conditions')+\n",
    "    geom_text_repel(data = subset(comm_mat_stat, m > 0.4 | v > 0.004),\n",
    "                   aes(x = m, y = v, label = commu))\n",
    "    \n",
    "\n",
    "pdf('plots/Adipo_Immune/Adipo_vs_Immune_commu_var_mean.pdf', height = 5, width = 5)\n",
    "print(g)\n",
    "plot(sort(comm_mat_stat$m, decreasing = T), col = 'grey', pch = 1,\n",
    "    ylab = 'Mean')\n",
    "abline(h = 0.05, col = 'red', lty = 2)\n",
    "plot(sort(comm_mat_stat$v, decreasing = T), col = 'grey', pch = 1,\n",
    "    ylab = 'Variance')\n",
    "abline(h = 0.0005, col = 'red', lty = 2)\n",
    "\n",
    "\n",
    "plot(comm_mat_stat$IOD, ylab = 'Index of dispersion')\n",
    "dev.off()\n",
    "## show top 30 top IOD communications\n",
    "n = 50\n",
    "top_iod_comm = as.vector(head(comm_mat_stat[!grepl('Adipocytes', rownames(comm_mat_stat)),], n)$commu)\n",
    "## show heatmap\n",
    "top_iod_comm_mat = comm_mat[top_iod_comm,]\n",
    "\n",
    "cols = list(Sender = colmap, Receiver = colmap)\n",
    "plot_df = t(top_iod_comm_mat)\n",
    "plot_df = apply(plot_df, 2, scale)\n",
    "rownames(plot_df) = colnames(top_iod_comm_mat)\n",
    "\n",
    "pdf('plots/Adipo_Immune/PdgfraAPC_VSM_vs_Immune_communication_across_condition.pdf', width = 9, height = 5)\n",
    "par(mar=c(15, 4, 4, 4))\n",
    "ht = Heatmap(plot_df,\n",
    "        name = 'Commmunication\\nStrength',\n",
    "        cluster_columns = T,\n",
    "        cluster_rows = F,\n",
    "        rect_gp = gpar(col = \"white\", lwd = .5),\n",
    "        column_names_gp = gpar(fontsize = 8),\n",
    "        top_annotation = HeatmapAnnotation('Sender'=sapply(rownames(top_iod_comm_mat), function(x) {strsplit(x, ' -> ')[[1]][1]}),\n",
    "                                          'Receiver'=sapply(rownames(top_iod_comm_mat), function(x) {strsplit(x, ' -> ')[[1]][3]}),\n",
    "                                          col = cols)\n",
    "       )\n",
    "draw(ht, padding = unit(c(15, 2, 2, 2), \"mm\")) ## see right heatmap in following\n",
    "\n",
    "dev.off()\n",
    "                 \n"
   ]
  },
  {
   "cell_type": "code",
   "execution_count": 31,
   "id": "3b990202",
   "metadata": {
    "scrolled": false
   },
   "outputs": [
    {
     "data": {
      "text/html": [
       "<strong>png:</strong> 2"
      ],
      "text/latex": [
       "\\textbf{png:} 2"
      ],
      "text/markdown": [
       "**png:** 2"
      ],
      "text/plain": [
       "png \n",
       "  2 "
      ]
     },
     "metadata": {},
     "output_type": "display_data"
    },
    {
     "data": {
      "text/html": [
       "<strong>png:</strong> 2"
      ],
      "text/latex": [
       "\\textbf{png:} 2"
      ],
      "text/markdown": [
       "**png:** 2"
      ],
      "text/plain": [
       "png \n",
       "  2 "
      ]
     },
     "metadata": {},
     "output_type": "display_data"
    },
    {
     "data": {
      "text/html": [
       "<strong>png:</strong> 2"
      ],
      "text/latex": [
       "\\textbf{png:} 2"
      ],
      "text/markdown": [
       "**png:** 2"
      ],
      "text/plain": [
       "png \n",
       "  2 "
      ]
     },
     "metadata": {},
     "output_type": "display_data"
    },
    {
     "data": {
      "text/html": [
       "<strong>png:</strong> 2"
      ],
      "text/latex": [
       "\\textbf{png:} 2"
      ],
      "text/markdown": [
       "**png:** 2"
      ],
      "text/plain": [
       "png \n",
       "  2 "
      ]
     },
     "metadata": {},
     "output_type": "display_data"
    },
    {
     "data": {
      "text/html": [
       "<strong>png:</strong> 2"
      ],
      "text/latex": [
       "\\textbf{png:} 2"
      ],
      "text/markdown": [
       "**png:** 2"
      ],
      "text/plain": [
       "png \n",
       "  2 "
      ]
     },
     "metadata": {},
     "output_type": "display_data"
    }
   ],
   "source": [
    "cell_types = c('Adipocytes', 'Pdgfra_APC', 'VSM', \n",
    "              'Basophils', 'Bcells', 'CD8T', 'Cytotoxic_T', 'ILC2s', 'Macrophages', 'NK',\n",
    "               'Treg', 'Neutrophils', 'CD4T')\n",
    "df <- as.data.frame(subsetCommunication(cc_ct_allcell, thresh = 1))\n",
    "df.net <- subset(df, pval < 0.05 & (source %in% cell_types & target %in% cell_types))\n",
    "df.net <- as.data.frame(as.matrix(df.net))\n",
    "\n",
    "\n",
    "cell.1 = c('Adipocytes', 'Pdgfra_APC', 'VSM')\n",
    "cell.2 = c('Basophils', 'Bcells', 'CD8T', 'Cytotoxic_T', 'ILC2s', 'Macrophages', 'NK',\n",
    "               'Treg', 'Neutrophils', 'CD4T')\n",
    "df.net = subset(df.net, (source %in% cell.1 & target %in% cell.2) | (target %in% cell.1 & source %in% cell.2))\n",
    "df.net$cell_pair = paste(df.net$source, df.net$target, sep = ' -> ')\n",
    "df.net$lr = paste(df.net$ligand, df.net$receptor, sep = ' -> ')\n",
    "\n",
    "\n",
    "df.net.df = df.net[,c('cell_pair', 'lr', 'prob', 'pval')]\n",
    "df.net.df = df.net.df[order(-as.numeric(df.net.df$prob)),]\n",
    "\n",
    "\n",
    "pdf('plots/Adipo_Immune/TwoFocused_PdgfraAPC_VSM_vs_Immune_communication_top50.pdf', width = 8, height = 7)\n",
    "g = ggplot(data = head(df.net.df, n =50))+\n",
    "    geom_point(aes(x = cell_pair, y = lr, color=as.numeric(prob),\n",
    "                  size = as.numeric(prob)))+\n",
    "    ggstyle+scale_color_gradient2(low = 'navy', high = 'darkred', mid = 'white')+\n",
    "    xlab('Sender -> Receiver')+ylab('Ligand -> Receptor')\n",
    "print(g)\n",
    "dev.off()\n",
    "\n",
    "\n",
    "df.count <- as.data.frame(table(df.net[,c('source', 'target')]))\n",
    "colnames(df.count)[3] = 'InterNum'\n",
    "df.count[df.count==0] = NA\n",
    "# df.count$InterNum = as.integer(df.count$InterNum)\n",
    "# df.count <- reshape2::acast(df.count, source ~ target) \n",
    "\n",
    "color.use = c(\"blue\",\"red\")\n",
    "# color.use<-RColorBrewer::brewer.pal(n = 10, name = color.use)\n",
    "\n",
    "g = ggplot(data = df.count) + \n",
    "    geom_point(aes(x = source, y = target, size = InterNum, color = InterNum))+\n",
    "    scale_color_gradient2(midpoint = 20, high = 'red', mid = 'yellow', low = '#1C86EE')+\n",
    "    theme_bw()+theme(panel.grid.major = element_blank(), panel.grid.minor = element_blank(),\n",
    "            panel.border = element_rect(colour = \"black\", fill=NA, size=1.2),\n",
    "            axis.text.x=element_text(angle = 45, vjust = 1, hjust = 1, size=12, colour = \"black\"),\n",
    "            axis.text.y=element_text(size=12, colour = \"black\"),\n",
    "                text=element_text(size=12, colour = \"black\"),\n",
    "            legend.title = element_blank(),legend.text=element_text(size=12),\n",
    "            plot.title = element_text(size = 14, hjust=0.5,vjust = 0.5, \n",
    "            margin = margin(l=100,r=50,t=10,b=10),face = \"bold\", colour = \"black\"))+\n",
    "    xlab('Sender')+ylab('Receiver')\n",
    "\n",
    "pdf('plots/Adipo_Immune/TwoFocused_Adipo_vs_Immune_interaction_dotplot.pdf', width = 5.5, height = 4.5)\n",
    "print(g)\n",
    "dev.off()\n",
    "\n",
    "\n",
    "df <- df.net %>% \n",
    "  group_by(annotation) %>% # Variable to be transformed\n",
    "  count() %>% \n",
    "  ungroup() %>% \n",
    "  mutate(perc = `n` / sum(`n`)) %>% \n",
    "  arrange(perc) %>%\n",
    "  mutate(labels = scales::percent(perc))\n",
    "\n",
    "pdf('plots/Adipo_Immune/TwoFocused_Adipo_vs_Immune_communication_type.pdf', width = 4, height = 4)\n",
    "g = ggplot(df, aes(x = \"\", y = perc, fill = annotation)) +\n",
    "  geom_col(color = \"black\") +\n",
    "  geom_label(aes(label = labels), color = c(\"white\", 1, 1),\n",
    "            position = position_stack(vjust = 0.5),\n",
    "            show.legend = FALSE) +\n",
    "  guides(fill = guide_legend(title = \"Communication Type\")) +\n",
    "  scale_fill_viridis_d() +\n",
    "  coord_polar(theta = \"y\") + \n",
    "  theme_void()\n",
    "print(g)\n",
    "dev.off()\n",
    "\n",
    "## condition\n",
    "df.cond <- as.data.frame(subsetCommunication(cellchat_all.new, thresh = 1))\n",
    "df.cond$source_cond = do.call(rbind, strsplit(as.vector(df.cond$source), '\\\\~'))[,2]\n",
    "df.cond$target_cond = do.call(rbind, strsplit(as.vector(df.cond$target), '\\\\~'))[,2]\n",
    "df.cond$Sender = sapply(as.vector(df.cond$source), function(x){strsplit(x, '~')[[1]][1]})\n",
    "df.cond$Receiver = sapply(as.vector(df.cond$target), function(x){strsplit(x, '~')[[1]][1]})\n",
    "df.cond = subset(df.cond, source_cond == target_cond & \n",
    "                 pval < 0.05 & (Sender %in% cell_types &\n",
    "                                Receiver %in% cell_types))\n",
    "df.cond = subset(df.cond, (Sender %in% cell.1 & Receiver %in% cell.2) | (Receiver %in% cell.1 & Sender %in% cell.2))\n",
    "\n",
    "df.cond$cell_pair = apply(df.cond[,c('Sender', 'interaction_name', 'Receiver')], 1, function(x) paste0(x, collapse = ' -> '))\n",
    "\n",
    "## to matrix, fill 0 if not recorded\n",
    "# comm_mat = reshape2::acast(df.cond[,c('source_cond', 'prob', 'cell_pair')],\n",
    "#                            formula = cell_pair ~ source_cond,\n",
    "#                            value.var = 'prob', fill = 0)\n",
    "\n",
    "dat = df.cond[,c('source_cond', 'prob', 'cell_pair')]\n",
    "comm_mat = matrix(nrow = length(unique(dat$source_cond)),\n",
    "            ncol = length(unique(dat$cell_pair)))\n",
    "rownames(comm_mat) = unique(dat$source_cond)\n",
    "colnames(comm_mat) = unique(dat$cell_pair)\n",
    "\n",
    "for (i in rownames(comm_mat)){\n",
    "    for (j in colnames(comm_mat)){\n",
    "        comm_mat[i,j]=subset(dat, source_cond == i & cell_pair == j)[1,'prob']\n",
    "    }\n",
    "}\n",
    "comm_mat = t(comm_mat)[,c('TN', 'RT', 'cold2', 'cold7')]\n",
    "comm_mat[is.na(comm_mat)] = 0\n",
    "comm_mat = as.data.frame(comm_mat)\n",
    "                          \n",
    "## only commu for at least significant in one condition\n",
    "index = rownames(comm_mat)[rownames(comm_mat) %in% as.vector(df.cond$cell_pair)]\n",
    "comm_mat = comm_mat[index,]\n",
    "comm_mat = comm_mat[,c('TN', 'RT', 'cold2', 'cold7')]\n",
    "comm_mat = apply(comm_mat, 2, function(x) as.numeric(x))\n",
    "rownames(comm_mat) = index\n",
    "\n",
    "# show mean and var\n",
    "comm_mat_stat = data.frame('m' = apply(comm_mat, 1, mean), 'v' = apply(comm_mat, 1, var),\n",
    "                          'commu' = rownames(comm_mat))\n",
    "comm_mat_stat$IOD = comm_mat_stat$v / comm_mat_stat$m\n",
    "comm_mat_stat = comm_mat_stat[order(-comm_mat_stat$IOD),]\n",
    "\n",
    "g = ggplot(data = comm_mat_stat)+\n",
    "    geom_point(aes(x = m, y = v), color = 'grey')+ggstyle+\n",
    "    xlab('Mean')+ylab('Variance')+labs(title = 'Communication Score across Conditions')+\n",
    "    geom_text_repel(data = subset(comm_mat_stat, m > 0.4 | v > 0.004),\n",
    "                   aes(x = m, y = v, label = commu))\n",
    "    \n",
    "\n",
    "pdf('plots/Adipo_Immune/TwoFocused_Adipo_vs_Immune_commu_var_mean.pdf', height = 5, width = 5)\n",
    "print(g)\n",
    "plot(sort(comm_mat_stat$m, decreasing = T), col = 'grey', pch = 1,\n",
    "    ylab = 'Mean')\n",
    "abline(h = 0.05, col = 'red', lty = 2)\n",
    "plot(sort(comm_mat_stat$v, decreasing = T), col = 'grey', pch = 1,\n",
    "    ylab = 'Variance')\n",
    "abline(h = 0.0005, col = 'red', lty = 2)\n",
    "\n",
    "\n",
    "plot(comm_mat_stat$IOD, ylab = 'Index of dispersion')\n",
    "dev.off()\n",
    "## show top 30 top IOD communications\n",
    "n = 50\n",
    "top_iod_comm = as.vector(head(comm_mat_stat[!grepl('Adipocytes', rownames(comm_mat_stat)),], n)$commu)\n",
    "## show heatmap\n",
    "top_iod_comm_mat = comm_mat[top_iod_comm,]\n",
    "\n",
    "cols = list(Sender = colmap, Receiver = colmap)\n",
    "plot_df = t(top_iod_comm_mat)\n",
    "plot_df = apply(plot_df, 2, scale)\n",
    "rownames(plot_df) = colnames(top_iod_comm_mat)\n",
    "\n",
    "pdf('plots/Adipo_Immune/TwoFocused_PdgfraAPC_VSM_vs_Immune_communication_across_condition.pdf', width = 9, height = 5)\n",
    "par(mar=c(15, 4, 4, 4))\n",
    "ht = Heatmap(plot_df,\n",
    "        name = 'Commmunication\\nStrength',\n",
    "        cluster_columns = T,\n",
    "        cluster_rows = F,\n",
    "        rect_gp = gpar(col = \"white\", lwd = .5),\n",
    "        column_names_gp = gpar(fontsize = 8),\n",
    "        top_annotation = HeatmapAnnotation('Sender'=sapply(rownames(top_iod_comm_mat), function(x) {strsplit(x, ' -> ')[[1]][1]}),\n",
    "                                          'Receiver'=sapply(rownames(top_iod_comm_mat), function(x) {strsplit(x, ' -> ')[[1]][3]}),\n",
    "                                          col = cols)\n",
    "       )\n",
    "draw(ht, padding = unit(c(15, 2, 2, 2), \"mm\")) ## see right heatmap in following\n",
    "\n",
    "dev.off()\n",
    "                 "
   ]
  },
  {
   "cell_type": "markdown",
   "id": "6f0c1cc9",
   "metadata": {},
   "source": [
    "### adipocytes/APC <-> Schwann cells\n"
   ]
  },
  {
   "cell_type": "code",
   "execution_count": 11,
   "id": "807c7a55",
   "metadata": {},
   "outputs": [
    {
     "data": {
      "text/html": [
       "<strong>png:</strong> 2"
      ],
      "text/latex": [
       "\\textbf{png:} 2"
      ],
      "text/markdown": [
       "**png:** 2"
      ],
      "text/plain": [
       "png \n",
       "  2 "
      ]
     },
     "metadata": {},
     "output_type": "display_data"
    }
   ],
   "source": [
    "cell_types = c('Adipocytes', 'Pdgfra_APC', 'VSM', 'NMSC', 'MSC')\n",
    "df <- as.data.frame(subsetCommunication(cc_ct_allcell, thresh = 1))\n",
    "df.net <- subset(df, pval < 0.05 & (source %in% cell_types & target %in% cell_types))\n",
    "df.net <- as.data.frame(as.matrix(df.net))\n",
    "\n",
    "\n",
    "df.net.need <- df.net\n",
    "df.net.need$cell_pair = paste(df.net.need$source, df.net.need$target, sep = ' -> ')\n",
    "df.net.need$lr = paste(df.net.need$ligand, df.net.need$receptor, sep = ' -> ')\n",
    "\n",
    "\n",
    "df.net.need.df = df.net.need[,c('cell_pair', 'lr', 'prob', 'pval')]\n",
    "df.net.need.df = df.net.need.df[order(-as.numeric(df.net.need.df$prob)),]\n",
    "\n",
    "\n",
    "pdf('plots/Adipo_Schwann/PdgfraAPC_VSM_Schwann_communication_top50.pdf', width = 8, height = 7)\n",
    "g = ggplot(data = head(df.net.need.df, n =50))+\n",
    "    geom_point(aes(x = cell_pair, y = lr, color=as.numeric(prob),\n",
    "                  size = as.numeric(prob)))+\n",
    "    ggstyle+scale_color_gradient2(low = 'navy', high = 'darkred', mid = 'white')+\n",
    "    xlab('Sender -> Receiver')+ylab('Ligand -> Receptor')\n",
    "print(g)\n",
    "dev.off()\n",
    "\n",
    "\n",
    "df.count <- as.data.frame(table(df.net[,c('source', 'target')]))\n",
    "colnames(df.count)[3] = 'InterNum'\n",
    "df.count[df.count==0] = NA\n",
    "# df.count$InterNum = as.integer(df.count$InterNum)\n",
    "# df.count <- reshape2::acast(df.count, source ~ target) \n",
    "\n",
    "color.use = c(\"blue\",\"red\")\n",
    "# color.use<-RColorBrewer::brewer.pal(n = 10, name = color.use)\n",
    "\n",
    "g = ggplot(data = df.count) + \n",
    "    geom_point(aes(x = source, y = target, size = InterNum, color = InterNum))+\n",
    "    scale_color_gradient2(midpoint = 20, high = 'red', mid = 'yellow', low = '#1C86EE')+\n",
    "    theme_bw()+theme(panel.grid.major = element_blank(), panel.grid.minor = element_blank(),\n",
    "            panel.border = element_rect(colour = \"black\", fill=NA, size=1.2),\n",
    "            axis.text.x=element_text(angle = 45, vjust = 1, hjust = 1, size=12, colour = \"black\"),\n",
    "            axis.text.y=element_text(size=12, colour = \"black\"),\n",
    "                text=element_text(size=12, colour = \"black\"),\n",
    "            legend.title = element_blank(),legend.text=element_text(size=12),\n",
    "            plot.title = element_text(size = 14, hjust=0.5,vjust = 0.5, \n",
    "            margin = margin(l=100,r=50,t=10,b=10),face = \"bold\", colour = \"black\"))+\n",
    "    xlab('Sender')+ylab('Receiver')\n",
    "\n",
    "pdf('plots/Adipo_Schwann/Adipo_vs_Schwann_interaction_dotplot.pdf', width = 4.5, height = 3.5)\n",
    "print(g)\n",
    "dev.off()\n",
    "\n",
    "\n",
    "df <- df.net %>% \n",
    "  group_by(annotation) %>% # Variable to be transformed\n",
    "  count() %>% \n",
    "  ungroup() %>% \n",
    "  mutate(perc = `n` / sum(`n`)) %>% \n",
    "  arrange(perc) %>%\n",
    "  mutate(labels = scales::percent(perc))\n",
    "\n",
    "pdf('plots/Adipo_Schwann/Adipo_vs_Schwann_communication_type.pdf', width = 4, height = 4)\n",
    "g = ggplot(df, aes(x = \"\", y = perc, fill = annotation)) +\n",
    "  geom_col(color = \"black\") +\n",
    "  geom_label(aes(label = labels), color = c(\"white\", 1, 1),\n",
    "            position = position_stack(vjust = 0.5),\n",
    "            show.legend = FALSE) +\n",
    "  guides(fill = guide_legend(title = \"Communication Type\")) +\n",
    "  scale_fill_viridis_d() +\n",
    "  coord_polar(theta = \"y\") + \n",
    "  theme_void()\n",
    "print(g)\n",
    "dev.off()\n",
    "\n",
    "## condition\n",
    "df.cond <- as.data.frame(subsetCommunication(cellchat_all.new, thresh = 1))\n",
    "df.cond$source_cond = do.call(rbind, strsplit(as.vector(df.cond$source), '\\\\~'))[,2]\n",
    "df.cond$target_cond = do.call(rbind, strsplit(as.vector(df.cond$target), '\\\\~'))[,2]\n",
    "df.cond$Sender = sapply(as.vector(df.cond$source), function(x){strsplit(x, '~')[[1]][1]})\n",
    "df.cond$Receiver = sapply(as.vector(df.cond$target), function(x){strsplit(x, '~')[[1]][1]})\n",
    "df.cond = subset(df.cond, source_cond == target_cond & \n",
    "                 pval < 0.05 & (Sender %in% cell_types &\n",
    "                                Receiver %in% cell_types))\n",
    "\n",
    "df.cond$cell_pair = apply(df.cond[,c('Sender', 'interaction_name', 'Receiver')], 1, function(x) paste0(x, collapse = ' -> '))\n",
    "\n",
    "## to matrix, fill 0 if not recorded\n",
    "# comm_mat = reshape2::acast(df.cond[,c('source_cond', 'prob', 'cell_pair')],\n",
    "#                            formula = cell_pair ~ source_cond,\n",
    "#                            value.var = 'prob', fill = 0)\n",
    "\n",
    "dat = df.cond[,c('source_cond', 'prob', 'cell_pair')]\n",
    "comm_mat = matrix(nrow = length(unique(dat$source_cond)),\n",
    "            ncol = length(unique(dat$cell_pair)))\n",
    "rownames(comm_mat) = unique(dat$source_cond)\n",
    "colnames(comm_mat) = unique(dat$cell_pair)\n",
    "\n",
    "for (i in rownames(comm_mat)){\n",
    "    for (j in colnames(comm_mat)){\n",
    "        comm_mat[i,j]=subset(dat, source_cond == i & cell_pair == j)[1,'prob']\n",
    "    }\n",
    "}\n",
    "comm_mat = t(comm_mat)[,c('TN', 'RT', 'cold2', 'cold7')]\n",
    "comm_mat[is.na(comm_mat)] = 0\n",
    "comm_mat = as.data.frame(comm_mat)\n",
    "                          \n",
    "## only commu for at least significant in one condition\n",
    "index = rownames(comm_mat)[rownames(comm_mat) %in% as.vector(df.cond$cell_pair)]\n",
    "comm_mat = comm_mat[index,]\n",
    "comm_mat = comm_mat[,c('TN', 'RT', 'cold2', 'cold7')]\n",
    "comm_mat = apply(comm_mat, 2, function(x) as.numeric(x))\n",
    "rownames(comm_mat) = index\n",
    "\n",
    "# show mean and var\n",
    "comm_mat_stat = data.frame('m' = apply(comm_mat, 1, mean), 'v' = apply(comm_mat, 1, var),\n",
    "                          'commu' = rownames(comm_mat))\n",
    "comm_mat_stat$IOD = comm_mat_stat$v / comm_mat_stat$m\n",
    "comm_mat_stat = comm_mat_stat[order(-comm_mat_stat$IOD),]\n",
    "\n",
    "g = ggplot(data = comm_mat_stat)+\n",
    "    geom_point(aes(x = m, y = v), color = 'grey')+ggstyle+\n",
    "    xlab('Mean')+ylab('Variance')+labs(title = 'Communication Score across Conditions')+\n",
    "    geom_text_repel(data = subset(comm_mat_stat, m > 0.4 | v > 0.004),\n",
    "                   aes(x = m, y = v, label = commu))\n",
    "    \n",
    "\n",
    "pdf('plots/Adipo_Schwann/Adipo_vs_Schwann_commu_var_mean.pdf', height = 5, width = 5)\n",
    "print(g)\n",
    "plot(sort(comm_mat_stat$m, decreasing = T), col = 'grey', pch = 1,\n",
    "    ylab = 'Mean')\n",
    "abline(h = 0.05, col = 'red', lty = 2)\n",
    "plot(sort(comm_mat_stat$v, decreasing = T), col = 'grey', pch = 1,\n",
    "    ylab = 'Variance')\n",
    "abline(h = 0.0005, col = 'red', lty = 2)\n",
    "\n",
    "\n",
    "plot(comm_mat_stat$IOD, ylab = 'Index of dispersion')\n",
    "dev.off()\n",
    "## show top 30 top IOD communications\n",
    "n = 50\n",
    "top_iod_comm = as.vector(head(comm_mat_stat[!grepl('Adipocytes', rownames(comm_mat_stat)),], n)$commu)\n",
    "## show heatmap\n",
    "top_iod_comm_mat = comm_mat[top_iod_comm,]\n",
    "\n",
    "cols = list(Sender = colmap, Receiver = colmap)\n",
    "plot_df = t(top_iod_comm_mat)\n",
    "plot_df = apply(plot_df, 2, scale)\n",
    "rownames(plot_df) = colnames(top_iod_comm_mat)\n",
    "                 \n",
    "pdf('plots/Adipo_Schwann/PdgfraAPC_VSM_Schwann_communication_across_condition.pdf', width = 9, height = 5)\n",
    "par(mar=c(15, 4, 4, 4))\n",
    "ht = Heatmap(plot_df,\n",
    "        name = 'Commmunication\\nStrength',\n",
    "        cluster_columns = T,\n",
    "        cluster_rows = F,\n",
    "        rect_gp = gpar(col = \"white\", lwd = .5),\n",
    "        column_names_gp = gpar(fontsize = 8),\n",
    "        top_annotation = HeatmapAnnotation('Sender'=sapply(rownames(top_iod_comm_mat), function(x) {strsplit(x, ' -> ')[[1]][1]}),\n",
    "                                          'Receiver'=sapply(rownames(top_iod_comm_mat), function(x) {strsplit(x, ' -> ')[[1]][3]}),\n",
    "                                          col = cols)\n",
    "       )\n",
    "draw(ht, padding = unit(c(15, 2, 2, 2), \"mm\")) ## see right heatmap in following\n",
    "\n",
    "dev.off()\n",
    "                 \n"
   ]
  },
  {
   "cell_type": "code",
   "execution_count": 23,
   "id": "23735d87",
   "metadata": {},
   "outputs": [
    {
     "data": {
      "text/html": [
       "<strong>png:</strong> 2"
      ],
      "text/latex": [
       "\\textbf{png:} 2"
      ],
      "text/markdown": [
       "**png:** 2"
      ],
      "text/plain": [
       "png \n",
       "  2 "
      ]
     },
     "metadata": {},
     "output_type": "display_data"
    },
    {
     "data": {
      "text/html": [
       "<strong>png:</strong> 2"
      ],
      "text/latex": [
       "\\textbf{png:} 2"
      ],
      "text/markdown": [
       "**png:** 2"
      ],
      "text/plain": [
       "png \n",
       "  2 "
      ]
     },
     "metadata": {},
     "output_type": "display_data"
    },
    {
     "data": {
      "text/html": [
       "<strong>png:</strong> 2"
      ],
      "text/latex": [
       "\\textbf{png:} 2"
      ],
      "text/markdown": [
       "**png:** 2"
      ],
      "text/plain": [
       "png \n",
       "  2 "
      ]
     },
     "metadata": {},
     "output_type": "display_data"
    },
    {
     "data": {
      "text/html": [
       "<strong>png:</strong> 2"
      ],
      "text/latex": [
       "\\textbf{png:} 2"
      ],
      "text/markdown": [
       "**png:** 2"
      ],
      "text/plain": [
       "png \n",
       "  2 "
      ]
     },
     "metadata": {},
     "output_type": "display_data"
    },
    {
     "data": {
      "text/html": [
       "<strong>png:</strong> 2"
      ],
      "text/latex": [
       "\\textbf{png:} 2"
      ],
      "text/markdown": [
       "**png:** 2"
      ],
      "text/plain": [
       "png \n",
       "  2 "
      ]
     },
     "metadata": {},
     "output_type": "display_data"
    }
   ],
   "source": [
    "cell_types = c('Adipocytes', 'Pdgfra_APC', 'VSM', 'NMSC', 'MSC')\n",
    "df <- as.data.frame(subsetCommunication(cc_ct_allcell, thresh = 1))\n",
    "df.net <- subset(df, pval < 0.05 & (source %in% cell_types & target %in% cell_types))\n",
    "df.net <- as.data.frame(as.matrix(df.net))\n",
    "\n",
    "\n",
    "cell.1 = c('Adipocytes', 'Pdgfra_APC', 'VSM')\n",
    "cell.2 = c('NMSC', 'MSC')\n",
    "df.net = subset(df.net, (source %in% cell.1 & target %in% cell.2) | (target %in% cell.1 & source %in% cell.2))\n",
    "df.net$cell_pair = paste(df.net$source, df.net$target, sep = ' -> ')\n",
    "df.net$lr = paste(df.net$ligand, df.net$receptor, sep = ' -> ')\n",
    "\n",
    "\n",
    "df.net.df = df.net[,c('cell_pair', 'lr', 'prob', 'pval')]\n",
    "df.net.df = df.net.df[order(-as.numeric(df.net.df$prob)),]\n",
    "\n",
    "\n",
    "pdf('plots/Adipo_Schwann/TwoFocused_PdgfraAPC_VSM_Schwann_communication_top50.pdf', width = 8, height = 7)\n",
    "g = ggplot(data = head(df.net.df, n =50))+\n",
    "    geom_point(aes(x = cell_pair, y = lr, color=as.numeric(prob),\n",
    "                  size = as.numeric(prob)))+\n",
    "    ggstyle+scale_color_gradient2(low = 'navy', high = 'darkred', mid = 'white')+\n",
    "    xlab('Sender -> Receiver')+ylab('Ligand -> Receptor')\n",
    "print(g)\n",
    "dev.off()\n",
    "\n",
    "\n",
    "df.count <- as.data.frame(table(df.net[,c('source', 'target')]))\n",
    "colnames(df.count)[3] = 'InterNum'\n",
    "df.count[df.count==0] = NA\n",
    "# df.count$InterNum = as.integer(df.count$InterNum)\n",
    "# df.count <- reshape2::acast(df.count, source ~ target) \n",
    "\n",
    "color.use = c(\"blue\",\"red\")\n",
    "# color.use<-RColorBrewer::brewer.pal(n = 10, name = color.use)\n",
    "\n",
    "g = ggplot(data = df.count) + \n",
    "    geom_point(aes(x = source, y = target, size = InterNum, color = InterNum))+\n",
    "    scale_color_gradient2(midpoint = 20, high = 'red', mid = 'yellow', low = '#1C86EE')+\n",
    "    theme_bw()+theme(panel.grid.major = element_blank(), panel.grid.minor = element_blank(),\n",
    "            panel.border = element_rect(colour = \"black\", fill=NA, size=1.2),\n",
    "            axis.text.x=element_text(angle = 45, vjust = 1, hjust = 1, size=12, colour = \"black\"),\n",
    "            axis.text.y=element_text(size=12, colour = \"black\"),\n",
    "                text=element_text(size=12, colour = \"black\"),\n",
    "            legend.title = element_blank(),legend.text=element_text(size=12),\n",
    "            plot.title = element_text(size = 14, hjust=0.5,vjust = 0.5, \n",
    "            margin = margin(l=100,r=50,t=10,b=10),face = \"bold\", colour = \"black\"))+\n",
    "    xlab('Sender')+ylab('Receiver')\n",
    "\n",
    "pdf('plots/Adipo_Schwann/TwoFocused_Adipo_vs_Schwann_interaction_dotplot.pdf', width = 4.5, height = 3.5)\n",
    "print(g)\n",
    "dev.off()\n",
    "\n",
    "\n",
    "df <- df.net %>% \n",
    "  group_by(annotation) %>% # Variable to be transformed\n",
    "  count() %>% \n",
    "  ungroup() %>% \n",
    "  mutate(perc = `n` / sum(`n`)) %>% \n",
    "  arrange(perc) %>%\n",
    "  mutate(labels = scales::percent(perc))\n",
    "\n",
    "pdf('plots/Adipo_Schwann/TwoFocused_Adipo_vs_Schwann_communication_type.pdf', width = 4, height = 4)\n",
    "g = ggplot(df, aes(x = \"\", y = perc, fill = annotation)) +\n",
    "  geom_col(color = \"black\") +\n",
    "  geom_label(aes(label = labels), color = c(\"white\", 1, 1),\n",
    "            position = position_stack(vjust = 0.5),\n",
    "            show.legend = FALSE) +\n",
    "  guides(fill = guide_legend(title = \"Communication Type\")) +\n",
    "  scale_fill_viridis_d() +\n",
    "  coord_polar(theta = \"y\") + \n",
    "  theme_void()\n",
    "print(g)\n",
    "dev.off()\n",
    "\n",
    "## condition\n",
    "df.cond <- as.data.frame(subsetCommunication(cellchat_all.new, thresh = 1))\n",
    "df.cond$source_cond = do.call(rbind, strsplit(as.vector(df.cond$source), '\\\\~'))[,2]\n",
    "df.cond$target_cond = do.call(rbind, strsplit(as.vector(df.cond$target), '\\\\~'))[,2]\n",
    "df.cond$Sender = sapply(as.vector(df.cond$source), function(x){strsplit(x, '~')[[1]][1]})\n",
    "df.cond$Receiver = sapply(as.vector(df.cond$target), function(x){strsplit(x, '~')[[1]][1]})\n",
    "df.cond = subset(df.cond, source_cond == target_cond & \n",
    "                 pval < 0.05 & (Sender %in% cell_types &\n",
    "                                Receiver %in% cell_types))\n",
    "df.cond = subset(df.cond, (Sender %in% cell.1 & Receiver %in% cell.2) | (Receiver %in% cell.1 & Sender %in% cell.2))\n",
    "\n",
    "df.cond$cell_pair = apply(df.cond[,c('Sender', 'interaction_name', 'Receiver')], 1, function(x) paste0(x, collapse = ' -> '))\n",
    "\n",
    "## to matrix, fill 0 if not recorded\n",
    "# comm_mat = reshape2::acast(df.cond[,c('source_cond', 'prob', 'cell_pair')],\n",
    "#                            formula = cell_pair ~ source_cond,\n",
    "#                            value.var = 'prob', fill = 0)\n",
    "\n",
    "dat = df.cond[,c('source_cond', 'prob', 'cell_pair')]\n",
    "comm_mat = matrix(nrow = length(unique(dat$source_cond)),\n",
    "            ncol = length(unique(dat$cell_pair)))\n",
    "rownames(comm_mat) = unique(dat$source_cond)\n",
    "colnames(comm_mat) = unique(dat$cell_pair)\n",
    "\n",
    "for (i in rownames(comm_mat)){\n",
    "    for (j in colnames(comm_mat)){\n",
    "        comm_mat[i,j]=subset(dat, source_cond == i & cell_pair == j)[1,'prob']\n",
    "    }\n",
    "}\n",
    "comm_mat = t(comm_mat)[,c('TN', 'RT', 'cold2', 'cold7')]\n",
    "comm_mat[is.na(comm_mat)] = 0\n",
    "comm_mat = as.data.frame(comm_mat)\n",
    "                          \n",
    "## only commu for at least significant in one condition\n",
    "index = rownames(comm_mat)[rownames(comm_mat) %in% as.vector(df.cond$cell_pair)]\n",
    "comm_mat = comm_mat[index,]\n",
    "comm_mat = comm_mat[,c('TN', 'RT', 'cold2', 'cold7')]\n",
    "comm_mat = apply(comm_mat, 2, function(x) as.numeric(x))\n",
    "rownames(comm_mat) = index\n",
    "\n",
    "# show mean and var\n",
    "comm_mat_stat = data.frame('m' = apply(comm_mat, 1, mean), 'v' = apply(comm_mat, 1, var),\n",
    "                          'commu' = rownames(comm_mat))\n",
    "comm_mat_stat$IOD = comm_mat_stat$v / comm_mat_stat$m\n",
    "comm_mat_stat = comm_mat_stat[order(-comm_mat_stat$IOD),]\n",
    "\n",
    "g = ggplot(data = comm_mat_stat)+\n",
    "    geom_point(aes(x = m, y = v), color = 'grey')+ggstyle+\n",
    "    xlab('Mean')+ylab('Variance')+labs(title = 'Communication Score across Conditions')+\n",
    "    geom_text_repel(data = subset(comm_mat_stat, m > 0.4 | v > 0.004),\n",
    "                   aes(x = m, y = v, label = commu))\n",
    "    \n",
    "\n",
    "pdf('plots/Adipo_Schwann/Adipo_vs_Schwann_commu_var_mean.pdf', height = 5, width = 5)\n",
    "print(g)\n",
    "plot(sort(comm_mat_stat$m, decreasing = T), col = 'grey', pch = 1,\n",
    "    ylab = 'Mean')\n",
    "abline(h = 0.05, col = 'red', lty = 2)\n",
    "plot(sort(comm_mat_stat$v, decreasing = T), col = 'grey', pch = 1,\n",
    "    ylab = 'Variance')\n",
    "abline(h = 0.0005, col = 'red', lty = 2)\n",
    "\n",
    "\n",
    "plot(comm_mat_stat$IOD, ylab = 'Index of dispersion')\n",
    "dev.off()\n",
    "## show top 30 top IOD communications\n",
    "n = 50\n",
    "top_iod_comm = as.vector(head(comm_mat_stat[!grepl('Adipocytes', rownames(comm_mat_stat)),], n)$commu)\n",
    "## show heatmap\n",
    "top_iod_comm_mat = comm_mat[top_iod_comm,]\n",
    "\n",
    "cols = list(Sender = colmap, Receiver = colmap)\n",
    "plot_df = t(top_iod_comm_mat)\n",
    "plot_df = apply(plot_df, 2, scale)\n",
    "rownames(plot_df) = colnames(top_iod_comm_mat)\n",
    "                 \n",
    "pdf('plots/Adipo_Schwann/TwoFocused_PdgfraAPC_VSM_Schwann_communication_across_condition.pdf', width = 9, height = 5)\n",
    "par(mar=c(15, 4, 4, 4))\n",
    "ht = Heatmap(plot_df,\n",
    "        name = 'Commmunication\\nStrength',\n",
    "        cluster_columns = T,\n",
    "        cluster_rows = F,\n",
    "        rect_gp = gpar(col = \"white\", lwd = .5),\n",
    "        column_names_gp = gpar(fontsize = 8),\n",
    "        top_annotation = HeatmapAnnotation('Sender'=sapply(rownames(top_iod_comm_mat), function(x) {strsplit(x, ' -> ')[[1]][1]}),\n",
    "                                          'Receiver'=sapply(rownames(top_iod_comm_mat), function(x) {strsplit(x, ' -> ')[[1]][3]}),\n",
    "                                          col = cols)\n",
    "       )\n",
    "draw(ht, padding = unit(c(15, 2, 2, 2), \"mm\")) ## see right heatmap in following\n",
    "\n",
    "dev.off()\n",
    "                 "
   ]
  },
  {
   "cell_type": "markdown",
   "id": "d85b3196",
   "metadata": {},
   "source": [
    "### adipocytes/APCs/VSM <-> Endothelial cells \n"
   ]
  },
  {
   "cell_type": "code",
   "execution_count": 52,
   "id": "2266d5aa",
   "metadata": {
    "scrolled": true
   },
   "outputs": [
    {
     "data": {
      "text/html": [
       "<strong>png:</strong> 2"
      ],
      "text/latex": [
       "\\textbf{png:} 2"
      ],
      "text/markdown": [
       "**png:** 2"
      ],
      "text/plain": [
       "png \n",
       "  2 "
      ]
     },
     "metadata": {},
     "output_type": "display_data"
    },
    {
     "data": {
      "text/html": [
       "<strong>png:</strong> 2"
      ],
      "text/latex": [
       "\\textbf{png:} 2"
      ],
      "text/markdown": [
       "**png:** 2"
      ],
      "text/plain": [
       "png \n",
       "  2 "
      ]
     },
     "metadata": {},
     "output_type": "display_data"
    },
    {
     "data": {
      "text/html": [
       "<strong>png:</strong> 2"
      ],
      "text/latex": [
       "\\textbf{png:} 2"
      ],
      "text/markdown": [
       "**png:** 2"
      ],
      "text/plain": [
       "png \n",
       "  2 "
      ]
     },
     "metadata": {},
     "output_type": "display_data"
    },
    {
     "data": {
      "text/html": [
       "<strong>png:</strong> 2"
      ],
      "text/latex": [
       "\\textbf{png:} 2"
      ],
      "text/markdown": [
       "**png:** 2"
      ],
      "text/plain": [
       "png \n",
       "  2 "
      ]
     },
     "metadata": {},
     "output_type": "display_data"
    },
    {
     "data": {
      "text/html": [
       "<strong>png:</strong> 2"
      ],
      "text/latex": [
       "\\textbf{png:} 2"
      ],
      "text/markdown": [
       "**png:** 2"
      ],
      "text/plain": [
       "png \n",
       "  2 "
      ]
     },
     "metadata": {},
     "output_type": "display_data"
    }
   ],
   "source": [
    "cell_types = c('Adipocytes', 'EC', 'Pdgfra_APC', 'VSM', 'Lymph_EC', 'Pericytes')\n",
    "df <- as.data.frame(subsetCommunication(cc_ct_allcell, thresh = 1))\n",
    "df.net <- subset(df, pval < 0.05 & (source %in% cell_types & target %in% cell_types))\n",
    "df.net <- as.data.frame(as.matrix(df.net))\n",
    "\n",
    "df.net.need <- df.net\n",
    "df.net.need$cell_pair = paste(df.net.need$source, df.net.need$target, sep = ' -> ')\n",
    "df.net.need$lr = paste(df.net.need$ligand, df.net.need$receptor, sep = ' -> ')\n",
    "\n",
    "\n",
    "df.net.need.df = df.net.need[,c('cell_pair', 'lr', 'prob', 'pval')]\n",
    "df.net.need.df = df.net.need.df[order(-as.numeric(df.net.need.df$prob)),]\n",
    "\n",
    "\n",
    "pdf('plots/Adipo_EC/EC_communication_top50.pdf', width = 8, height = 7)\n",
    "g = ggplot(data = head(df.net.need.df, n =50))+\n",
    "    geom_point(aes(x = cell_pair, y = lr, color=as.numeric(prob),\n",
    "                  size = as.numeric(prob)))+\n",
    "    ggstyle+scale_color_gradient2(low = 'navy', high = 'darkred', mid = 'white')+\n",
    "    xlab('Sender -> Receiver')+ylab('Ligand -> Receptor')\n",
    "print(g)\n",
    "dev.off()\n",
    "\n",
    "\n",
    "df.count <- as.data.frame(table(df.net[,c('source', 'target')]))\n",
    "colnames(df.count)[3] = 'InterNum'\n",
    "df.count[df.count==0] = NA\n",
    "# df.count$InterNum = as.integer(df.count$InterNum)\n",
    "# df.count <- reshape2::acast(df.count, source ~ target) \n",
    "\n",
    "color.use = c(\"blue\",\"red\")\n",
    "# color.use<-RColorBrewer::brewer.pal(n = 10, name = color.use)\n",
    "\n",
    "g = ggplot(data = df.count) + \n",
    "    geom_point(aes(x = source, y = target, size = InterNum, color = InterNum))+\n",
    "    scale_color_gradient2(midpoint = 20, high = 'red', mid = 'yellow', low = '#1C86EE')+\n",
    "    theme_bw()+theme(panel.grid.major = element_blank(), panel.grid.minor = element_blank(),\n",
    "            panel.border = element_rect(colour = \"black\", fill=NA, size=1.2),\n",
    "            axis.text.x=element_text(angle = 45, vjust = 1, hjust = 1, size=12, colour = \"black\"),\n",
    "            axis.text.y=element_text(size=12, colour = \"black\"),\n",
    "                text=element_text(size=12, colour = \"black\"),\n",
    "            legend.title = element_blank(),legend.text=element_text(size=12),\n",
    "            plot.title = element_text(size = 14, hjust=0.5,vjust = 0.5, \n",
    "            margin = margin(l=100,r=50,t=10,b=10),face = \"bold\", colour = \"black\"))+\n",
    "    xlab('Sender')+ylab('Receiver')\n",
    "\n",
    "pdf('./plots/Adipo_EC/Adipo_vs_EC_interaction_dotplot.pdf', width = 5, height = 4)\n",
    "print(g)\n",
    "dev.off()\n",
    "\n",
    "\n",
    "df <- df.net %>% \n",
    "  group_by(annotation) %>% # Variable to be transformed\n",
    "  count() %>% \n",
    "  ungroup() %>% \n",
    "  mutate(perc = `n` / sum(`n`)) %>% \n",
    "  arrange(perc) %>%\n",
    "  mutate(labels = scales::percent(perc))\n",
    "\n",
    "pdf('./plots/Adipo_EC/Adipo_vs_EC_communication_type.pdf', width = 4, height = 4)\n",
    "g = ggplot(df, aes(x = \"\", y = perc, fill = annotation)) +\n",
    "  geom_col(color = \"black\") +\n",
    "  geom_label(aes(label = labels), color = c(\"white\", 1, 1),\n",
    "            position = position_stack(vjust = 0.5),\n",
    "            show.legend = FALSE) +\n",
    "  guides(fill = guide_legend(title = \"Communication Type\")) +\n",
    "  scale_fill_viridis_d() +\n",
    "  coord_polar(theta = \"y\") + \n",
    "  theme_void()\n",
    "print(g)\n",
    "dev.off()\n",
    "\n",
    "## condition\n",
    "df.cond <- as.data.frame(subsetCommunication(cellchat_all.new, thresh = 1))\n",
    "df.cond$source_cond = do.call(rbind, strsplit(as.vector(df.cond$source), '\\\\~'))[,2]\n",
    "df.cond$target_cond = do.call(rbind, strsplit(as.vector(df.cond$target), '\\\\~'))[,2]\n",
    "df.cond$Sender = sapply(as.vector(df.cond$source), function(x){strsplit(x, '~')[[1]][1]})\n",
    "df.cond$Receiver = sapply(as.vector(df.cond$target), function(x){strsplit(x, '~')[[1]][1]})\n",
    "df.cond = subset(df.cond, source_cond == target_cond & \n",
    "                 pval < 0.05 & (Sender %in% cell_types &\n",
    "                                Receiver %in% cell_types))\n",
    "\n",
    "df.cond$cell_pair = apply(df.cond[,c('Sender', 'interaction_name', 'Receiver')], 1, function(x) paste0(x, collapse = ' -> '))\n",
    "\n",
    "## to matrix, fill 0 if not recorded\n",
    "comm_mat = reshape2::acast(df.cond[,c('source_cond', 'prob', 'cell_pair')],\n",
    "                           formula = cell_pair ~ source_cond,\n",
    "                           value.var = 'prob', fill = 0)\n",
    "\n",
    "## only commu for at least significant in one condition\n",
    "index = rownames(comm_mat)[rownames(comm_mat) %in% as.vector(df.cond$cell_pair)]\n",
    "comm_mat = comm_mat[index,]\n",
    "comm_mat = comm_mat[,c('TN', 'RT', 'cold2', 'cold7')]\n",
    "comm_mat = apply(comm_mat, 2, function(x) as.numeric(x))\n",
    "rownames(comm_mat) = index\n",
    "\n",
    "# show mean and var\n",
    "comm_mat_stat = data.frame('m' = apply(comm_mat, 1, mean), 'v' = apply(comm_mat, 1, var),\n",
    "                          'commu' = rownames(comm_mat))\n",
    "comm_mat_stat$IOD = comm_mat_stat$v / comm_mat_stat$m\n",
    "comm_mat_stat = comm_mat_stat[order(-comm_mat_stat$IOD),]\n",
    "\n",
    "g = ggplot(data = comm_mat_stat)+\n",
    "    geom_point(aes(x = m, y = v), color = 'grey')+ggstyle+\n",
    "    xlab('Mean')+ylab('Variance')+labs(title = 'Communication Score across Conditions')+\n",
    "    geom_text_repel(data = subset(comm_mat_stat, m > 0.4 | v > 0.004),\n",
    "                   aes(x = m, y = v, label = commu))\n",
    "    \n",
    "\n",
    "pdf('./plots/Adipo_EC/EC_commu_var_mean.pdf', height = 5, width = 5)\n",
    "print(g)\n",
    "plot(sort(comm_mat_stat$m, decreasing = T), col = 'grey', pch = 1,\n",
    "    ylab = 'Mean')\n",
    "abline(h = 0.05, col = 'red', lty = 2)\n",
    "plot(sort(comm_mat_stat$v, decreasing = T), col = 'grey', pch = 1,\n",
    "    ylab = 'Variance')\n",
    "abline(h = 0.0005, col = 'red', lty = 2)\n",
    "\n",
    "plot(comm_mat_stat$IOD, ylab = 'Index of dispersion')\n",
    "dev.off()\n",
    "                 \n",
    "## show top 30 top IOD communications\n",
    "n = 50\n",
    "top_iod_comm = as.vector(head(comm_mat_stat[!grepl('Adipocytes', rownames(comm_mat_stat)),], n)$commu)\n",
    "## show heatmap\n",
    "top_iod_comm_mat = comm_mat[top_iod_comm,]\n",
    "\n",
    "cols = list(Sender = colmap, Receiver = colmap)\n",
    "plot_df = t(top_iod_comm_mat)\n",
    "plot_df = apply(plot_df, 2, scale)\n",
    "rownames(plot_df) = colnames(top_iod_comm_mat)\n",
    "\n",
    "pdf('./plots/Adipo_EC/EC_communication_across_condition.pdf', width = 9, height = 5)\n",
    "ht = Heatmap(plot_df,\n",
    "        name = 'Commmunication\\nStrength',\n",
    "        cluster_columns = T,\n",
    "        cluster_rows = F,\n",
    "        rect_gp = gpar(col = \"white\", lwd = .5),\n",
    "        column_names_gp = gpar(fontsize = 8),\n",
    "        top_annotation = HeatmapAnnotation('Sender'=sapply(rownames(top_iod_comm_mat), function(x) {strsplit(x, ' -> ')[[1]][1]}),\n",
    "                                          'Receiver'=sapply(rownames(top_iod_comm_mat), function(x) {strsplit(x, ' -> ')[[1]][3]}),\n",
    "                                          col = cols)\n",
    "       )\n",
    "print(ht)\n",
    "dev.off()\n"
   ]
  },
  {
   "cell_type": "code",
   "execution_count": 53,
   "id": "96c0bb69",
   "metadata": {},
   "outputs": [
    {
     "data": {
      "text/html": [
       "<strong>png:</strong> 2"
      ],
      "text/latex": [
       "\\textbf{png:} 2"
      ],
      "text/markdown": [
       "**png:** 2"
      ],
      "text/plain": [
       "png \n",
       "  2 "
      ]
     },
     "metadata": {},
     "output_type": "display_data"
    },
    {
     "data": {
      "text/html": [
       "<strong>png:</strong> 2"
      ],
      "text/latex": [
       "\\textbf{png:} 2"
      ],
      "text/markdown": [
       "**png:** 2"
      ],
      "text/plain": [
       "png \n",
       "  2 "
      ]
     },
     "metadata": {},
     "output_type": "display_data"
    },
    {
     "data": {
      "text/html": [
       "<strong>png:</strong> 2"
      ],
      "text/latex": [
       "\\textbf{png:} 2"
      ],
      "text/markdown": [
       "**png:** 2"
      ],
      "text/plain": [
       "png \n",
       "  2 "
      ]
     },
     "metadata": {},
     "output_type": "display_data"
    },
    {
     "data": {
      "text/html": [
       "<strong>png:</strong> 2"
      ],
      "text/latex": [
       "\\textbf{png:} 2"
      ],
      "text/markdown": [
       "**png:** 2"
      ],
      "text/plain": [
       "png \n",
       "  2 "
      ]
     },
     "metadata": {},
     "output_type": "display_data"
    },
    {
     "data": {
      "text/html": [
       "<strong>png:</strong> 2"
      ],
      "text/latex": [
       "\\textbf{png:} 2"
      ],
      "text/markdown": [
       "**png:** 2"
      ],
      "text/plain": [
       "png \n",
       "  2 "
      ]
     },
     "metadata": {},
     "output_type": "display_data"
    }
   ],
   "source": [
    "cell_types = c('Adipocytes', 'EC', 'Pdgfra_APC', 'VSM', 'Lymph_EC', 'Pericytes')\n",
    "df <- as.data.frame(subsetCommunication(cc_ct_allcell, thresh = 1))\n",
    "df.net <- subset(df, pval < 0.05 & (source %in% cell_types & target %in% cell_types))\n",
    "df.net <- as.data.frame(as.matrix(df.net))\n",
    "\n",
    "cell.1 = c('Adipocytes', 'Pdgfra_APC', 'VSM')\n",
    "cell.2 = c('Lymph_EC', 'Pericytes', 'EC')\n",
    "df.net = subset(df.net, (source %in% cell.1 & target %in% cell.2) | (target %in% cell.1 & source %in% cell.2))\n",
    "df.net$cell_pair = paste(df.net$source, df.net$target, sep = ' -> ')\n",
    "df.net$lr = paste(df.net$ligand, df.net$receptor, sep = ' -> ')\n",
    "\n",
    "\n",
    "df.net.df = df.net[,c('cell_pair', 'lr', 'prob', 'pval')]\n",
    "df.net.df = df.net.df[order(-as.numeric(df.net.df$prob)),]\n",
    "\n",
    "\n",
    "pdf('plots/Adipo_EC/TwoFocused_EC_communication_top50.pdf', width = 8, height = 7)\n",
    "g = ggplot(data = head(df.net.df, n =50))+\n",
    "    geom_point(aes(x = cell_pair, y = lr, color=as.numeric(prob),\n",
    "                  size = as.numeric(prob)))+\n",
    "    ggstyle+scale_color_gradient2(low = 'navy', high = 'darkred', mid = 'white')+\n",
    "    xlab('Sender -> Receiver')+ylab('Ligand -> Receptor')\n",
    "print(g)\n",
    "dev.off()\n",
    "\n",
    "\n",
    "df.count <- as.data.frame(table(df.net.need[,c('source', 'target')]))\n",
    "colnames(df.count)[3] = 'InterNum'\n",
    "df.count[df.count==0] = NA\n",
    "# df.count$InterNum = as.integer(df.count$InterNum)\n",
    "# df.count <- reshape2::acast(df.count, source ~ target) \n",
    "\n",
    "color.use = c(\"blue\",\"red\")\n",
    "# color.use<-RColorBrewer::brewer.pal(n = 10, name = color.use)\n",
    "\n",
    "g = ggplot(data = df.count) + \n",
    "    geom_point(aes(x = source, y = target, size = InterNum, color = InterNum))+\n",
    "    scale_color_gradient2(midpoint = 20, high = 'red', mid = 'yellow', low = '#1C86EE')+\n",
    "    theme_bw()+theme(panel.grid.major = element_blank(), panel.grid.minor = element_blank(),\n",
    "            panel.border = element_rect(colour = \"black\", fill=NA, size=1.2),\n",
    "            axis.text.x=element_text(angle = 45, vjust = 1, hjust = 1, size=12, colour = \"black\"),\n",
    "            axis.text.y=element_text(size=12, colour = \"black\"),\n",
    "                text=element_text(size=12, colour = \"black\"),\n",
    "            legend.title = element_blank(),legend.text=element_text(size=12),\n",
    "            plot.title = element_text(size = 14, hjust=0.5,vjust = 0.5, \n",
    "            margin = margin(l=100,r=50,t=10,b=10),face = \"bold\", colour = \"black\"))+\n",
    "    xlab('Sender')+ylab('Receiver')\n",
    "\n",
    "pdf('./plots/Adipo_EC/TwoFocused_Adipo_vs_EC_interaction_dotplot.pdf', width = 5, height = 4)\n",
    "print(g)\n",
    "dev.off()\n",
    "\n",
    "\n",
    "df <- df.net.need %>% \n",
    "  group_by(annotation) %>% # Variable to be transformed\n",
    "  count() %>% \n",
    "  ungroup() %>% \n",
    "  mutate(perc = `n` / sum(`n`)) %>% \n",
    "  arrange(perc) %>%\n",
    "  mutate(labels = scales::percent(perc))\n",
    "\n",
    "pdf('./plots/Adipo_EC/TwoFocused_Adipo_vs_EC_communication_type.pdf', width = 4, height = 4)\n",
    "g = ggplot(df, aes(x = \"\", y = perc, fill = annotation)) +\n",
    "  geom_col(color = \"black\") +\n",
    "  geom_label(aes(label = labels), color = c(\"white\", 1, 1),\n",
    "            position = position_stack(vjust = 0.5),\n",
    "            show.legend = FALSE) +\n",
    "  guides(fill = guide_legend(title = \"Communication Type\")) +\n",
    "  scale_fill_viridis_d() +\n",
    "  coord_polar(theta = \"y\") + \n",
    "  theme_void()\n",
    "print(g)\n",
    "dev.off()\n",
    "\n",
    "## condition\n",
    "df.cond <- as.data.frame(subsetCommunication(cellchat_all.new, thresh = 1))\n",
    "df.cond$source_cond = do.call(rbind, strsplit(as.vector(df.cond$source), '\\\\~'))[,2]\n",
    "df.cond$target_cond = do.call(rbind, strsplit(as.vector(df.cond$target), '\\\\~'))[,2]\n",
    "df.cond$Sender = sapply(as.vector(df.cond$source), function(x){strsplit(x, '~')[[1]][1]})\n",
    "df.cond$Receiver = sapply(as.vector(df.cond$target), function(x){strsplit(x, '~')[[1]][1]})\n",
    "df.cond = subset(df.cond, source_cond == target_cond & \n",
    "                 pval < 0.05 & (Sender %in% cell_types &\n",
    "                                Receiver %in% cell_types))\n",
    "df.cond = subset(df.cond, (Sender %in% cell.1 & Receiver %in% cell.2) | (Receiver %in% cell.1 & Sender %in% cell.2))\n",
    "\n",
    "df.cond$cell_pair = apply(df.cond[,c('Sender', 'interaction_name', 'Receiver')], 1, function(x) paste0(x, collapse = ' -> '))\n",
    "\n",
    "## to matrix, fill 0 if not recorded\n",
    "comm_mat = reshape2::acast(df.cond[,c('source_cond', 'prob', 'cell_pair')],\n",
    "                           formula = cell_pair ~ source_cond,\n",
    "                           value.var = 'prob', fill = 0)\n",
    "\n",
    "## only commu for at least significant in one condition\n",
    "index = rownames(comm_mat)[rownames(comm_mat) %in% as.vector(df.cond$cell_pair)]\n",
    "comm_mat = comm_mat[index,]\n",
    "comm_mat = comm_mat[,c('TN', 'RT', 'cold2', 'cold7')]\n",
    "comm_mat = apply(comm_mat, 2, function(x) as.numeric(x))\n",
    "rownames(comm_mat) = index\n",
    "\n",
    "# show mean and var\n",
    "comm_mat_stat = data.frame('m' = apply(comm_mat, 1, mean), 'v' = apply(comm_mat, 1, var),\n",
    "                          'commu' = rownames(comm_mat))\n",
    "comm_mat_stat$IOD = comm_mat_stat$v / comm_mat_stat$m\n",
    "comm_mat_stat = comm_mat_stat[order(-comm_mat_stat$IOD),]\n",
    "\n",
    "g = ggplot(data = comm_mat_stat)+\n",
    "    geom_point(aes(x = m, y = v), color = 'grey')+ggstyle+\n",
    "    xlab('Mean')+ylab('Variance')+labs(title = 'Communication Score across Conditions')+\n",
    "    geom_text_repel(data = subset(comm_mat_stat, m > 0.4 | v > 0.004),\n",
    "                   aes(x = m, y = v, label = commu))\n",
    "    \n",
    "\n",
    "pdf('./plots/Adipo_EC/TwoFocused_EC_commu_var_mean.pdf', height = 5, width = 5)\n",
    "print(g)\n",
    "plot(sort(comm_mat_stat$m, decreasing = T), col = 'grey', pch = 1,\n",
    "    ylab = 'Mean')\n",
    "abline(h = 0.05, col = 'red', lty = 2)\n",
    "plot(sort(comm_mat_stat$v, decreasing = T), col = 'grey', pch = 1,\n",
    "    ylab = 'Variance')\n",
    "abline(h = 0.0005, col = 'red', lty = 2)\n",
    "\n",
    "plot(comm_mat_stat$IOD, ylab = 'Index of dispersion')\n",
    "dev.off()\n",
    "                 \n",
    "## show top 30 top IOD communications\n",
    "n = 50\n",
    "top_iod_comm = as.vector(head(comm_mat_stat[!grepl('Adipocytes', rownames(comm_mat_stat)),], n)$commu)\n",
    "## show heatmap\n",
    "top_iod_comm_mat = comm_mat[top_iod_comm,]\n",
    "\n",
    "cols = list(Sender = colmap, Receiver = colmap)\n",
    "plot_df = t(top_iod_comm_mat)\n",
    "plot_df = apply(plot_df, 2, scale)\n",
    "rownames(plot_df) = colnames(top_iod_comm_mat)\n",
    "\n",
    "pdf('./plots/Adipo_EC/TwoFocused_EC_communication_across_condition.pdf', width = 9, height = 5)\n",
    "ht = Heatmap(plot_df,\n",
    "        name = 'Commmunication\\nStrength',\n",
    "        cluster_columns = T,\n",
    "        cluster_rows = F,\n",
    "        rect_gp = gpar(col = \"white\", lwd = .5),\n",
    "        column_names_gp = gpar(fontsize = 8),\n",
    "        top_annotation = HeatmapAnnotation('Sender'=sapply(rownames(top_iod_comm_mat), function(x) {strsplit(x, ' -> ')[[1]][1]}),\n",
    "                                          'Receiver'=sapply(rownames(top_iod_comm_mat), function(x) {strsplit(x, ' -> ')[[1]][3]}),\n",
    "                                          col = cols)\n",
    "       )\n",
    "print(ht)\n",
    "dev.off()\n",
    "\n",
    "                 "
   ]
  },
  {
   "cell_type": "code",
   "execution_count": 7,
   "id": "4e356760",
   "metadata": {},
   "outputs": [
    {
     "data": {
      "text/plain": [
       "R version 4.1.1 (2021-08-10)\n",
       "Platform: x86_64-conda-linux-gnu (64-bit)\n",
       "Running under: Ubuntu 20.04.3 LTS\n",
       "\n",
       "Matrix products: default\n",
       "BLAS/LAPACK: /root/miniconda3/lib/libopenblasp-r0.3.17.so\n",
       "\n",
       "locale:\n",
       " [1] LC_CTYPE=C.UTF-8    LC_NUMERIC=C        LC_TIME=C          \n",
       " [4] LC_COLLATE=C        LC_MONETARY=C       LC_MESSAGES=C      \n",
       " [7] LC_PAPER=C          LC_NAME=C           LC_ADDRESS=C       \n",
       "[10] LC_TELEPHONE=C      LC_MEASUREMENT=C    LC_IDENTIFICATION=C\n",
       "\n",
       "attached base packages:\n",
       "[1] grid      parallel  stats     graphics  grDevices utils     datasets \n",
       "[8] methods   base     \n",
       "\n",
       "other attached packages:\n",
       " [1] gridExtra_2.3        readxl_1.3.1         ggrepel_0.9.1       \n",
       " [4] pheatmap_1.0.12      ComplexHeatmap_2.8.0 CellChat_1.1.3      \n",
       " [7] Biobase_2.52.0       BiocGenerics_0.38.0  ggplot2_3.3.5       \n",
       "[10] igraph_1.2.6         dplyr_1.0.7          SeuratObject_4.0.2  \n",
       "[13] Seurat_4.0.4        \n",
       "\n",
       "loaded via a namespace (and not attached):\n",
       "  [1] uuid_0.1-4            circlize_0.4.13       systemfonts_1.0.3    \n",
       "  [4] NMF_0.23.0            plyr_1.8.6            repr_1.1.3           \n",
       "  [7] lazyeval_0.2.2        splines_4.1.1         listenv_0.8.0        \n",
       " [10] scattermore_0.7       gridBase_0.4-7        digest_0.6.27        \n",
       " [13] foreach_1.5.1         htmltools_0.5.2       ggalluvial_0.12.3    \n",
       " [16] fansi_0.4.2           magrittr_2.0.1        tensor_1.5           \n",
       " [19] cluster_2.1.2         doParallel_1.0.16     ROCR_1.0-11          \n",
       " [22] sna_2.6               globals_0.14.0        matrixStats_0.61.0   \n",
       " [25] svglite_2.0.0         spatstat.sparse_2.0-0 colorspace_2.0-2     \n",
       " [28] crayon_1.4.1          jsonlite_1.7.2        spatstat.data_2.1-0  \n",
       " [31] survival_3.2-13       zoo_1.8-9             iterators_1.0.13     \n",
       " [34] glue_1.4.2            polyclip_1.10-0       registry_0.5-1       \n",
       " [37] gtable_0.3.0          leiden_0.3.9          GetoptLong_1.0.5     \n",
       " [40] future.apply_1.8.1    shape_1.4.6           abind_1.4-5          \n",
       " [43] scales_1.1.1          DBI_1.1.1             rngtools_1.5.2       \n",
       " [46] miniUI_0.1.1.1        Rcpp_1.0.7            viridisLite_0.4.0    \n",
       " [49] xtable_1.8-4          clue_0.3-59           reticulate_1.22      \n",
       " [52] spatstat.core_2.3-0   stats4_4.1.1          htmlwidgets_1.5.4    \n",
       " [55] httr_1.4.2            FNN_1.1.3             RColorBrewer_1.1-2   \n",
       " [58] ellipsis_0.3.2        ica_1.0-2             pkgconfig_2.0.3      \n",
       " [61] uwot_0.1.10           deldir_0.2-10         utf8_1.2.2           \n",
       " [64] tidyselect_1.1.1      rlang_0.4.11          reshape2_1.4.4       \n",
       " [67] later_1.3.0           cellranger_1.1.0      munsell_0.5.0        \n",
       " [70] tools_4.1.1           generics_0.1.0        statnet.common_4.5.0 \n",
       " [73] ggridges_0.5.3        evaluate_0.14         stringr_1.4.0        \n",
       " [76] fastmap_1.1.0         goftest_1.2-2         fitdistrplus_1.1-5   \n",
       " [79] purrr_0.3.4           RANN_2.6.1            pbapply_1.5-0        \n",
       " [82] future_1.22.1         nlme_3.1-153          mime_0.11            \n",
       " [85] compiler_4.1.1        plotly_4.9.4.1        png_0.1-7            \n",
       " [88] spatstat.utils_2.2-0  tibble_3.1.4          stringi_1.7.4        \n",
       " [91] RSpectra_0.16-0       lattice_0.20-44       IRdisplay_1.0        \n",
       " [94] Matrix_1.3-4          vctrs_0.3.8           pillar_1.6.2         \n",
       " [97] lifecycle_1.0.0       spatstat.geom_2.2-2   lmtest_0.9-38        \n",
       "[100] GlobalOptions_0.1.2   RcppAnnoy_0.0.19      data.table_1.14.0    \n",
       "[103] cowplot_1.1.1         irlba_2.3.3           httpuv_1.6.3         \n",
       "[106] patchwork_1.1.1       R6_2.5.1              network_1.17.1       \n",
       "[109] promises_1.2.0.1      KernSmooth_2.23-20    IRanges_2.26.0       \n",
       "[112] parallelly_1.28.1     codetools_0.2-18      MASS_7.3-54          \n",
       "[115] assertthat_0.2.1      pkgmaker_0.32.2       rjson_0.2.20         \n",
       "[118] withr_2.4.2           sctransform_0.3.2     S4Vectors_0.30.0     \n",
       "[121] mgcv_1.8-36           rpart_4.1-15          IRkernel_1.2         \n",
       "[124] tidyr_1.1.3           coda_0.19-4           Cairo_1.5-12.2       \n",
       "[127] Rtsne_0.15            pbdZMQ_0.3-5          shiny_1.7.0          \n",
       "[130] base64enc_0.1-3      "
      ]
     },
     "metadata": {},
     "output_type": "display_data"
    }
   ],
   "source": [
    "sessionInfo()\n"
   ]
  },
  {
   "cell_type": "code",
   "execution_count": null,
   "id": "7924ccaa",
   "metadata": {},
   "outputs": [],
   "source": []
  }
 ],
 "metadata": {
  "kernelspec": {
   "display_name": "R",
   "language": "R",
   "name": "ir"
  },
  "language_info": {
   "codemirror_mode": "r",
   "file_extension": ".r",
   "mimetype": "text/x-r-source",
   "name": "R",
   "pygments_lexer": "r",
   "version": "4.1.1"
  }
 },
 "nbformat": 4,
 "nbformat_minor": 5
}
