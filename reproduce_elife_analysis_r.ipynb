{
 "cells": [
  {
   "cell_type": "code",
   "execution_count": 5,
   "id": "c8f654ca",
   "metadata": {
    "scrolled": true
   },
   "outputs": [],
   "source": [
    "library(Seurat)\n",
    "library(ggplot2)\n",
    "library(dplyr)\n",
    "library(CellChat)\n",
    "library(ComplexHeatmap)\n",
    "ggstyle = theme_bw()+theme(\n",
    "            axis.line = element_line(colour = \"black\"),\n",
    "            panel.grid.major = element_blank(),\n",
    "            panel.grid.minor = element_blank(),\n",
    "            panel.border = element_blank(),\n",
    "            panel.background = element_blank(),\n",
    "            axis.text.x=element_text(angle = 45, vjust = 1, hjust = 1, size=12, colour = \"black\"),\n",
    "            axis.text.y=element_text(size=12, colour = \"black\"),\n",
    "            text=element_text(size=12, colour = \"black\"),\n",
    "#             legend.title = element_blank(),legend.text=element_text(size=12),\n",
    "            plot.title = element_text(size = 14, hjust=0.5,vjust = 0.5, \n",
    "            margin = margin(l=100,r=50,t=10,b=10),face = \"bold\", colour = \"black\"))\n",
    "\n"
   ]
  },
  {
   "cell_type": "markdown",
   "id": "9ffc5205",
   "metadata": {},
   "source": [
    "## Lin+"
   ]
  },
  {
   "cell_type": "code",
   "execution_count": 3,
   "id": "4cb51d21",
   "metadata": {},
   "outputs": [],
   "source": [
    "\n",
    "O_RT.data <- Read10X(data.dir = \"GSE207706_RAW/GSM6310683_C57_RT_Linpos_Rep1\")\n",
    "O_RT <- CreateSeuratObject(counts = O_RT.data, min.cells=3, project = \"C57_COLD_Rep1_LP_SoupX\")\n",
    "O_RT$Replicate <- \"Rep1\"\n",
    "O_RT$Treatment <- \"CONTROL\"\n",
    "#str(O_RT) #5285\n",
    "############################################################################\n",
    "O_6C.data <- Read10X(data.dir = \"GSE207706_RAW/GSM6310685_C57_COLD_Linpos_Rep1\")\n",
    "O_6C <- CreateSeuratObject(counts = O_6C.data, min.cells=3, project = \"C57_COLD_Rep1_LP_SoupX\")\n",
    "O_6C$Replicate <- \"Rep1\"\n",
    "O_6C$Treatment <- \"COLD\"\n",
    "#str(O_6C) #9379\n",
    "############################################################################\n",
    "R_RT.data <- Read10X(data.dir = \"GSE207706_RAW/GSM6310689_C57_RT_Linpos_Rep2\")\n",
    "R_RT <- CreateSeuratObject(counts = R_RT.data, min.cells=3, project = \"C57_COLD_Rep1_LP_SoupX\")\n",
    "R_RT$Replicate <- \"Rep2\"\n",
    "R_RT$Treatment <- \"CONTROL\"\n",
    "#str(R_RT) #5305\n",
    "############################################################################\n",
    "R_6C.data <- Read10X(data.dir = \"GSE207706_RAW/GSM6310691_C57_COLD_Linpos_Rep2\")\n",
    "R_6C <- CreateSeuratObject(counts = R_6C.data, min.cells=3, project = \"C57_COLD_Rep1_LP_SoupX\")\n",
    "R_6C$Replicate <- \"Rep2\"\n",
    "R_6C$Treatment <- \"COLD\"\n"
   ]
  },
  {
   "cell_type": "code",
   "execution_count": 4,
   "id": "3109b298",
   "metadata": {},
   "outputs": [],
   "source": [
    "\n",
    "#Subset\n",
    "O_RT[[\"percent.mt\"]] <- PercentageFeatureSet(O_RT, pattern = \"^mt-\")\n",
    "O_6C[[\"percent.mt\"]] <- PercentageFeatureSet(O_6C, pattern = \"^mt-\")\n",
    "R_RT[[\"percent.mt\"]] <- PercentageFeatureSet(R_RT, pattern = \"^mt-\")\n",
    "R_6C[[\"percent.mt\"]] <- PercentageFeatureSet(R_6C, pattern = \"^mt-\")\n",
    "O_RT <- subset(O_RT, subset = percent.mt < 10 & nCount_RNA < 15000 & nFeature_RNA < 4000)\n",
    "O_6C <- subset(O_6C, subset = percent.mt < 10 & nCount_RNA < 15000 & nFeature_RNA < 4000)\n",
    "R_RT <- subset(R_RT, subset = percent.mt < 10 & nCount_RNA < 15000 & nFeature_RNA < 4000)\n",
    "R_6C <- subset(R_6C, subset = percent.mt < 10 & nCount_RNA < 15000 & nFeature_RNA < 4000)\n"
   ]
  },
  {
   "cell_type": "code",
   "execution_count": 5,
   "id": "b3fce554",
   "metadata": {},
   "outputs": [],
   "source": [
    "###################\n",
    "#Normalize\n",
    "###################\n",
    "O_RT <- NormalizeData(O_RT)\n",
    "O_6C <- NormalizeData(O_6C)\n",
    "R_RT <- NormalizeData(R_RT)\n",
    "R_6C <- NormalizeData(R_6C)\n"
   ]
  },
  {
   "cell_type": "code",
   "execution_count": 6,
   "id": "7fe0ce4e",
   "metadata": {},
   "outputs": [
    {
     "name": "stderr",
     "output_type": "stream",
     "text": [
      "Warning message in CheckDuplicateCellNames(object.list = objects):\n",
      "“Some cell names are duplicated across objects provided. Renaming to enforce unique cell names.”\n",
      "Warning message in CheckDuplicateCellNames(object.list = objects):\n",
      "“Some cell names are duplicated across objects provided. Renaming to enforce unique cell names.”\n"
     ]
    }
   ],
   "source": [
    "###################\n",
    "#Merge\n",
    "###################\n",
    "#https://satijalab.org/seurat/v3.1/merge_vignette.html\n",
    "OGnorm <- merge(O_RT, y = O_6C, project = \"OG_Linpos\", merge.data = TRUE)\n",
    "RTnorm <- merge(R_RT, y = R_6C, project = \"RT_Linpos\", merge.data = TRUE)\n",
    "\n",
    "###################\n",
    "#Find Variable Features\n",
    "###################\n",
    "OGnorm <- FindVariableFeatures(OGnorm, selection.method = \"vst\", nfeatures = 2000)\n",
    "RTnorm <- FindVariableFeatures(RTnorm, selection.method = \"vst\", nfeatures = 2000)\n"
   ]
  },
  {
   "cell_type": "code",
   "execution_count": 7,
   "id": "64fb1331",
   "metadata": {},
   "outputs": [
    {
     "name": "stderr",
     "output_type": "stream",
     "text": [
      "Warning message in CheckDuplicateCellNames(object.list = object.list):\n",
      "“Some cell names are duplicated across objects provided. Renaming to enforce unique cell names.”\n",
      "Computing 2000 integration features\n",
      "\n",
      "Scaling features for provided objects\n",
      "\n",
      "Finding all pairwise anchors\n",
      "\n",
      "Running CCA\n",
      "\n",
      "Merging objects\n",
      "\n",
      "Finding neighborhoods\n",
      "\n",
      "Finding anchors\n",
      "\n",
      "\tFound 24637 anchors\n",
      "\n",
      "Filtering anchors\n",
      "\n",
      "\tRetained 16264 anchors\n",
      "\n"
     ]
    }
   ],
   "source": [
    "###################\n",
    "###################\n",
    "#Integrate\n",
    "#######################dim = 20, res 0.25\n",
    "LPanchors20 <- FindIntegrationAnchors(object.list = list(OGnorm, RTnorm), dims = 1:20) \n"
   ]
  },
  {
   "cell_type": "code",
   "execution_count": 9,
   "id": "4829d70b",
   "metadata": {},
   "outputs": [
    {
     "name": "stderr",
     "output_type": "stream",
     "text": [
      "Merging dataset 2 into 1\n",
      "\n",
      "Extracting anchors for merged samples\n",
      "\n",
      "Finding integration vectors\n",
      "\n",
      "Finding integration vector weights\n",
      "\n",
      "Integrating data\n",
      "\n"
     ]
    }
   ],
   "source": [
    "Linpos_mi_d20 <- IntegrateData(anchorset = LPanchors20, dims = 1:20)\n"
   ]
  },
  {
   "cell_type": "code",
   "execution_count": 10,
   "id": "b276f0b7",
   "metadata": {},
   "outputs": [],
   "source": [
    "saveRDS(Linpos_mi_d20, file = 'Linpos_mi_d20.rds')\n"
   ]
  },
  {
   "cell_type": "code",
   "execution_count": 12,
   "id": "7b1422f1",
   "metadata": {},
   "outputs": [
    {
     "name": "stderr",
     "output_type": "stream",
     "text": [
      "Centering and scaling data matrix\n",
      "\n",
      "PC_ 1 \n",
      "Positive:  Ctsb, Cd68, Ctss, Lgals3, Ftl1, Grn, Psap, Lyz2, Lgmn, Plin2 \n",
      "\t   Ctsz, Cstb, Ifitm3, Lamp1, Hexa, Ccl9, Akr1a1, Ctsd, Prdx1, Fth1 \n",
      "\t   Itm2b, Capg, Ms4a6c, Cd63, Ms4a6d, Metrnl, C3ar1, Ninj1, Ms4a7, Cd300c2 \n",
      "Negative:  Gimap6, Igkc, Cd79a, Ebf1, Ptprcap, Satb1, Ltb, Ly6d, Cd2, Hba-a2 \n",
      "\t   Hbb-bt, Iglc3, Hba-a1, Hbb-bs, Ighd, Ms4a1, Cd79b, Iglc2, Ighm, Trbc2 \n",
      "\t   Ccr7, Gm8369, Gimap3, Alas2, Gimap4, Cd55, Sept1, Cd3d, Nkg7, Cd3g \n",
      "PC_ 2 \n",
      "Positive:  H2-Aa, H2-Ab1, H2-Eb1, Napsa, H2-DMa, Plac8, Plbd1, Ccr2, Cd83, H2-DMb1 \n",
      "\t   Gm2a, Irf8, H2afz, Ighm, Rnase6, Ctss, Ms4a4c, Naaa, Glipr1, Lgals3 \n",
      "\t   Traf1, Pmaip1, Epsti1, Actb, Ms4a6c, Phf11b, Il1b, Jaml, Klrk1, Agt \n",
      "Negative:  Sparc, Igfbp7, Sparcl1, Timp3, Col4a1, Cavin2, Cav1, Tm4sf1, Gng11, Hspb1 \n",
      "\t   Ramp2, Col4a2, Esam, Mgll, Cxcl12, Gpihbp1, Crip2, Slc9a3r2, Cdh5, Egfl7 \n",
      "\t   Cald1, Fermt2, Ly6c1, S100a16, Tinagl1, Ptprb, Serpinh1, Adgrf5, Epas1, Tcf15 \n",
      "PC_ 3 \n",
      "Positive:  Apoe, Ctsb, Lyz2, Fth1, Ms4a7, Ctsd, Clec4d, C5ar1, Pla2g7, Mafb \n",
      "\t   Selenop, Lst1, Igf1, Ninj1, Gpnmb, Hba-a2, Hbb-bt, Pf4, Hbb-bs, Hba-a1 \n",
      "\t   Ctsl, C3ar1, Fcgr3, Blvrb, Cxcl2, C1qb, Trem2, Slc11a1, Lgmn, C1qc \n",
      "Negative:  Pclaf, Mki67, Birc5, Cks1b, Top2a, Spc24, Stmn1, Cdca3, Ccna2, Cdca8 \n",
      "\t   Cenpf, Cenpe, Cdk1, H2afz, Hmmr, Knl1, Tpx2, Kif11, Smc2, Ccnb2 \n",
      "\t   Rrm2, Tk1, Tubb5, H2afx, Prc1, Ezh2, Asf1b, Hmgb2, Nusap1, Psmb9 \n",
      "PC_ 4 \n",
      "Positive:  Gpihbp1, Cdh5, Egfl7, Kdr, Flt1, Btnl9, Ly6c1, Cavin2, Mgll, Cav1 \n",
      "\t   Adgrf5, Tcf15, Cldn5, Ptprb, Cd300lg, Cyyr1, Sox18, Rbp7, Myct1, Emcn \n",
      "\t   Esam, C1qtnf9, Aqp7, Car4, Ushbp1, Adgrl4, Slc9a3r2, Rasip1, Ecscr, Lims2 \n",
      "Negative:  Rarres2, Col3a1, Col1a2, Col6a1, Col6a3, Meg3, Serping1, Pcolce, Col1a1, Ccl11 \n",
      "\t   Dcn, Fxyd1, Col6a2, C1s1, Htra1, Dpt, Gpx3, Col5a2, Bgn, Gpx8 \n",
      "\t   Dpep1, Cp, Aspn, Col5a3, Itih5, Htra3, Serpinf1, Cygb, Col5a1, Lum \n",
      "PC_ 5 \n",
      "Positive:  Il4i1, Traf1, Syngr2, Cacnb3, Tbc1d4, Fscn1, Rogdi, Napsa, Avpi1, Marcksl1 \n",
      "\t   Relb, Mreg, Hmgn3, Pmaip1, Plac8, Rarres2, Bcl2a1d, Phf11b, Nudt17, Eno3 \n",
      "\t   Tmem123, Grasp, Ccl22, Cst3, Arl5c, Etv3, Col3a1, Ccdc88a, Cd83, Ifi205 \n",
      "Negative:  Birc5, Top2a, Mki67, Ccna2, Cenpf, Pclaf, Cdca3, Hmmr, Prc1, Stmn1 \n",
      "\t   Cdca8, Kif11, Cenpe, Cdk1, Ube2c, Spc24, Nusap1, C1qc, C1qb, Rrm2 \n",
      "\t   Pf4, Spc25, Aspm, Knl1, Hist1h1b, Esco2, Smc2, Ccnb1, Ctsd, Cdc20 \n",
      "\n",
      "Computing nearest neighbor graph\n",
      "\n",
      "Computing SNN\n",
      "\n"
     ]
    },
    {
     "name": "stdout",
     "output_type": "stream",
     "text": [
      "Modularity Optimizer version 1.3.0 by Ludo Waltman and Nees Jan van Eck\n",
      "\n",
      "Number of nodes: 25344\n",
      "Number of edges: 932278\n",
      "\n",
      "Running Louvain algorithm...\n",
      "Maximum modularity in 10 random starts: 0.9620\n",
      "Number of communities: 16\n",
      "Elapsed time: 4 seconds\n"
     ]
    },
    {
     "data": {
      "text/html": [
       "<strong>png:</strong> 2"
      ],
      "text/latex": [
       "\\textbf{png:} 2"
      ],
      "text/markdown": [
       "**png:** 2"
      ],
      "text/plain": [
       "png \n",
       "  2 "
      ]
     },
     "metadata": {},
     "output_type": "display_data"
    }
   ],
   "source": [
    "###################\n",
    "#Scale\n",
    "###################\n",
    "allgenesmi20 <- rownames(Linpos_mi_d20)\n",
    "Linpos_mi_d20 <- ScaleData(Linpos_mi_d20, features = allgenesmi20)\n",
    "###################\n",
    "#PCs\n",
    "###################\n",
    "Linpos_mi_d20 <- RunPCA(Linpos_mi_d20, features = VariableFeatures(object = Linpos_mi_d20))\n",
    "Linpos_mi_d20 <- FindNeighbors(Linpos_mi_d20, dims = 1:20)\n",
    "\n",
    "###################\n",
    "#Visualize Data\n",
    "###################\n",
    "Linpos_mi_d20_r25 <- FindClusters(Linpos_mi_d20, resolution = 0.25)\n",
    "#TSNE\n",
    "Linpos_mi_d20_r25_t <- RunTSNE(Linpos_mi_d20_r25, dims = 1:20)\n",
    "png(\"Linpos_mi_d20_r25_tsne_1.png\")\n",
    "DimPlot(Linpos_mi_d20_r25_t, reduction = \"tsne\")\n",
    "dev.off()\n",
    "\n"
   ]
  },
  {
   "cell_type": "code",
   "execution_count": 13,
   "id": "5a24d273",
   "metadata": {},
   "outputs": [
    {
     "data": {
      "text/html": [
       "<style>\n",
       ".list-inline {list-style: none; margin:0; padding: 0}\n",
       ".list-inline>li {display: inline-block}\n",
       ".list-inline>li:not(:last-child)::after {content: \"\\00b7\"; padding: 0 .5ex}\n",
       "</style>\n",
       "<ol class=list-inline><li>'MAC1'</li><li>'Blym'</li><li>'DEND2'</li><li>'Tlym'</li><li>'DEND1'</li><li>'RET'</li><li>'MAC2'</li><li>'MAC3'</li><li>'MONO'</li><li>'NKT'</li><li>'NEUT'</li><li>'DEND3'</li><li>'VEC'</li><li>'Lin-'</li><li>'DEND4'</li><li>'RBC'</li></ol>\n"
      ],
      "text/latex": [
       "\\begin{enumerate*}\n",
       "\\item 'MAC1'\n",
       "\\item 'Blym'\n",
       "\\item 'DEND2'\n",
       "\\item 'Tlym'\n",
       "\\item 'DEND1'\n",
       "\\item 'RET'\n",
       "\\item 'MAC2'\n",
       "\\item 'MAC3'\n",
       "\\item 'MONO'\n",
       "\\item 'NKT'\n",
       "\\item 'NEUT'\n",
       "\\item 'DEND3'\n",
       "\\item 'VEC'\n",
       "\\item 'Lin-'\n",
       "\\item 'DEND4'\n",
       "\\item 'RBC'\n",
       "\\end{enumerate*}\n"
      ],
      "text/markdown": [
       "1. 'MAC1'\n",
       "2. 'Blym'\n",
       "3. 'DEND2'\n",
       "4. 'Tlym'\n",
       "5. 'DEND1'\n",
       "6. 'RET'\n",
       "7. 'MAC2'\n",
       "8. 'MAC3'\n",
       "9. 'MONO'\n",
       "10. 'NKT'\n",
       "11. 'NEUT'\n",
       "12. 'DEND3'\n",
       "13. 'VEC'\n",
       "14. 'Lin-'\n",
       "15. 'DEND4'\n",
       "16. 'RBC'\n",
       "\n",
       "\n"
      ],
      "text/plain": [
       " [1] \"MAC1\"  \"Blym\"  \"DEND2\" \"Tlym\"  \"DEND1\" \"RET\"   \"MAC2\"  \"MAC3\"  \"MONO\" \n",
       "[10] \"NKT\"   \"NEUT\"  \"DEND3\" \"VEC\"   \"Lin-\"  \"DEND4\" \"RBC\"  "
      ]
     },
     "metadata": {},
     "output_type": "display_data"
    },
    {
     "data": {
      "text/html": [
       "<style>\n",
       ".list-inline {list-style: none; margin:0; padding: 0}\n",
       ".list-inline>li {display: inline-block}\n",
       ".list-inline>li:not(:last-child)::after {content: \"\\00b7\"; padding: 0 .5ex}\n",
       "</style>\n",
       "<ol class=list-inline><li>'MAC1'</li><li>'MAC2'</li><li>'MAC3'</li><li>'MONO'</li><li>'DEND1'</li><li>'DEND2'</li><li>'DEND3'</li><li>'DEND4'</li><li>'NKT'</li><li>'Tlym'</li><li>'Blym'</li><li>'RET'</li><li>'NEUT'</li><li>'VEC'</li><li>'Lin-'</li><li>'RBC'</li></ol>\n"
      ],
      "text/latex": [
       "\\begin{enumerate*}\n",
       "\\item 'MAC1'\n",
       "\\item 'MAC2'\n",
       "\\item 'MAC3'\n",
       "\\item 'MONO'\n",
       "\\item 'DEND1'\n",
       "\\item 'DEND2'\n",
       "\\item 'DEND3'\n",
       "\\item 'DEND4'\n",
       "\\item 'NKT'\n",
       "\\item 'Tlym'\n",
       "\\item 'Blym'\n",
       "\\item 'RET'\n",
       "\\item 'NEUT'\n",
       "\\item 'VEC'\n",
       "\\item 'Lin-'\n",
       "\\item 'RBC'\n",
       "\\end{enumerate*}\n"
      ],
      "text/markdown": [
       "1. 'MAC1'\n",
       "2. 'MAC2'\n",
       "3. 'MAC3'\n",
       "4. 'MONO'\n",
       "5. 'DEND1'\n",
       "6. 'DEND2'\n",
       "7. 'DEND3'\n",
       "8. 'DEND4'\n",
       "9. 'NKT'\n",
       "10. 'Tlym'\n",
       "11. 'Blym'\n",
       "12. 'RET'\n",
       "13. 'NEUT'\n",
       "14. 'VEC'\n",
       "15. 'Lin-'\n",
       "16. 'RBC'\n",
       "\n",
       "\n"
      ],
      "text/plain": [
       " [1] \"MAC1\"  \"MAC2\"  \"MAC3\"  \"MONO\"  \"DEND1\" \"DEND2\" \"DEND3\" \"DEND4\" \"NKT\"  \n",
       "[10] \"Tlym\"  \"Blym\"  \"RET\"   \"NEUT\"  \"VEC\"   \"Lin-\"  \"RBC\"  "
      ]
     },
     "metadata": {},
     "output_type": "display_data"
    },
    {
     "data": {
      "text/html": [
       "<strong>png:</strong> 2"
      ],
      "text/latex": [
       "\\textbf{png:} 2"
      ],
      "text/markdown": [
       "**png:** 2"
      ],
      "text/plain": [
       "png \n",
       "  2 "
      ]
     },
     "metadata": {},
     "output_type": "display_data"
    },
    {
     "data": {
      "text/html": [
       "<strong>png:</strong> 2"
      ],
      "text/latex": [
       "\\textbf{png:} 2"
      ],
      "text/markdown": [
       "**png:** 2"
      ],
      "text/plain": [
       "png \n",
       "  2 "
      ]
     },
     "metadata": {},
     "output_type": "display_data"
    }
   ],
   "source": [
    "\n",
    "#change names of clusters and reorder\n",
    "new.cluster.ids <- c(\"MAC1\", \"Blym\", \"DEND2\", \"Tlym\", \"DEND1\", \"RET\", \"MAC2\", \"MAC3\", \"MONO\", \"NKT\", \"NEUT\", \"DEND3\", \"VEC\", \"Lin-\", \"DEND4\", \"RBC\")\n",
    "names(new.cluster.ids) <- levels(Linpos_mi_d20_r25_t)\n",
    "Linpos_mi_d20_r25_t <- RenameIdents(Linpos_mi_d20_r25_t, new.cluster.ids)\n",
    "levels(Linpos_mi_d20_r25_t)\n",
    "# [1] \"MAC1\"  \"Blym\"  \"DEND2\" \"Tlym\"  \"DEND1\" \"RET\"   \"MAC2\"  \"MAC3\"  \"MONO\" \n",
    "#[10] \"NKT\"   \"NEUT\"  \"DEND3\" \"VEC\"   \"Lin-\"  \"DEND4\" \"RBC\"\n",
    "levels(x = Linpos_mi_d20_r25_t) <- c(\"MAC1\", \"MAC2\", \"MAC3\", \"MONO\", \"DEND1\", \"DEND2\", \"DEND3\", \"DEND4\", \"NKT\", \"Tlym\", \"Blym\", \"RET\", \"NEUT\", \"VEC\", \"Lin-\", \"RBC\")\n",
    "levels(Linpos_mi_d20_r25_t)\n",
    "# [1] \"MAC1\"  \"MAC2\"  \"MAC3\"  \"MONO\"  \"DEND1\" \"DEND2\" \"DEND3\" \"DEND4\" \"NKT\"  \n",
    "#[10] \"Tlym\"  \"Blym\"  \"RET\"   \"NEUT\"  \"VEC\"   \"Lin-\"  \"RBC\"\n",
    "\n",
    "\n",
    "\n",
    "#change order of treatment for split tsne\n",
    "Linpos_mi_d20_r25_t$Treatment <- factor(Linpos_mi_d20_r25_t$Treatment, levels = c('CONTROL', 'COLD'))\n",
    "\n",
    "\n",
    "#labeled tsne - Figure 6A and B\n",
    "png(\"Linpos_mi_d20_r25_tsne_labels_1.png\", height = 480, width = 720)\n",
    "DimPlot(Linpos_mi_d20_r25_t, reduction = \"tsne\", cols = c(\"#F8766D\", \"#00BE67\", \"#00C19A\", \"#00BFC4\", \"#7CAE00\", \"#CD9600\", \"#8494FF\", \"#FF61CC\", \"#00B8E7\", \"#ABA300\", \"#E68613\", \"#0CB702\", \"#00A9FF\", \"#C77CFF\", \"#ED68ED\", \"#FF68A1\")) + theme(text = element_text(size = 25, face = \"bold\")) + labs(title = \"Lin+ Libraries\")\n",
    "dev.off()\n",
    "png(\"Linpos_mi_d20_r25_tsne_labels_split_1.png\", height = 480, width = 1120)\n",
    "DimPlot(Linpos_mi_d20_r25_t, reduction = \"tsne\", split.by = \"Treatment\", cols = c(\"#F8766D\", \"#00BE67\", \"#00C19A\", \"#00BFC4\", \"#7CAE00\", \"#CD9600\", \"#8494FF\", \"#FF61CC\", \"#00B8E7\", \"#ABA300\", \"#E68613\", \"#0CB702\", \"#00A9FF\", \"#C77CFF\", \"#ED68ED\", \"#FF68A1\")) + theme(text = element_text(size = 25, face = \"bold\"))\n",
    "dev.off()\n"
   ]
  },
  {
   "cell_type": "code",
   "execution_count": 14,
   "id": "f913a13c",
   "metadata": {},
   "outputs": [],
   "source": [
    "saveRDS(Linpos_mi_d20_r25_t, file = 'Linpos_mi_d20_r25_t.rds')\n"
   ]
  },
  {
   "cell_type": "code",
   "execution_count": 2,
   "id": "7bef568f",
   "metadata": {},
   "outputs": [],
   "source": [
    "Linpos_mi_d20_r25_t = readRDS('Linpos_mi_d20_r25_t.rds')\n",
    "Linpos_mi_d20_r25_t@meta.data$celltype = as.vector(Linpos_mi_d20_r25_t@active.ident)\n"
   ]
  },
  {
   "cell_type": "code",
   "execution_count": 18,
   "id": "84705437",
   "metadata": {},
   "outputs": [
    {
     "name": "stderr",
     "output_type": "stream",
     "text": [
      "Create a CellChat object from a data matrix\n",
      "\n",
      "Set cell identities for the new CellChat object\n",
      "\n"
     ]
    },
    {
     "name": "stdout",
     "output_type": "stream",
     "text": [
      "The cell groups used for CellChat analysis are  COLD~Blym COLD~DEND1 COLD~DEND2 COLD~DEND3 COLD~DEND4 COLD~Lin- COLD~MAC1 COLD~MAC2 COLD~MAC3 COLD~MONO COLD~NEUT COLD~NKT COLD~RBC COLD~RET COLD~Tlym COLD~VEC CONTROL~Blym CONTROL~DEND1 CONTROL~DEND2 CONTROL~DEND3 CONTROL~DEND4 CONTROL~Lin- CONTROL~MAC1 CONTROL~MAC2 CONTROL~MAC3 CONTROL~MONO CONTROL~NEUT CONTROL~NKT CONTROL~RBC CONTROL~RET CONTROL~Tlym CONTROL~VEC \n",
      "Issue identified!! Please check the official Gene Symbol of the following genes:  \n",
      " H2-Q8 H2-T9 H2-T18 H2-Q9 H2-L H2-BI H2-D H60a H2-Ea-ps \n"
     ]
    }
   ],
   "source": [
    "## CellChat\n",
    "Linpos_mi_d20_r25_t@meta.data$celltype_cond = paste(Linpos_mi_d20_r25_t@meta.data$Treatment, Linpos_mi_d20_r25_t@meta.data$celltype, sep = '~')\n",
    "\n",
    "## create cellchat object\n",
    "cellchat <- createCellChat(object = Linpos_mi_d20_r25_t@assays$RNA@data,\n",
    "                           meta = Linpos_mi_d20_r25_t@meta.data, group.by = \"celltype_cond\")\n",
    "\n",
    "## cellchat\n",
    "CellChatDB <- CellChatDB.mouse # use CellChatDB.mouse if running on mouse data\n",
    "CellChatDB.use <- CellChatDB#subsetDB(CellChatDB, search = \"Secreted Signaling\") # use Secreted Signaling\n",
    "cellchat@DB <- CellChatDB.use\n",
    "\n",
    "cellchat <- subsetData(cellchat) # This step is necessary even if using the whole database\n",
    "cellchat <- identifyOverExpressedGenes(cellchat)\n",
    "cellchat <- identifyOverExpressedInteractions(cellchat)\n",
    "\n",
    "##Compute the communication probability and infer cellular communication network\n",
    "cellchat <- computeCommunProb(cellchat)\n",
    "# Filter out the cell-cell communication if there are only few number of cells in certain cell groups\n",
    "cellchat <- filterCommunication(cellchat, min.cells = 10)\n",
    "\n",
    "## Infer the cell-cell communication at a signaling pathway level\n",
    "cellchat <- computeCommunProbPathway(cellchat)\n",
    "## Calculate the aggregated cell-cell communication network\n",
    "cellchat <- aggregateNet(cellchat)\n",
    "\n",
    "saveRDS(cellchat, 'C57_RTCOLD_Lin+Analysis_cellchat.rds')\n"
   ]
  },
  {
   "cell_type": "code",
   "execution_count": 2,
   "id": "5b9c8d54",
   "metadata": {},
   "outputs": [],
   "source": [
    "# saveRDS(cellchat, 'C57_RTCOLD_Lin+Analysis_cellchat.rds')\n",
    "cellchat = readRDS('C57_RTCOLD_Lin+Analysis_cellchat.rds')\n"
   ]
  },
  {
   "cell_type": "code",
   "execution_count": 4,
   "id": "ea03e5a2",
   "metadata": {},
   "outputs": [
    {
     "name": "stderr",
     "output_type": "stream",
     "text": [
      "Using Freq as value column: use value.var to override.\n",
      "\n",
      "Using Freq as value column: use value.var to override.\n",
      "\n"
     ]
    },
    {
     "data": {
      "text/html": [
       "<strong>png:</strong> 2"
      ],
      "text/latex": [
       "\\textbf{png:} 2"
      ],
      "text/markdown": [
       "**png:** 2"
      ],
      "text/plain": [
       "png \n",
       "  2 "
      ]
     },
     "metadata": {},
     "output_type": "display_data"
    }
   ],
   "source": [
    "df <- as.data.frame(subsetCommunication(cellchat, thresh = 1))\n",
    "df$source_cond = do.call(rbind, strsplit(as.vector(df$source), '\\\\~'))[,1]\n",
    "df$target_cond = do.call(rbind, strsplit(as.vector(df$target), '\\\\~'))[,1]\n",
    "df = subset(df, source_cond == target_cond)\n",
    "\n",
    "\n",
    "## circle plot for each condition\n",
    "pdf('C57_RTCOLD_Lin+Analysis_CellChat_NetPlot_updated.pdf')\n",
    "LR_net = list()\n",
    "for (condition in c('COLD', 'CONTROL')){\n",
    "    title=condition\n",
    "    tdf = subset(df, source_cond == condition & target_cond == condition & pval < 0.05)\n",
    "    tdf$source = gsub(paste0(condition, '~'), '', as.vector(tdf$source))\n",
    "    tdf$target = gsub(paste0(condition, '~'), '', as.vector(tdf$target))\n",
    "    groupSize <- table(c(tdf$source, tdf$target))\n",
    "    dc = as.data.frame(table(tdf[,c('source', 'target')]))\n",
    "    dc = reshape2::acast(dc, formula = source ~ target)\n",
    "    dc = dc[sort(rownames(dc)), sort(rownames(dc))]\n",
    "    colnames(dc) = gsub(paste0(condition, '~'), '', colnames(dc))\n",
    "    rownames(dc) = gsub(paste0(condition, '~'), '', rownames(dc))\n",
    "\n",
    "    g = netVisual_circle(dc, vertex.weight = groupSize[rownames(dc)], vertex.weight.max = 1000,\n",
    "                     weight.scale = T, label.edge= F, title.name = paste0(title, \"\\nNumber of interactions\"),\n",
    "                        alpha = .4)\n",
    "    \n",
    "\n",
    "    LR_net[[condition]] = tdf\n",
    "}\n",
    "dev.off()\n",
    "\n"
   ]
  },
  {
   "cell_type": "code",
   "execution_count": 53,
   "id": "231f0290",
   "metadata": {},
   "outputs": [
    {
     "data": {
      "text/html": [
       "<strong>png:</strong> 2"
      ],
      "text/latex": [
       "\\textbf{png:} 2"
      ],
      "text/markdown": [
       "**png:** 2"
      ],
      "text/plain": [
       "png \n",
       "  2 "
      ]
     },
     "metadata": {},
     "output_type": "display_data"
    }
   ],
   "source": [
    "## how many out-going for each celltype in conditions\n",
    "outgoing_count = do.call(rbind, lapply(LR_net, function(df) table(df$source)))\n",
    "chi_t = p.adjust(apply(outgoing_count, 2, function(x){chisq.test(x)$p.value}))\n",
    "chi_t = format(chi_t, digits = 2, scientific = T)\n",
    "outgoing_count_plot = outgoing_count\n",
    "rownames(outgoing_count_plot) = c('CONTROL', 'COLD')\n",
    "colnames(outgoing_count_plot) = sapply(colnames(outgoing_count_plot), function(x){\n",
    "        paste0(x, ' [p=', chi_t[x], ']')\n",
    "})                              \n",
    "                                       \n",
    "incoming_count = do.call(rbind, lapply(LR_net, function(df) table(df$target)))\n",
    "chi_t = p.adjust(apply(incoming_count, 2, function(x){chisq.test(x)$p.value}))\n",
    "chi_t = format(chi_t, digits = 2, scientific = T)\n",
    "incoming_count_plot = incoming_count\n",
    "rownames(incoming_count_plot) = c('CONTROL', 'COLD')\n",
    "colnames(incoming_count_plot) = sapply(colnames(incoming_count_plot), function(x){\n",
    "    paste0(x, ' [p=', chi_t[x], ']')\n",
    "})                              \n",
    "                      \n",
    "col_fun = circlize::colorRamp2(c(0, 50, 100, 400, 600, 900), c('grey', 'pink', 'purple', \n",
    "                                                               'blue', 'darkorange', 'red'))\n",
    "#                                rev(c(rainbow(6)[2:6], 'grey')))\n",
    "              \n",
    "pdf('C57_RTCOLD_Lin+Analysis_CellChat_outgoing_incoming_commu_count_ht.pdf', height = 6, width = 7)\n",
    "Heatmap(t(outgoing_count_plot), name = \"Outgoing Interaction\", cluster_columns = F, cluster_rows = T, col = col_fun,\n",
    "    cell_fun = function(j, i, x, y, width, height, fill) {\n",
    "        grid.text(sprintf(\"%.0f\", t(outgoing_count_plot)[i, j]), x, y, gp = gpar(fontsize = 8, col = 'white'))}, \n",
    "        rect_gp = gpar(col = \"white\", lwd = 1),\n",
    "       top_annotation = HeatmapAnnotation('Total' = row_anno_barplot(colSums(t(outgoing_count_plot))))\n",
    "       )\n",
    "    \n",
    "Heatmap(t(incoming_count_plot), name = \"Incoming Interaction\", cluster_columns = F, cluster_rows = T, col = col_fun,\n",
    "    cell_fun = function(j, i, x, y, width, height, fill) {\n",
    "        grid.text(sprintf(\"%.0f\", t(incoming_count_plot)[i, j]), x, y, gp = gpar(fontsize = 8, col = 'white'))}, \n",
    "        rect_gp = gpar(col = \"white\", lwd = 1),\n",
    "       top_annotation = HeatmapAnnotation('Total' = row_anno_barplot(colSums(t(incoming_count_plot))))\n",
    "       )\n",
    "dev.off()\n",
    "         \n"
   ]
  },
  {
   "cell_type": "markdown",
   "id": "b4e2d453",
   "metadata": {},
   "source": [
    "## Lin-\n"
   ]
  },
  {
   "cell_type": "code",
   "execution_count": 2,
   "id": "3ecda1c2",
   "metadata": {},
   "outputs": [],
   "source": [
    "############Seurat processing\n",
    "############\n",
    "O_RT.data <- Read10X(data.dir = \"GSE207706_RAW/GSM6310684_C57_RT_Linneg_Rep1/\")\n",
    "O_RT <- CreateSeuratObject(counts = O_RT.data, min.cells=3, project = \"C57_RT_Rep1_LN_SoupX\")\n",
    "O_RT$Replicate <- \"Rep1\"\n",
    "O_RT$Treatment <- \"CONTROL\"\n",
    "# str(O_RT) #5886\n",
    "############################################################################\n",
    "O_6C.data <- Read10X(data.dir = \"GSE207706_RAW/GSM6310686_C57_COLD_Linneg_Rep1/\")\n",
    "O_6C <- CreateSeuratObject(counts = O_6C.data, min.cells=3, project = \"C57_COLD_Rep1_LN_SoupX\")\n",
    "O_6C$Replicate <- \"Rep1\"\n",
    "O_6C$Treatment <- \"COLD\"\n",
    "# str(O_6C) #10242\n",
    "############################################################################\n",
    "R_RT.data <- Read10X(data.dir = \"GSE207706_RAW/GSM6310690_C57_RT_Linneg_Rep2/\")\n",
    "R_RT <- CreateSeuratObject(counts = R_RT.data, min.cells=3, project = \"C57_RT_Rep2_LN_SoupX\")\n",
    "R_RT$Replicate <- \"Rep2\"\n",
    "R_RT$Treatment <- \"CONTROL\"\n",
    "# str(R_RT) #22072\n",
    "############################################################################\n",
    "R_6C.data <- Read10X(data.dir = \"GSE207706_RAW/GSM6310692_C57_COLD_Linneg_Rep2/\")\n",
    "R_6C <- CreateSeuratObject(counts = R_6C.data, min.cells=3, project = \"C57_COLD_Rep2_LN_SoupX\")\n",
    "R_6C$Replicate <- \"Rep2\"\n",
    "R_6C$Treatment <- \"COLD\"\n",
    "# str(R_6C) #7414\n",
    "\n"
   ]
  },
  {
   "cell_type": "code",
   "execution_count": 3,
   "id": "1b766dff",
   "metadata": {},
   "outputs": [],
   "source": [
    "###################\n",
    "#Subset\n",
    "###################\n",
    "O_RT[[\"percent.mt\"]] <- PercentageFeatureSet(O_RT, pattern = \"^mt-\")\n",
    "O_6C[[\"percent.mt\"]] <- PercentageFeatureSet(O_6C, pattern = \"^mt-\")\n",
    "R_RT[[\"percent.mt\"]] <- PercentageFeatureSet(R_RT, pattern = \"^mt-\")\n",
    "R_6C[[\"percent.mt\"]] <- PercentageFeatureSet(R_6C, pattern = \"^mt-\")\n",
    "O_RT <- subset(O_RT, subset = percent.mt < 10 & nCount_RNA < 15000 & nFeature_RNA > 100)\n",
    "O_6C <- subset(O_6C, subset = percent.mt < 10 & nCount_RNA < 15000 & nFeature_RNA > 100)\n",
    "R_RT <- subset(R_RT, subset = percent.mt < 10 & nCount_RNA < 15000 & nFeature_RNA > 100)\n",
    "R_6C <- subset(R_6C, subset = percent.mt < 10 & nCount_RNA < 15000 & nFeature_RNA > 100)\n",
    "# str(O_RT) #5603\n",
    "# str(O_6C) #9855\n",
    "# str(R_RT) #6171\n",
    "# str(R_6C) #7062\n",
    "\n",
    "\n",
    "O_RT <- NormalizeData(O_RT)\n",
    "O_6C <- NormalizeData(O_6C)\n",
    "R_RT <- NormalizeData(R_RT)\n",
    "R_6C <- NormalizeData(R_6C)\n",
    "\n"
   ]
  },
  {
   "cell_type": "code",
   "execution_count": 4,
   "id": "1437bb5a",
   "metadata": {
    "scrolled": true
   },
   "outputs": [
    {
     "name": "stderr",
     "output_type": "stream",
     "text": [
      "Warning message in CheckDuplicateCellNames(object.list = objects):\n",
      "“Some cell names are duplicated across objects provided. Renaming to enforce unique cell names.”\n",
      "Warning message in CheckDuplicateCellNames(object.list = objects):\n",
      "“Some cell names are duplicated across objects provided. Renaming to enforce unique cell names.”\n",
      "Warning message in CheckDuplicateCellNames(object.list = object.list):\n",
      "“Some cell names are duplicated across objects provided. Renaming to enforce unique cell names.”\n",
      "Computing 2000 integration features\n",
      "\n",
      "Scaling features for provided objects\n",
      "\n",
      "Finding all pairwise anchors\n",
      "\n",
      "Running CCA\n",
      "\n",
      "Merging objects\n",
      "\n",
      "Finding neighborhoods\n",
      "\n",
      "Finding anchors\n",
      "\n",
      "\tFound 28940 anchors\n",
      "\n",
      "Filtering anchors\n",
      "\n",
      "\tRetained 11646 anchors\n",
      "\n",
      "Merging dataset 2 into 1\n",
      "\n",
      "Extracting anchors for merged samples\n",
      "\n",
      "Finding integration vectors\n",
      "\n",
      "Finding integration vector weights\n",
      "\n",
      "Integrating data\n",
      "\n"
     ]
    }
   ],
   "source": [
    "\n",
    "###################\n",
    "#Merge\n",
    "###################\n",
    "#https://satijalab.org/seurat/v3.1/merge_vignette.html\n",
    "OGnorm <- merge(O_RT, y = O_6C, project = \"OG_Linneg\", merge.data = TRUE)\n",
    "RTnorm <- merge(R_RT, y = R_6C, project = \"RT_Linneg\", merge.data = TRUE)\n",
    "\n",
    "\n",
    "###################\n",
    "#Find Variable Features\n",
    "###################\n",
    "OGnorm <- FindVariableFeatures(OGnorm, selection.method = \"vst\", nfeatures = 2000)\n",
    "RTnorm <- FindVariableFeatures(RTnorm, selection.method = \"vst\", nfeatures = 2000)\n",
    "\n",
    "\n",
    "###################\n",
    "###################\n",
    "#Integrate\n",
    "#######################dim = 12, res 0.1\n",
    "LNanchors12 <- FindIntegrationAnchors(object.list = list(OGnorm, RTnorm), dims = 1:12) \n",
    "Linneg_mi_d12 <- IntegrateData(anchorset = LNanchors12, dims = 1:12)\n",
    "\n"
   ]
  },
  {
   "cell_type": "code",
   "execution_count": 5,
   "id": "a558deb5",
   "metadata": {},
   "outputs": [],
   "source": [
    "saveRDS(Linneg_mi_d12, file = 'Linneg_mi_d12.rds')\n"
   ]
  },
  {
   "cell_type": "code",
   "execution_count": null,
   "id": "4e9634d0",
   "metadata": {},
   "outputs": [],
   "source": [
    "###################\n",
    "#Scale\n",
    "###################\n",
    "allgenesmi12 <- rownames(Linneg_mi_d12)\n",
    "Linneg_mi_d12 <- ScaleData(Linneg_mi_d12, features = allgenesmi12)\n",
    "###################\n",
    "#PCs\n",
    "###################\n",
    "Linneg_mi_d12 <- RunPCA(Linneg_mi_d12, features = VariableFeatures(object = Linneg_mi_d12))\n",
    "Linneg_mi_d12 <- FindNeighbors(Linneg_mi_d12, dims = 1:12)\n",
    "###################\n",
    "#Visualize Data\n",
    "###################\n",
    "Linneg_mi_d12_r1 <- FindClusters(Linneg_mi_d12, resolution = 0.1)\n",
    "#TSNE\n",
    "Linneg_mi_d12_r1_t <- RunTSNE(Linneg_mi_d12_r1, dims = 1:12)\n",
    "png(\"Linneg_mi_d12_r1_tsne_1.png\")\n",
    "DimPlot(Linneg_mi_d12_r1_t, reduction = \"tsne\")\n",
    "dev.off()\n",
    "png(\"Linneg_mi_d12_r1_tsne_2.png\")\n",
    "DimPlot(Linneg_mi_d12_r1_t, reduction = \"tsne\", split.by = \"Treatment\")\n",
    "dev.off()\n"
   ]
  },
  {
   "cell_type": "code",
   "execution_count": 5,
   "id": "d5a1308f",
   "metadata": {},
   "outputs": [
    {
     "name": "stderr",
     "output_type": "stream",
     "text": [
      "Warning message:\n",
      "“Cannot find identity NA”\n"
     ]
    },
    {
     "data": {
      "text/html": [
       "<style>\n",
       ".list-inline {list-style: none; margin:0; padding: 0}\n",
       ".list-inline>li {display: inline-block}\n",
       ".list-inline>li:not(:last-child)::after {content: \"\\00b7\"; padding: 0 .5ex}\n",
       "</style>\n",
       "<ol class=list-inline><li>'ASC1'</li><li>'ASC2'</li><li>'ASC1-3'</li><li>'VEC'</li><li>'Prolif/Diff'</li><li>'VSMC'</li><li>'Immune'</li></ol>\n"
      ],
      "text/latex": [
       "\\begin{enumerate*}\n",
       "\\item 'ASC1'\n",
       "\\item 'ASC2'\n",
       "\\item 'ASC1-3'\n",
       "\\item 'VEC'\n",
       "\\item 'Prolif/Diff'\n",
       "\\item 'VSMC'\n",
       "\\item 'Immune'\n",
       "\\end{enumerate*}\n"
      ],
      "text/markdown": [
       "1. 'ASC1'\n",
       "2. 'ASC2'\n",
       "3. 'ASC1-3'\n",
       "4. 'VEC'\n",
       "5. 'Prolif/Diff'\n",
       "6. 'VSMC'\n",
       "7. 'Immune'\n",
       "\n",
       "\n"
      ],
      "text/plain": [
       "[1] \"ASC1\"        \"ASC2\"        \"ASC1-3\"      \"VEC\"         \"Prolif/Diff\"\n",
       "[6] \"VSMC\"        \"Immune\"     "
      ]
     },
     "metadata": {},
     "output_type": "display_data"
    },
    {
     "data": {
      "text/html": [
       "<strong>png:</strong> 2"
      ],
      "text/latex": [
       "\\textbf{png:} 2"
      ],
      "text/markdown": [
       "**png:** 2"
      ],
      "text/plain": [
       "png \n",
       "  2 "
      ]
     },
     "metadata": {},
     "output_type": "display_data"
    },
    {
     "data": {
      "text/html": [
       "<strong>png:</strong> 2"
      ],
      "text/latex": [
       "\\textbf{png:} 2"
      ],
      "text/markdown": [
       "**png:** 2"
      ],
      "text/plain": [
       "png \n",
       "  2 "
      ]
     },
     "metadata": {},
     "output_type": "display_data"
    }
   ],
   "source": [
    "\n",
    "#change order of treatment for split.by\n",
    "Linneg_mi_d12_r1_t$Treatment <- factor(Linneg_mi_d12_r1_t$Treatment, levels = c('CONTROL', 'COLD'))\n",
    "\n",
    "\n",
    "#Set new cluster ids\n",
    "new.cluster.ids <- c(\"ASC1\", \"ASC2\", \"ASC1-3\", \"VEC\", \"Prolif/Diff\", \"VSMC\", \"Immune\", \"Schwann\")\n",
    "names(new.cluster.ids) <- levels(Linneg_mi_d12_r1_t)\n",
    "Linneg_mi_d12_r1_t <- RenameIdents(Linneg_mi_d12_r1_t, new.cluster.ids)\n",
    "levels(Linneg_mi_d12_r1_t)\n",
    "#[1] \"ASC               1\" \"ASC               2\" \"ASC1-3\"             \n",
    "#[4] \"VEC\"                 \"Prolif/Diff\"         \"VSMC\"               \n",
    "#[7] \"Immune\"              \"Schwann\"\n",
    "Linneg_mi_d12_r1_t[[\"seurat_cident\"]] <- Idents(object = Linneg_mi_d12_r1_t)\n",
    "\n",
    "\n",
    "#labeled tsne - Figure 2 A-B\n",
    "png(\"Linneg_mi_d12_r1_tsne_labels_1.png\", height = 480, width = 720)\n",
    "DimPlot(Linneg_mi_d12_r1_t, reduction = \"tsne\", cols = c(\"#B79F00\", \"#F8766D\", \"#00BA38\", \"#619CFF\", \"#00BFC4\", \"#ED962C\", \"#C77CFF\", \"#FF61CC\")) + theme(text = element_text(size = 25, face = \"bold\")) + labs(title = \"Lin- Libraries\")\n",
    "dev.off()\n",
    "png(\"Linneg_mi_d12_r1_tsne_labels_split_1.png\", height = 480, width = 960)\n",
    "DimPlot(Linneg_mi_d12_r1_t, reduction = \"tsne\", split.by = \"Treatment\", cols = c(\"#B79F00\", \"#F8766D\", \"#00BA38\", \"#619CFF\", \"#00BFC4\", \"#ED962C\", \"#C77CFF\", \"#FF61CC\")) + theme(text = element_text(size = 25, face = \"bold\")) + NoLegend()\n",
    "dev.off()\n"
   ]
  },
  {
   "cell_type": "code",
   "execution_count": 3,
   "id": "b2608597",
   "metadata": {},
   "outputs": [],
   "source": [
    "Linneg_mi_d12_r1_t <- readRDS('Linneg_mi_d12_r1_t.rds')\n",
    "Linneg_mi_d12_r1_t@meta.data$celltype = as.vector(Linneg_mi_d12_r1_t@active.ident)\n"
   ]
  },
  {
   "cell_type": "code",
   "execution_count": 5,
   "id": "860a5909",
   "metadata": {},
   "outputs": [
    {
     "data": {
      "text/html": [
       "<style>\n",
       ".list-inline {list-style: none; margin:0; padding: 0}\n",
       ".list-inline>li {display: inline-block}\n",
       ".list-inline>li:not(:last-child)::after {content: \"\\00b7\"; padding: 0 .5ex}\n",
       "</style>\n",
       "<ol class=list-inline><li>'ASC1'</li><li>'ASC2'</li><li>'ASC1-3'</li><li>'VEC'</li><li>'Prolif/Diff'</li><li>'VSMC'</li><li>'Immune'</li><li>'Schwann'</li></ol>\n"
      ],
      "text/latex": [
       "\\begin{enumerate*}\n",
       "\\item 'ASC1'\n",
       "\\item 'ASC2'\n",
       "\\item 'ASC1-3'\n",
       "\\item 'VEC'\n",
       "\\item 'Prolif/Diff'\n",
       "\\item 'VSMC'\n",
       "\\item 'Immune'\n",
       "\\item 'Schwann'\n",
       "\\end{enumerate*}\n"
      ],
      "text/markdown": [
       "1. 'ASC1'\n",
       "2. 'ASC2'\n",
       "3. 'ASC1-3'\n",
       "4. 'VEC'\n",
       "5. 'Prolif/Diff'\n",
       "6. 'VSMC'\n",
       "7. 'Immune'\n",
       "8. 'Schwann'\n",
       "\n",
       "\n"
      ],
      "text/plain": [
       "[1] \"ASC1\"        \"ASC2\"        \"ASC1-3\"      \"VEC\"         \"Prolif/Diff\"\n",
       "[6] \"VSMC\"        \"Immune\"      \"Schwann\"    "
      ]
     },
     "metadata": {},
     "output_type": "display_data"
    }
   ],
   "source": [
    "levels(Linneg_mi_d12_r1_t)\n"
   ]
  },
  {
   "cell_type": "code",
   "execution_count": 6,
   "id": "4fedac2d",
   "metadata": {},
   "outputs": [
    {
     "data": {
      "text/html": [
       "<style>\n",
       ".list-inline {list-style: none; margin:0; padding: 0}\n",
       ".list-inline>li {display: inline-block}\n",
       ".list-inline>li:not(:last-child)::after {content: \"\\00b7\"; padding: 0 .5ex}\n",
       "</style>\n",
       "<ol class=list-inline><li>'MAC1'</li><li>'MAC2'</li><li>'MAC3'</li><li>'MONO'</li><li>'DEND1'</li><li>'DEND2'</li><li>'DEND3'</li><li>'DEND4'</li><li>'NKT'</li><li>'Tlym'</li><li>'Blym'</li><li>'RET'</li><li>'NEUT'</li><li>'VEC'</li><li>'Lin-'</li><li>'RBC'</li></ol>\n"
      ],
      "text/latex": [
       "\\begin{enumerate*}\n",
       "\\item 'MAC1'\n",
       "\\item 'MAC2'\n",
       "\\item 'MAC3'\n",
       "\\item 'MONO'\n",
       "\\item 'DEND1'\n",
       "\\item 'DEND2'\n",
       "\\item 'DEND3'\n",
       "\\item 'DEND4'\n",
       "\\item 'NKT'\n",
       "\\item 'Tlym'\n",
       "\\item 'Blym'\n",
       "\\item 'RET'\n",
       "\\item 'NEUT'\n",
       "\\item 'VEC'\n",
       "\\item 'Lin-'\n",
       "\\item 'RBC'\n",
       "\\end{enumerate*}\n"
      ],
      "text/markdown": [
       "1. 'MAC1'\n",
       "2. 'MAC2'\n",
       "3. 'MAC3'\n",
       "4. 'MONO'\n",
       "5. 'DEND1'\n",
       "6. 'DEND2'\n",
       "7. 'DEND3'\n",
       "8. 'DEND4'\n",
       "9. 'NKT'\n",
       "10. 'Tlym'\n",
       "11. 'Blym'\n",
       "12. 'RET'\n",
       "13. 'NEUT'\n",
       "14. 'VEC'\n",
       "15. 'Lin-'\n",
       "16. 'RBC'\n",
       "\n",
       "\n"
      ],
      "text/plain": [
       " [1] \"MAC1\"  \"MAC2\"  \"MAC3\"  \"MONO\"  \"DEND1\" \"DEND2\" \"DEND3\" \"DEND4\" \"NKT\"  \n",
       "[10] \"Tlym\"  \"Blym\"  \"RET\"   \"NEUT\"  \"VEC\"   \"Lin-\"  \"RBC\"  "
      ]
     },
     "metadata": {},
     "output_type": "display_data"
    }
   ],
   "source": [
    "levels(Linpos_mi_d20_r25_t)\n"
   ]
  },
  {
   "cell_type": "code",
   "execution_count": 4,
   "id": "a21e7ff1",
   "metadata": {},
   "outputs": [],
   "source": [
    "## merge two objects\n",
    "combined = merge(Linneg_mi_d12_r1_t, Linpos_mi_d20_r25_t, \n",
    "                 add.cell.ids = c(\"Lin_neg\", \"Lin_pos\"), project = \"BAT\")\n"
   ]
  },
  {
   "cell_type": "code",
   "execution_count": 5,
   "id": "e5478a71",
   "metadata": {},
   "outputs": [],
   "source": [
    "rm(Linneg_mi_d12_r1_t)\n",
    "rm(Linpos_mi_d20_r25_t)\n"
   ]
  },
  {
   "cell_type": "code",
   "execution_count": 6,
   "id": "7b2d4f21",
   "metadata": {},
   "outputs": [],
   "source": [
    "## remove Immune in Lin_neg and remove Lin- in Lin_pos\n",
    "celltypes = setdiff(unique(combined@meta.data$celltype),\n",
    "                   c('Lin-', 'Immune'))\n",
    "combined = subset(combined, celltype %in% celltypes)\n"
   ]
  },
  {
   "cell_type": "code",
   "execution_count": 12,
   "id": "6d7a6ea9",
   "metadata": {},
   "outputs": [
    {
     "name": "stderr",
     "output_type": "stream",
     "text": [
      "Create a CellChat object from a data matrix\n",
      "\n",
      "Set cell identities for the new CellChat object\n",
      "\n"
     ]
    },
    {
     "name": "stdout",
     "output_type": "stream",
     "text": [
      "The cell groups used for CellChat analysis are  COLD~ASC1 COLD~ASC1-3 COLD~ASC2 COLD~Blym COLD~DEND1 COLD~DEND2 COLD~DEND3 COLD~DEND4 COLD~MAC1 COLD~MAC2 COLD~MAC3 COLD~MONO COLD~NEUT COLD~NKT COLD~Prolif/Diff COLD~RBC COLD~RET COLD~Schwann COLD~Tlym COLD~VEC COLD~VSMC CONTROL~ASC1 CONTROL~ASC1-3 CONTROL~ASC2 CONTROL~Blym CONTROL~DEND1 CONTROL~DEND2 CONTROL~DEND3 CONTROL~DEND4 CONTROL~MAC1 CONTROL~MAC2 CONTROL~MAC3 CONTROL~MONO CONTROL~NEUT CONTROL~NKT CONTROL~Prolif/Diff CONTROL~RBC CONTROL~RET CONTROL~Schwann CONTROL~Tlym CONTROL~VEC CONTROL~VSMC \n",
      "Issue identified!! Please check the official Gene Symbol of the following genes:  \n",
      " H2-Q8 H2-T9 H2-T18 H2-Q9 H2-L H2-BI H2-D H60a H2-Ea-ps \n"
     ]
    }
   ],
   "source": [
    "## CellChat\n",
    "combined@meta.data$celltype_cond = paste(combined@meta.data$Treatment, combined@meta.data$celltype, sep = '~')\n",
    "\n",
    "## create cellchat object\n",
    "cellchat <- createCellChat(object = combined@assays$RNA@data,\n",
    "                           meta = combined@meta.data, group.by = \"celltype_cond\")\n",
    "\n",
    "## cellchat\n",
    "CellChatDB <- CellChatDB.mouse # use CellChatDB.mouse if running on mouse data\n",
    "CellChatDB.use <- CellChatDB#subsetDB(CellChatDB, search = \"Secreted Signaling\") # use Secreted Signaling\n",
    "cellchat@DB <- CellChatDB.use\n",
    "\n",
    "cellchat <- subsetData(cellchat) # This step is necessary even if using the whole database\n",
    "cellchat <- identifyOverExpressedGenes(cellchat)\n",
    "cellchat <- identifyOverExpressedInteractions(cellchat)\n",
    "\n",
    "##Compute the communication probability and infer cellular communication network\n",
    "cellchat <- computeCommunProb(cellchat)\n",
    "# Filter out the cell-cell communication if there are only few number of cells in certain cell groups\n",
    "cellchat <- filterCommunication(cellchat, min.cells = 10)\n",
    "\n",
    "## Infer the cell-cell communication at a signaling pathway level\n",
    "cellchat <- computeCommunProbPathway(cellchat)\n",
    "## Calculate the aggregated cell-cell communication network\n",
    "cellchat <- aggregateNet(cellchat)\n",
    "\n",
    "saveRDS(cellchat, 'C57_RTCOLD_combined_Analysis_cellchat.rds')\n",
    "\n"
   ]
  },
  {
   "cell_type": "code",
   "execution_count": 13,
   "id": "c5e27cb0",
   "metadata": {},
   "outputs": [
    {
     "name": "stderr",
     "output_type": "stream",
     "text": [
      "Using Freq as value column: use value.var to override.\n",
      "\n",
      "Using Freq as value column: use value.var to override.\n",
      "\n"
     ]
    },
    {
     "data": {
      "text/html": [
       "<strong>png:</strong> 2"
      ],
      "text/latex": [
       "\\textbf{png:} 2"
      ],
      "text/markdown": [
       "**png:** 2"
      ],
      "text/plain": [
       "png \n",
       "  2 "
      ]
     },
     "metadata": {},
     "output_type": "display_data"
    }
   ],
   "source": [
    "df <- as.data.frame(subsetCommunication(cellchat, thresh = 1))\n",
    "df$source_cond = do.call(rbind, strsplit(as.vector(df$source), '\\\\~'))[,1]\n",
    "df$target_cond = do.call(rbind, strsplit(as.vector(df$target), '\\\\~'))[,1]\n",
    "df = subset(df, source_cond == target_cond)\n",
    "\n",
    "\n",
    "## circle plot for each condition\n",
    "pdf('C57_RTCOLD_combined_Analysis_CellChat_NetPlot_updated.pdf')\n",
    "LR_net = list()\n",
    "for (condition in c('COLD', 'CONTROL')){\n",
    "    title=condition\n",
    "    tdf = subset(df, source_cond == condition & target_cond == condition & pval < 0.05)\n",
    "    tdf$source = gsub(paste0(condition, '~'), '', as.vector(tdf$source))\n",
    "    tdf$target = gsub(paste0(condition, '~'), '', as.vector(tdf$target))\n",
    "    groupSize <- table(c(tdf$source, tdf$target))\n",
    "    dc = as.data.frame(table(tdf[,c('source', 'target')]))\n",
    "    dc = reshape2::acast(dc, formula = source ~ target)\n",
    "    dc = dc[sort(rownames(dc)), sort(rownames(dc))]\n",
    "    colnames(dc) = gsub(paste0(condition, '~'), '', colnames(dc))\n",
    "    rownames(dc) = gsub(paste0(condition, '~'), '', rownames(dc))\n",
    "\n",
    "    g = netVisual_circle(dc, vertex.weight = groupSize[rownames(dc)], vertex.weight.max = 1000,\n",
    "                     weight.scale = T, label.edge= F, title.name = paste0(title, \"\\nNumber of interactions\"),\n",
    "                        alpha = .4)\n",
    "    \n",
    "\n",
    "    LR_net[[condition]] = tdf\n",
    "}\n",
    "dev.off()\n",
    "\n"
   ]
  },
  {
   "cell_type": "code",
   "execution_count": 14,
   "id": "a8fcba0a",
   "metadata": {},
   "outputs": [
    {
     "data": {
      "text/html": [
       "<strong>png:</strong> 2"
      ],
      "text/latex": [
       "\\textbf{png:} 2"
      ],
      "text/markdown": [
       "**png:** 2"
      ],
      "text/plain": [
       "png \n",
       "  2 "
      ]
     },
     "metadata": {},
     "output_type": "display_data"
    }
   ],
   "source": [
    "## how many out-going for each celltype in conditions\n",
    "outgoing_count = do.call(rbind, lapply(LR_net, function(df) table(df$source)))\n",
    "chi_t = p.adjust(apply(outgoing_count, 2, function(x){chisq.test(x)$p.value}))\n",
    "chi_t = format(chi_t, digits = 2, scientific = T)\n",
    "outgoing_count_plot = outgoing_count\n",
    "rownames(outgoing_count_plot) = c('CONTROL', 'COLD')\n",
    "colnames(outgoing_count_plot) = sapply(colnames(outgoing_count_plot), function(x){\n",
    "        paste0(x, ' [p=', chi_t[x], ']')\n",
    "})                              \n",
    "                                       \n",
    "incoming_count = do.call(rbind, lapply(LR_net, function(df) table(df$target)))\n",
    "chi_t = p.adjust(apply(incoming_count, 2, function(x){chisq.test(x)$p.value}))\n",
    "chi_t = format(chi_t, digits = 2, scientific = T)\n",
    "incoming_count_plot = incoming_count\n",
    "rownames(incoming_count_plot) = c('CONTROL', 'COLD')\n",
    "colnames(incoming_count_plot) = sapply(colnames(incoming_count_plot), function(x){\n",
    "    paste0(x, ' [p=', chi_t[x], ']')\n",
    "})                              \n",
    "                      \n",
    "col_fun = circlize::colorRamp2(c(0, 50, 100, 400, 600, 900), c('grey', 'pink', 'purple', \n",
    "                                                               'blue', 'darkorange', 'red'))\n",
    "#                                rev(c(rainbow(6)[2:6], 'grey')))\n",
    "              \n",
    "pdf('C57_RTCOLD_combined_Analysis_CellChat_outgoing_incoming_commu_count_ht.pdf', height = 6, width = 7)\n",
    "Heatmap(t(outgoing_count_plot), name = \"Outgoing Interaction\", cluster_columns = F, cluster_rows = T, col = col_fun,\n",
    "    cell_fun = function(j, i, x, y, width, height, fill) {\n",
    "        grid.text(sprintf(\"%.0f\", t(outgoing_count_plot)[i, j]), x, y, gp = gpar(fontsize = 8, col = 'white'))}, \n",
    "        rect_gp = gpar(col = \"white\", lwd = 1),\n",
    "       top_annotation = HeatmapAnnotation('Total' = row_anno_barplot(colSums(t(outgoing_count_plot))))\n",
    "       )\n",
    "    \n",
    "Heatmap(t(incoming_count_plot), name = \"Incoming Interaction\", cluster_columns = F, cluster_rows = T, col = col_fun,\n",
    "    cell_fun = function(j, i, x, y, width, height, fill) {\n",
    "        grid.text(sprintf(\"%.0f\", t(incoming_count_plot)[i, j]), x, y, gp = gpar(fontsize = 8, col = 'white'))}, \n",
    "        rect_gp = gpar(col = \"white\", lwd = 1),\n",
    "       top_annotation = HeatmapAnnotation('Total' = row_anno_barplot(colSums(t(incoming_count_plot))))\n",
    "       )\n",
    "dev.off()\n",
    "         \n"
   ]
  },
  {
   "cell_type": "code",
   "execution_count": 15,
   "id": "b9667ed9",
   "metadata": {},
   "outputs": [
    {
     "name": "stderr",
     "output_type": "stream",
     "text": [
      "Create a CellChat object from a data matrix\n",
      "\n",
      "Set cell identities for the new CellChat object\n",
      "\n"
     ]
    },
    {
     "name": "stdout",
     "output_type": "stream",
     "text": [
      "The cell groups used for CellChat analysis are  ASC1 ASC1-3 ASC2 Blym DEND1 DEND2 DEND3 DEND4 MAC1 MAC2 MAC3 MONO NEUT NKT Prolif/Diff RBC RET Schwann Tlym VEC VSMC \n",
      "Issue identified!! Please check the official Gene Symbol of the following genes:  \n",
      " H2-Q8 H2-T9 H2-T18 H2-Q9 H2-L H2-BI H2-D H60a H2-Ea-ps \n"
     ]
    }
   ],
   "source": [
    "\n",
    "## create cellchat object\n",
    "cellchat <- createCellChat(object = combined@assays$RNA@data,\n",
    "                           meta = combined@meta.data, group.by = \"celltype\")\n",
    "\n",
    "## cellchat\n",
    "CellChatDB <- CellChatDB.mouse # use CellChatDB.mouse if running on mouse data\n",
    "CellChatDB.use <- CellChatDB#subsetDB(CellChatDB, search = \"Secreted Signaling\") # use Secreted Signaling\n",
    "cellchat@DB <- CellChatDB.use\n",
    "\n",
    "cellchat <- subsetData(cellchat) # This step is necessary even if using the whole database\n",
    "cellchat <- identifyOverExpressedGenes(cellchat)\n",
    "cellchat <- identifyOverExpressedInteractions(cellchat)\n",
    "\n",
    "##Compute the communication probability and infer cellular communication network\n",
    "cellchat <- computeCommunProb(cellchat)\n",
    "# Filter out the cell-cell communication if there are only few number of cells in certain cell groups\n",
    "cellchat <- filterCommunication(cellchat, min.cells = 10)\n",
    "\n",
    "## Infer the cell-cell communication at a signaling pathway level\n",
    "cellchat <- computeCommunProbPathway(cellchat)\n",
    "## Calculate the aggregated cell-cell communication network\n",
    "cellchat <- aggregateNet(cellchat)\n",
    "\n",
    "saveRDS(cellchat, 'C57_RTCOLD_combined_Analysis_cellchat_allcell.rds')\n"
   ]
  },
  {
   "cell_type": "code",
   "execution_count": 27,
   "id": "b1b317af",
   "metadata": {},
   "outputs": [],
   "source": [
    "cellchat = readRDS('C57_RTCOLD_combined_Analysis_cellchat_allcell.rds')\n"
   ]
  },
  {
   "cell_type": "code",
   "execution_count": 30,
   "id": "99b1567b",
   "metadata": {},
   "outputs": [
    {
     "data": {
      "text/html": [
       "<style>\n",
       ".list-inline {list-style: none; margin:0; padding: 0}\n",
       ".list-inline>li {display: inline-block}\n",
       ".list-inline>li:not(:last-child)::after {content: \"\\00b7\"; padding: 0 .5ex}\n",
       "</style>\n",
       "<ol class=list-inline><li>5209</li><li>11</li></ol>\n"
      ],
      "text/latex": [
       "\\begin{enumerate*}\n",
       "\\item 5209\n",
       "\\item 11\n",
       "\\end{enumerate*}\n"
      ],
      "text/markdown": [
       "1. 5209\n",
       "2. 11\n",
       "\n",
       "\n"
      ],
      "text/plain": [
       "[1] 5209   11"
      ]
     },
     "metadata": {},
     "output_type": "display_data"
    },
    {
     "data": {
      "text/html": [
       "<style>\n",
       ".list-inline {list-style: none; margin:0; padding: 0}\n",
       ".list-inline>li {display: inline-block}\n",
       ".list-inline>li:not(:last-child)::after {content: \"\\00b7\"; padding: 0 .5ex}\n",
       "</style>\n",
       "<ol class=list-inline><li>96</li><li>11</li></ol>\n"
      ],
      "text/latex": [
       "\\begin{enumerate*}\n",
       "\\item 96\n",
       "\\item 11\n",
       "\\end{enumerate*}\n"
      ],
      "text/markdown": [
       "1. 96\n",
       "2. 11\n",
       "\n",
       "\n"
      ],
      "text/plain": [
       "[1] 96 11"
      ]
     },
     "metadata": {},
     "output_type": "display_data"
    }
   ],
   "source": [
    "df3 <- as.data.frame(subsetCommunication(cellchat, thresh = 1))\n",
    "dim(subset(df3, pval <= 0.05))\n",
    "\n",
    "dim(subset(df3, target == 'ASC1'))\n"
   ]
  },
  {
   "cell_type": "code",
   "execution_count": 33,
   "id": "fa6f3b63",
   "metadata": {},
   "outputs": [
    {
     "data": {
      "image/png": "[encoded data removed]",
      "text/plain": [
       "plot without title"
      ]
     },
     "metadata": {
      "image/png": {
       "height": 420,
       "width": 420
      }
     },
     "output_type": "display_data"
    }
   ],
   "source": [
    "VlnPlot(combined, features = c(\"nFeature_RNA\", \"nCount_RNA\", \"percent.mt\"), group.by = 'orig.ident',\n",
    "        ncol = 3, pt.size = 0)\n"
   ]
  },
  {
   "cell_type": "code",
   "execution_count": null,
   "id": "cda18848",
   "metadata": {},
   "outputs": [
    {
     "name": "stderr",
     "output_type": "stream",
     "text": [
      "Create a CellChat object from a data matrix\n",
      "\n",
      "Set cell identities for the new CellChat object\n",
      "\n"
     ]
    },
    {
     "name": "stdout",
     "output_type": "stream",
     "text": [
      "The cell groups used for CellChat analysis are  ASC1 ASC1-3 ASC2 Blym DEND1 DEND2 DEND3 DEND4 MAC1 MAC2 MAC3 MONO NEUT NKT Prolif/Diff RBC RET Schwann Tlym VEC VSMC \n",
      "Issue identified!! Please check the official Gene Symbol of the following genes:  \n",
      " H2-Q8 H2-T9 H2-T18 H2-Q9 H2-L H2-BI H2-D H60a H2-Ea-ps \n"
     ]
    },
    {
     "name": "stderr",
     "output_type": "stream",
     "text": [
      "Create a CellChat object from a data matrix\n",
      "\n",
      "Set cell identities for the new CellChat object\n",
      "\n"
     ]
    }
   ],
   "source": [
    "\n",
    "## create cellchat object\n",
    "cond = 'CONTROL'\n",
    "cellchat <- createCellChat(object = subset(combined, Treatment == cond)@assays$RNA@data,\n",
    "                           meta = subset(combined, Treatment == cond)@meta.data, group.by = \"celltype\")\n",
    "\n",
    "## cellchat\n",
    "CellChatDB <- CellChatDB.mouse # use CellChatDB.mouse if running on mouse data\n",
    "CellChatDB.use <- CellChatDB#subsetDB(CellChatDB, search = \"Secreted Signaling\") # use Secreted Signaling\n",
    "cellchat@DB <- CellChatDB.use\n",
    "\n",
    "cellchat <- subsetData(cellchat) # This step is necessary even if using the whole database\n",
    "cellchat <- identifyOverExpressedGenes(cellchat)\n",
    "cellchat <- identifyOverExpressedInteractions(cellchat)\n",
    "\n",
    "##Compute the communication probability and infer cellular communication network\n",
    "cellchat <- computeCommunProb(cellchat)\n",
    "# Filter out the cell-cell communication if there are only few number of cells in certain cell groups\n",
    "cellchat <- filterCommunication(cellchat, min.cells = 10)\n",
    "\n",
    "## Infer the cell-cell communication at a signaling pathway level\n",
    "cellchat <- computeCommunProbPathway(cellchat)\n",
    "## Calculate the aggregated cell-cell communication network\n",
    "cellchat <- aggregateNet(cellchat)\n",
    "\n",
    "saveRDS(cellchat, paste0('C57_RTCOLD_combined_Analysis_cellchat_', cond, '.rds'))\n",
    "\n"
   ]
  },
  {
   "cell_type": "code",
   "execution_count": 7,
   "id": "853561d2",
   "metadata": {},
   "outputs": [
    {
     "name": "stderr",
     "output_type": "stream",
     "text": [
      "Create a CellChat object from a data matrix\n",
      "\n",
      "Set cell identities for the new CellChat object\n",
      "\n"
     ]
    },
    {
     "name": "stdout",
     "output_type": "stream",
     "text": [
      "The cell groups used for CellChat analysis are  ASC1 ASC1-3 ASC2 Blym DEND1 DEND2 DEND3 DEND4 MAC1 MAC2 MAC3 MONO NEUT NKT Prolif/Diff RBC RET Schwann Tlym VEC VSMC \n",
      "Issue identified!! Please check the official Gene Symbol of the following genes:  \n",
      " H2-Q8 H2-T9 H2-T18 H2-Q9 H2-L H2-BI H2-D H60a H2-Ea-ps \n"
     ]
    }
   ],
   "source": [
    "\n",
    "## create cellchat object\n",
    "cond = 'COLD'\n",
    "cellchat <- createCellChat(object = subset(combined, Treatment == cond)@assays$RNA@data,\n",
    "                           meta = subset(combined, Treatment == cond)@meta.data, group.by = \"celltype\")\n",
    "\n",
    "## cellchat\n",
    "CellChatDB <- CellChatDB.mouse # use CellChatDB.mouse if running on mouse data\n",
    "CellChatDB.use <- CellChatDB#subsetDB(CellChatDB, search = \"Secreted Signaling\") # use Secreted Signaling\n",
    "cellchat@DB <- CellChatDB.use\n",
    "\n",
    "cellchat <- subsetData(cellchat) # This step is necessary even if using the whole database\n",
    "cellchat <- identifyOverExpressedGenes(cellchat)\n",
    "cellchat <- identifyOverExpressedInteractions(cellchat)\n",
    "\n",
    "##Compute the communication probability and infer cellular communication network\n",
    "cellchat <- computeCommunProb(cellchat)\n",
    "# Filter out the cell-cell communication if there are only few number of cells in certain cell groups\n",
    "cellchat <- filterCommunication(cellchat, min.cells = 10)\n",
    "\n",
    "## Infer the cell-cell communication at a signaling pathway level\n",
    "cellchat <- computeCommunProbPathway(cellchat)\n",
    "## Calculate the aggregated cell-cell communication network\n",
    "cellchat <- aggregateNet(cellchat)\n",
    "\n",
    "saveRDS(cellchat, paste0('C57_RTCOLD_combined_Analysis_cellchat_', cond, '.rds'))\n",
    "\n"
   ]
  },
  {
   "cell_type": "code",
   "execution_count": 3,
   "id": "de82f800",
   "metadata": {},
   "outputs": [],
   "source": [
    "cond = 'COLD'\n",
    "cellchat = readRDS(paste0('C57_RTCOLD_combined_Analysis_cellchat_', cond, '.rds'))\n"
   ]
  },
  {
   "cell_type": "code",
   "execution_count": 24,
   "id": "a08178f2",
   "metadata": {},
   "outputs": [
    {
     "data": {
      "text/html": [
       "<strong>png:</strong> 2"
      ],
      "text/latex": [
       "\\textbf{png:} 2"
      ],
      "text/markdown": [
       "**png:** 2"
      ],
      "text/plain": [
       "png \n",
       "  2 "
      ]
     },
     "metadata": {},
     "output_type": "display_data"
    }
   ],
   "source": [
    "df <- as.data.frame(subsetCommunication(cellchat, thresh = 1))\n",
    "df.net <- subset(df, pval < 0.05)\n",
    "df.net$pair = paste(df.net$source, df.net$target, sep = '~')\n",
    "\n",
    "## number of interaction for each cell type\n",
    "source_df = as.data.frame(table(df.net[,c('source')]))\n",
    "# reshape2::melt(plot_df, value.name = 'Freq')\n",
    "source_df$Type = 'Sender'\n",
    "target_df = as.data.frame(table(df.net[,c('target')]))\n",
    "# reshape2::melt(plot_df, value.name = 'Freq')\n",
    "target_df$Type = 'Receiver'\n",
    "\n",
    "plot_df = rbind(source_df, target_df)\n",
    "colnames(plot_df) = c('Cell_type', 'Count', 'Type')\n",
    "levels(plot_df$Type) = c('Sender', 'Receiver')\n",
    "plot_df$Cell_type = factor(as.vector(plot_df$Cell_type), levels = as.vector(source_df[order(-source_df$Freq),'Var1']))\n",
    "\n",
    "\n",
    "g = ggplot(data = plot_df,\n",
    "       aes(x = Cell_type, y = Count, fill = Type))+\n",
    "       geom_bar(stat = 'identity', position = position_dodge(width = .9))+ggstyle+\n",
    "    scale_fill_manual(values = c('Sender'='navy', 'Receiver'='darkred'))+\n",
    "    xlab('')+ylab('Number of Communications')\n",
    "pdf('commu_count_by_celltype_COLD_Day4_GSE207706.pdf', width = 6.5, height = 5)\n",
    "print(g)\n",
    "dev.off()\n",
    "\n"
   ]
  },
  {
   "cell_type": "markdown",
   "id": "8d0cccdb",
   "metadata": {},
   "source": [
    "### APC subtypes, our data"
   ]
  },
  {
   "cell_type": "code",
   "execution_count": 25,
   "id": "776c0410",
   "metadata": {},
   "outputs": [],
   "source": [
    "cellchat_allcell = readRDS('./APCsub_ourdata/allcell_updated_celltype_APCsub_updated_cellchat.newrun.rds')\n"
   ]
  },
  {
   "cell_type": "code",
   "execution_count": 37,
   "id": "5f30a3cb",
   "metadata": {},
   "outputs": [
    {
     "name": "stderr",
     "output_type": "stream",
     "text": [
      "Using Freq as value column: use value.var to override.\n",
      "\n"
     ]
    },
    {
     "data": {
      "text/html": [
       "<strong>png:</strong> 2"
      ],
      "text/latex": [
       "\\textbf{png:} 2"
      ],
      "text/markdown": [
       "**png:** 2"
      ],
      "text/plain": [
       "png \n",
       "  2 "
      ]
     },
     "metadata": {},
     "output_type": "display_data"
    }
   ],
   "source": [
    "df <- as.data.frame(subsetCommunication(cellchat_allcell, thresh = 1))\n",
    "# df$source_cond = do.call(rbind, strsplit(as.vector(df$source), '\\\\~~'))[,1]\n",
    "# df$target_cond = do.call(rbind, strsplit(as.vector(df$target), '\\\\~~'))[,1]\n",
    "# df = subset(df, source_cond == target_cond)\n",
    "\n",
    "\n",
    "## circle plot for each condition\n",
    "title = 'All Cells'\n",
    "pdf('./APCsub_ourdata/allcell_CellChat_NetPlot_updated.pdf')\n",
    "tdf = subset(df, pval < 0.05)\n",
    "# tdf$source = gsub(paste0(condition, '~'), '', as.vector(tdf$source))\n",
    "# tdf$target = gsub(paste0(condition, '~'), '', as.vector(tdf$target))\n",
    "groupSize <- table(c(tdf$source, tdf$target))\n",
    "dc = as.data.frame(table(tdf[,c('source', 'target')]))\n",
    "dc = reshape2::acast(dc, formula = source ~ target)\n",
    "dc = dc[sort(rownames(dc)), sort(rownames(dc))]\n",
    "# colnames(dc) = gsub(paste0(condition, '~'), '', colnames(dc))\n",
    "# rownames(dc) = gsub(paste0(condition, '~'), '', rownames(dc))\n",
    "\n",
    "g = netVisual_circle(dc, vertex.weight = groupSize[rownames(dc)], vertex.weight.max = 1000,\n",
    "                 weight.scale = T, label.edge= F, title.name = paste0(title, \"\\nNumber of interactions\"),\n",
    "                    alpha = .4, vertex.label.cex = .5)\n",
    "\n",
    "title = 'Pdgfra_APC~15 source'\n",
    "mat2 <- matrix(0, nrow = nrow(dc), ncol = ncol(dc), dimnames = dimnames(dc))\n",
    "mat2['Pdgfra_APC~15', ] <- dc['Pdgfra_APC~15', ]\n",
    "g = netVisual_circle(mat2, vertex.weight = groupSize[rownames(dc)], vertex.weight.max = 1000,\n",
    "                 weight.scale = T, label.edge= F, title.name = paste0(title, \"\\nNumber of interactions\"),\n",
    "                    alpha = .4, vertex.label.cex = .5)\n",
    "title = 'Pdgfra_APC~16 source'\n",
    "mat2 <- matrix(0, nrow = nrow(dc), ncol = ncol(dc), dimnames = dimnames(dc))\n",
    "mat2['Pdgfra_APC~16', ] <- dc['Pdgfra_APC~16', ]\n",
    "g = netVisual_circle(mat2, vertex.weight = groupSize[rownames(dc)], vertex.weight.max = 1000,\n",
    "                 weight.scale = T, label.edge= F, title.name = paste0(title, \"\\nNumber of interactions\"),\n",
    "                    alpha = .4, vertex.label.cex = .5)\n",
    "title = 'Pdgfra_APC~15 target'\n",
    "mat2 <- matrix(0, nrow = nrow(dc), ncol = ncol(dc), dimnames = dimnames(dc))\n",
    "mat2[,'Pdgfra_APC~15'] <- dc[,'Pdgfra_APC~15']\n",
    "g = netVisual_circle(mat2, vertex.weight = groupSize[rownames(dc)], vertex.weight.max = 1000,\n",
    "                 weight.scale = T, label.edge= F, title.name = paste0(title, \"\\nNumber of interactions\"),\n",
    "                    alpha = .4, vertex.label.cex = .5)\n",
    "title = 'Pdgfra_APC~16 target'\n",
    "mat2 <- matrix(0, nrow = nrow(dc), ncol = ncol(dc), dimnames = dimnames(dc))\n",
    "mat2[,'Pdgfra_APC~16'] <- dc[,'Pdgfra_APC~16']\n",
    "g = netVisual_circle(mat2, vertex.weight = groupSize[rownames(dc)], vertex.weight.max = 1000,\n",
    "                 weight.scale = T, label.edge= F, title.name = paste0(title, \"\\nNumber of interactions\"),\n",
    "                    alpha = .4, vertex.label.cex = .5)\n",
    "# LR_net[[condition]] = tdf\n",
    "dev.off()\n"
   ]
  },
  {
   "cell_type": "code",
   "execution_count": 75,
   "id": "28f46348",
   "metadata": {},
   "outputs": [
    {
     "name": "stderr",
     "output_type": "stream",
     "text": [
      "Comparing communications on a single object \n",
      "\n",
      "\n",
      "Comparing communications on a single object \n",
      "\n",
      "\n",
      "Comparing communications on a single object \n",
      "\n",
      "\n"
     ]
    },
    {
     "data": {
      "text/html": [
       "<strong>png:</strong> 2"
      ],
      "text/latex": [
       "\\textbf{png:} 2"
      ],
      "text/markdown": [
       "**png:** 2"
      ],
      "text/plain": [
       "png \n",
       "  2 "
      ]
     },
     "metadata": {},
     "output_type": "display_data"
    }
   ],
   "source": [
    "pdf('./APCsub_ourdata/allcell_CellChat_APCsub_LR_compare.pdf', width = 6, height = 15)\n",
    "cells = c('Basophils', 'Bcells', 'CD8T', 'Cytotoxic_T', 'ILC2s', 'Macrophages', 'NK',\n",
    "               'Treg', 'Neutrophils', 'CD4T')\n",
    "g = netVisual_bubble(cellchat_allcell, sources.use = c('Pdgfra_APC~15', 'Pdgfra_APC~16'),\n",
    "                 targets.use = cells,\n",
    "                  remove.isolate = T)\n",
    "l = NULL\n",
    "for (x in cells){\n",
    "    l = c(l, paste0('Pdgfra_APC~15 -> ', x), paste0('Pdgfra_APC~16 -> ', x))\n",
    "}\n",
    "levels(g$data$source.target) <- l\n",
    "print(g)\n",
    "\n",
    "cells = c('VSM', 'Lymph_EC', 'Pericytes', 'EC')\n",
    "g = netVisual_bubble(cellchat_allcell, sources.use = c('Pdgfra_APC~15', 'Pdgfra_APC~16'),\n",
    "                 targets.use = cells,\n",
    "                  remove.isolate = T)\n",
    "l = NULL\n",
    "for (x in cells){\n",
    "    l = c(l, paste0('Pdgfra_APC~15 -> ', x), paste0('Pdgfra_APC~16 -> ', x))\n",
    "}\n",
    "levels(g$data$source.target) <- l\n",
    "print(g)\n",
    "\n",
    "cells = c('NMSC', 'MSC')\n",
    "g = netVisual_bubble(cellchat_allcell, sources.use = c('Pdgfra_APC~15', 'Pdgfra_APC~16'),\n",
    "                 targets.use = cells,\n",
    "                  remove.isolate = T)\n",
    "l = NULL\n",
    "for (x in cells){\n",
    "    l = c(l, paste0('Pdgfra_APC~15 -> ', x), paste0('Pdgfra_APC~16 -> ', x))\n",
    "}\n",
    "levels(g$data$source.target) <- l\n",
    "print(g)\n",
    "dev.off()\n"
   ]
  },
  {
   "cell_type": "code",
   "execution_count": null,
   "id": "66d94131",
   "metadata": {},
   "outputs": [],
   "source": []
  }
 ],
 "metadata": {
  "kernelspec": {
   "display_name": "R",
   "language": "R",
   "name": "ir"
  },
  "language_info": {
   "codemirror_mode": "r",
   "file_extension": ".r",
   "mimetype": "text/x-r-source",
   "name": "R",
   "pygments_lexer": "r",
   "version": "4.1.1"
  }
 },
 "nbformat": 4,
 "nbformat_minor": 5
}
